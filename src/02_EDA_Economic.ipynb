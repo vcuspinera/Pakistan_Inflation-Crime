{
 "cells": [
  {
   "cell_type": "markdown",
   "id": "a88c8648",
   "metadata": {},
   "source": [
    "# 02 • EDA of Economic data\n",
    "EDA is an iterative tool that would help us to look into the database and describe it's information.\n",
    "\n",
    "In this EDA I analyse the data from **economic data**.\n",
    "\n",
    "## Content\n",
    "1. Sources selected\n",
    "2. Describe the data\n",
    "3. Cleaning data\n",
    "4. Missing values\n",
    "5. Analysis and Visualization\n",
    "6. Additional comments\n",
    "7. Save clean databases\n",
    "8. References"
   ]
  },
  {
   "cell_type": "markdown",
   "id": "314045a0",
   "metadata": {},
   "source": [
    "## 1. Sources selected\n",
    "\n",
    "For more info look into the jupyter notebook `01_Datacollection.ipynb` of this repo.\n",
    "\n",
    "### Economic data\n",
    "CPI monthly data from Pakistan, using information published by the Federal Bureau of Statistics, CPI (NSA, Jul.15-Jun.16=100). Also I look into other data as the World Bank but it has annual data, and Trading Economics but we should have paid for the data on this site.\n",
    "\n",
    "Also, other data as GDP and Macroeconomic data was not consider because it is annual based, so, when gathering the economic data with other the information for this project as food prices and crime data, we would lose valuable monthly information.\n",
    "\n",
    "**Source:**\n",
    "\n",
    "- Pakistan Bureau of Statistics. (2022). [CPI Monthly Price Indices](https://www.pbs.gov.pk/cpi).\n",
    "\n",
    "*Note: data from the \"Monthly Review on Price Indices\" PDF-reports, published by the Pakistan Bureau of Statistics.*"
   ]
  },
  {
   "cell_type": "markdown",
   "id": "ff3ce8fd-c2c1-4306-a58b-56b12875ab19",
   "metadata": {},
   "source": [
    "## 2. Describe the data\n",
    "Get the database ready to use:"
   ]
  },
  {
   "cell_type": "code",
   "execution_count": 1,
   "id": "534f8e81",
   "metadata": {},
   "outputs": [],
   "source": [
    "# Import libraries\n",
    "import pandas as pd\n",
    "import numpy as np\n",
    "import datetime as dt\n",
    "from datetime import datetime\n",
    "import re\n"
   ]
  },
  {
   "cell_type": "code",
   "execution_count": 2,
   "id": "559ce5bf",
   "metadata": {},
   "outputs": [
    {
     "data": {
      "text/plain": [
       "RendererRegistry.enable('mimetype')"
      ]
     },
     "execution_count": 2,
     "metadata": {},
     "output_type": "execute_result"
    }
   ],
   "source": [
    "## To install Altair look the following link\n",
    "##    https://altair-viz.github.io/getting_started/installation.html\n",
    "# !pip install altair vega_datasets #<--To install using `pip`\n",
    "# !conda install -c conda-forge altair vega_datasets #<--To install using `conda`\n",
    "\n",
    "import altair as alt\n",
    "alt.renderers.enable('mimetype')"
   ]
  },
  {
   "cell_type": "code",
   "execution_count": 3,
   "id": "2f3c4243-530f-4fd7-8be4-5cad6a6a8fa7",
   "metadata": {},
   "outputs": [],
   "source": [
    "# Load dataset\n",
    "file = \"../data/CPI_Pakistan.xlsx\"\n",
    "df_0 = pd.read_excel(io=file)"
   ]
  },
  {
   "cell_type": "code",
   "execution_count": 4,
   "id": "52cab8b2-2f64-46bf-ae22-487e90b38ebe",
   "metadata": {},
   "outputs": [
    {
     "data": {
      "text/html": [
       "<div>\n",
       "<style scoped>\n",
       "    .dataframe tbody tr th:only-of-type {\n",
       "        vertical-align: middle;\n",
       "    }\n",
       "\n",
       "    .dataframe tbody tr th {\n",
       "        vertical-align: top;\n",
       "    }\n",
       "\n",
       "    .dataframe thead th {\n",
       "        text-align: right;\n",
       "    }\n",
       "</style>\n",
       "<table border=\"1\" class=\"dataframe\">\n",
       "  <thead>\n",
       "    <tr style=\"text-align: right;\">\n",
       "      <th></th>\n",
       "      <th>Country</th>\n",
       "      <th>Pakistan</th>\n",
       "    </tr>\n",
       "  </thead>\n",
       "  <tbody>\n",
       "    <tr>\n",
       "      <th>0</th>\n",
       "      <td>Data</td>\n",
       "      <td>CPI (NSA, Jul.15-Jun.16=100)</td>\n",
       "    </tr>\n",
       "    <tr>\n",
       "      <th>1</th>\n",
       "      <td>Source</td>\n",
       "      <td>Federal Bureau of Statistics, Pakistan</td>\n",
       "    </tr>\n",
       "    <tr>\n",
       "      <th>2</th>\n",
       "      <td>Time</td>\n",
       "      <td>Monthly</td>\n",
       "    </tr>\n",
       "  </tbody>\n",
       "</table>\n",
       "</div>"
      ],
      "text/plain": [
       "  Country                                Pakistan\n",
       "0    Data            CPI (NSA, Jul.15-Jun.16=100)\n",
       "1  Source  Federal Bureau of Statistics, Pakistan\n",
       "2    Time                                 Monthly"
      ]
     },
     "execution_count": 4,
     "metadata": {},
     "output_type": "execute_result"
    }
   ],
   "source": [
    "# Save the description of variables\n",
    "description = df_0[0:3]\n",
    "description.drop(columns=[\"Unnamed: 2\"])"
   ]
  },
  {
   "cell_type": "code",
   "execution_count": 5,
   "id": "624c80e0-3f93-4c3b-b72f-63a30987c784",
   "metadata": {},
   "outputs": [
    {
     "data": {
      "text/plain": [
       "['Date', 'CPI', 'CPI: Food and Nonalcoholic Beverages']"
      ]
     },
     "execution_count": 5,
     "metadata": {},
     "output_type": "execute_result"
    }
   ],
   "source": [
    "# column names\n",
    "my_columns = df_0.iloc[4].to_list()\n",
    "my_columns"
   ]
  },
  {
   "cell_type": "code",
   "execution_count": 6,
   "id": "73f1a369-4555-4ed5-b9a1-0feebc22b31b",
   "metadata": {},
   "outputs": [],
   "source": [
    "# change column names\n",
    "df = df_0[5:len(df_0)]\n",
    "df.set_axis(my_columns, axis=1, inplace=True)\n",
    "df.reset_index(drop=True, inplace=True)"
   ]
  },
  {
   "cell_type": "code",
   "execution_count": 7,
   "id": "9e53c6d2-0463-4b8d-85af-a7458eefe64c",
   "metadata": {},
   "outputs": [
    {
     "data": {
      "text/html": [
       "<div>\n",
       "<style scoped>\n",
       "    .dataframe tbody tr th:only-of-type {\n",
       "        vertical-align: middle;\n",
       "    }\n",
       "\n",
       "    .dataframe tbody tr th {\n",
       "        vertical-align: top;\n",
       "    }\n",
       "\n",
       "    .dataframe thead th {\n",
       "        text-align: right;\n",
       "    }\n",
       "</style>\n",
       "<table border=\"1\" class=\"dataframe\">\n",
       "  <thead>\n",
       "    <tr style=\"text-align: right;\">\n",
       "      <th></th>\n",
       "      <th>Date</th>\n",
       "      <th>CPI</th>\n",
       "      <th>CPI: Food and Nonalcoholic Beverages</th>\n",
       "    </tr>\n",
       "  </thead>\n",
       "  <tbody>\n",
       "    <tr>\n",
       "      <th>0</th>\n",
       "      <td>2004-01-31 00:00:00</td>\n",
       "      <td>33.87</td>\n",
       "      <td>NaN</td>\n",
       "    </tr>\n",
       "    <tr>\n",
       "      <th>1</th>\n",
       "      <td>2004-02-29 00:00:00</td>\n",
       "      <td>33.75</td>\n",
       "      <td>NaN</td>\n",
       "    </tr>\n",
       "    <tr>\n",
       "      <th>2</th>\n",
       "      <td>2004-03-31 00:00:00</td>\n",
       "      <td>34.1</td>\n",
       "      <td>NaN</td>\n",
       "    </tr>\n",
       "    <tr>\n",
       "      <th>3</th>\n",
       "      <td>2004-04-30 00:00:00</td>\n",
       "      <td>34.42</td>\n",
       "      <td>NaN</td>\n",
       "    </tr>\n",
       "    <tr>\n",
       "      <th>4</th>\n",
       "      <td>2004-05-31 00:00:00</td>\n",
       "      <td>34.66</td>\n",
       "      <td>NaN</td>\n",
       "    </tr>\n",
       "    <tr>\n",
       "      <th>...</th>\n",
       "      <td>...</td>\n",
       "      <td>...</td>\n",
       "      <td>...</td>\n",
       "    </tr>\n",
       "    <tr>\n",
       "      <th>220</th>\n",
       "      <td>2022-05-31 00:00:00</td>\n",
       "      <td>165.23</td>\n",
       "      <td>177.9</td>\n",
       "    </tr>\n",
       "    <tr>\n",
       "      <th>221</th>\n",
       "      <td>2022-06-30 00:00:00</td>\n",
       "      <td>175.71</td>\n",
       "      <td>187.67</td>\n",
       "    </tr>\n",
       "    <tr>\n",
       "      <th>222</th>\n",
       "      <td>2022-07-31 00:00:00</td>\n",
       "      <td>183.35</td>\n",
       "      <td>195.27</td>\n",
       "    </tr>\n",
       "    <tr>\n",
       "      <th>223</th>\n",
       "      <td>2022-08-31 00:00:00</td>\n",
       "      <td>187.84</td>\n",
       "      <td>197.81</td>\n",
       "    </tr>\n",
       "    <tr>\n",
       "      <th>224</th>\n",
       "      <td>2022-09-30 00:00:00</td>\n",
       "      <td>185.68</td>\n",
       "      <td>209.21</td>\n",
       "    </tr>\n",
       "  </tbody>\n",
       "</table>\n",
       "<p>225 rows × 3 columns</p>\n",
       "</div>"
      ],
      "text/plain": [
       "                    Date     CPI CPI: Food and Nonalcoholic Beverages\n",
       "0    2004-01-31 00:00:00   33.87                                  NaN\n",
       "1    2004-02-29 00:00:00   33.75                                  NaN\n",
       "2    2004-03-31 00:00:00    34.1                                  NaN\n",
       "3    2004-04-30 00:00:00   34.42                                  NaN\n",
       "4    2004-05-31 00:00:00   34.66                                  NaN\n",
       "..                   ...     ...                                  ...\n",
       "220  2022-05-31 00:00:00  165.23                                177.9\n",
       "221  2022-06-30 00:00:00  175.71                               187.67\n",
       "222  2022-07-31 00:00:00  183.35                               195.27\n",
       "223  2022-08-31 00:00:00  187.84                               197.81\n",
       "224  2022-09-30 00:00:00  185.68                               209.21\n",
       "\n",
       "[225 rows x 3 columns]"
      ]
     },
     "execution_count": 7,
     "metadata": {},
     "output_type": "execute_result"
    }
   ],
   "source": [
    "# this is our database\n",
    "df"
   ]
  },
  {
   "cell_type": "markdown",
   "id": "7bf59bfe-160d-4158-b61d-c03bfe04ecc1",
   "metadata": {},
   "source": [
    "Describing data with descriptive statistics:"
   ]
  },
  {
   "cell_type": "code",
   "execution_count": 8,
   "id": "68643262-f816-4357-bbe5-285a97e5aa4c",
   "metadata": {},
   "outputs": [
    {
     "name": "stdout",
     "output_type": "stream",
     "text": [
      "Variables: ['Date', 'CPI', 'CPI: Food and Nonalcoholic Beverages'] \n",
      "\n",
      "<class 'pandas.core.frame.DataFrame'>\n",
      "RangeIndex: 225 entries, 0 to 224\n",
      "Data columns (total 3 columns):\n",
      " #   Column                                Non-Null Count  Dtype \n",
      "---  ------                                --------------  ----- \n",
      " 0   Date                                  225 non-null    object\n",
      " 1   CPI                                   225 non-null    object\n",
      " 2   CPI: Food and Nonalcoholic Beverages  171 non-null    object\n",
      "dtypes: object(3)\n",
      "memory usage: 5.4+ KB\n"
     ]
    }
   ],
   "source": [
    "# Variables\n",
    "print(\"Variables:\",list(df.columns),\"\\n\")\n",
    "\n",
    "# General information\n",
    "df.info()"
   ]
  },
  {
   "cell_type": "code",
   "execution_count": 9,
   "id": "d77c67b1-46cf-4618-906c-79b116f3de54",
   "metadata": {},
   "outputs": [
    {
     "data": {
      "text/html": [
       "<div>\n",
       "<style scoped>\n",
       "    .dataframe tbody tr th:only-of-type {\n",
       "        vertical-align: middle;\n",
       "    }\n",
       "\n",
       "    .dataframe tbody tr th {\n",
       "        vertical-align: top;\n",
       "    }\n",
       "\n",
       "    .dataframe thead th {\n",
       "        text-align: right;\n",
       "    }\n",
       "</style>\n",
       "<table border=\"1\" class=\"dataframe\">\n",
       "  <thead>\n",
       "    <tr style=\"text-align: right;\">\n",
       "      <th></th>\n",
       "      <th>Date</th>\n",
       "      <th>CPI</th>\n",
       "      <th>CPI: Food and Nonalcoholic Beverages</th>\n",
       "    </tr>\n",
       "  </thead>\n",
       "  <tbody>\n",
       "    <tr>\n",
       "      <th>count</th>\n",
       "      <td>225</td>\n",
       "      <td>225.0</td>\n",
       "      <td>171.00</td>\n",
       "    </tr>\n",
       "    <tr>\n",
       "      <th>unique</th>\n",
       "      <td>225</td>\n",
       "      <td>222.0</td>\n",
       "      <td>170.00</td>\n",
       "    </tr>\n",
       "    <tr>\n",
       "      <th>top</th>\n",
       "      <td>2012-03-31 00:00:00</td>\n",
       "      <td>110.0</td>\n",
       "      <td>101.54</td>\n",
       "    </tr>\n",
       "    <tr>\n",
       "      <th>freq</th>\n",
       "      <td>1</td>\n",
       "      <td>3.0</td>\n",
       "      <td>2.00</td>\n",
       "    </tr>\n",
       "  </tbody>\n",
       "</table>\n",
       "</div>"
      ],
      "text/plain": [
       "                       Date    CPI  CPI: Food and Nonalcoholic Beverages\n",
       "count                   225  225.0                                171.00\n",
       "unique                  225  222.0                                170.00\n",
       "top     2012-03-31 00:00:00  110.0                                101.54\n",
       "freq                      1    3.0                                  2.00"
      ]
     },
     "execution_count": 9,
     "metadata": {},
     "output_type": "execute_result"
    }
   ],
   "source": [
    "# Quantitative variables\n",
    "df.describe()"
   ]
  },
  {
   "cell_type": "code",
   "execution_count": 10,
   "id": "1f658482-f06e-4dc8-8383-f51e1c7f35ce",
   "metadata": {},
   "outputs": [
    {
     "data": {
      "text/html": [
       "<div>\n",
       "<style scoped>\n",
       "    .dataframe tbody tr th:only-of-type {\n",
       "        vertical-align: middle;\n",
       "    }\n",
       "\n",
       "    .dataframe tbody tr th {\n",
       "        vertical-align: top;\n",
       "    }\n",
       "\n",
       "    .dataframe thead th {\n",
       "        text-align: right;\n",
       "    }\n",
       "</style>\n",
       "<table border=\"1\" class=\"dataframe\">\n",
       "  <thead>\n",
       "    <tr style=\"text-align: right;\">\n",
       "      <th></th>\n",
       "      <th>Column name</th>\n",
       "      <th>Unique terms</th>\n",
       "    </tr>\n",
       "  </thead>\n",
       "  <tbody>\n",
       "    <tr>\n",
       "      <th>0</th>\n",
       "      <td>Date</td>\n",
       "      <td>225</td>\n",
       "    </tr>\n",
       "    <tr>\n",
       "      <th>1</th>\n",
       "      <td>CPI</td>\n",
       "      <td>222</td>\n",
       "    </tr>\n",
       "    <tr>\n",
       "      <th>2</th>\n",
       "      <td>CPI: Food and Nonalcoholic Beverages</td>\n",
       "      <td>170</td>\n",
       "    </tr>\n",
       "  </tbody>\n",
       "</table>\n",
       "</div>"
      ],
      "text/plain": [
       "                            Column name  Unique terms\n",
       "0                                  Date           225\n",
       "1                                   CPI           222\n",
       "2  CPI: Food and Nonalcoholic Beverages           170"
      ]
     },
     "execution_count": 10,
     "metadata": {},
     "output_type": "execute_result"
    }
   ],
   "source": [
    "# Unique terms per vaeriable (per column)\n",
    "pd.DataFrame(df.nunique()).reset_index().rename(columns={'index':'Column name', 0:'Unique terms'})"
   ]
  },
  {
   "cell_type": "markdown",
   "id": "55f90bb5-89d3-4fea-a75d-137d1c09cc1b",
   "metadata": {},
   "source": [
    "Looking into the variables:"
   ]
  },
  {
   "cell_type": "code",
   "execution_count": 11,
   "id": "ceccaaaa-8e59-459d-a11d-d0eb64382d77",
   "metadata": {},
   "outputs": [
    {
     "name": "stdout",
     "output_type": "stream",
     "text": [
      "- The range of `dates` goes from  2004-01-31 00:00:00 to 2022-09-30 00:00:00.\n"
     ]
    }
   ],
   "source": [
    "# dates\n",
    "print(\"- The range of `dates` goes from  {0} to {1}.\".format(df.Date.min(), df.Date.max()))"
   ]
  },
  {
   "cell_type": "code",
   "execution_count": 12,
   "id": "69b3ce3e-41b9-496f-98ca-1760dbf64fa7",
   "metadata": {},
   "outputs": [
    {
     "name": "stdout",
     "output_type": "stream",
     "text": [
      "- The range of `CPI` goes from a min 33.75 until a max 187.84\n"
     ]
    }
   ],
   "source": [
    "# CPI\n",
    "print(\"- The range of `CPI` goes from a min {0} until a max {1}\".format(df.CPI.min(),\n",
    "                                                                      df.CPI.max(), 2))"
   ]
  },
  {
   "cell_type": "code",
   "execution_count": 13,
   "id": "64c315ea-9f82-4ae3-84ad-547dca83323c",
   "metadata": {},
   "outputs": [
    {
     "name": "stdout",
     "output_type": "stream",
     "text": [
      "- The range of `CPI: Food and Nonalcoholic Beverages` goes from a min 54.17 until a max 209.21\n"
     ]
    }
   ],
   "source": [
    "# CPI: Food and Nonalcoholic Beverages\t \n",
    "print(\"- The range of `CPI: Food and Nonalcoholic Beverages` goes from a min {0} until a max {1}\".format(df[\"CPI: Food and Nonalcoholic Beverages\"].min(),\n",
    "                                                                      df[\"CPI: Food and Nonalcoholic Beverages\"].max(), 2))"
   ]
  },
  {
   "cell_type": "markdown",
   "id": "613e45cd",
   "metadata": {},
   "source": [
    "## 3. Cleaning data\n"
   ]
  },
  {
   "cell_type": "code",
   "execution_count": 14,
   "id": "bb36ac81-8625-481d-bce1-8179d5841c67",
   "metadata": {},
   "outputs": [],
   "source": [
    "# transform variables\n",
    "\n",
    "# 'price' to numeric\n",
    "try:\n",
    "    df = df.astype({'CPI':'float',\n",
    "                    'CPI: Food and Nonalcoholic Beverages':'float'})\n",
    "except:\n",
    "    next\n",
    "    \n",
    "# 'date' to datetime\n",
    "try:\n",
    "    df.Date = [i.strftime(\"%Y-%m\") for i in df.Date]\n",
    "    #df.rename(columns={\"Date\":\"Period\"}, inplace=True)\n",
    "except:\n",
    "    next"
   ]
  },
  {
   "cell_type": "code",
   "execution_count": 15,
   "id": "9eaaedcc-7b8b-4b4b-af5d-7cb068d1a4be",
   "metadata": {},
   "outputs": [],
   "source": [
    "# Add variables of monthly and annual percentahe growth\n",
    "# for `CPI` and `CPI: Food and Nonalcoholic Beverages` becasue\n",
    "# these values correspond to the monthly and annual inflation\n",
    "\n",
    "df[\"inflat_m_gral\"] = df[\"CPI\"].pct_change(periods=1)  #monthly inflation of CPI\n",
    "df[\"inflat_a_gral\"] = df[\"CPI\"].pct_change(periods=12)  #annual inflation of CPI\n",
    "df[\"inflat_m_food\"] = df[\"CPI: Food and Nonalcoholic Beverages\"].pct_change(periods=1)  #monthly inflation of CPI Food and Nonalcoholic Beverages\n",
    "df[\"inflat_a_food\"] = df[\"CPI: Food and Nonalcoholic Beverages\"].pct_change(periods=12)  #annual inflation of CPI Food and Nonalcoholic Beverages"
   ]
  },
  {
   "cell_type": "code",
   "execution_count": 16,
   "id": "b6e36724-c836-480e-93a6-cd7e87b51160",
   "metadata": {},
   "outputs": [
    {
     "data": {
      "text/html": [
       "<div>\n",
       "<style scoped>\n",
       "    .dataframe tbody tr th:only-of-type {\n",
       "        vertical-align: middle;\n",
       "    }\n",
       "\n",
       "    .dataframe tbody tr th {\n",
       "        vertical-align: top;\n",
       "    }\n",
       "\n",
       "    .dataframe thead th {\n",
       "        text-align: right;\n",
       "    }\n",
       "</style>\n",
       "<table border=\"1\" class=\"dataframe\">\n",
       "  <thead>\n",
       "    <tr style=\"text-align: right;\">\n",
       "      <th></th>\n",
       "      <th>Date</th>\n",
       "      <th>CPI</th>\n",
       "      <th>CPI: Food and Nonalcoholic Beverages</th>\n",
       "      <th>inflat_m_gral</th>\n",
       "      <th>inflat_a_gral</th>\n",
       "      <th>inflat_m_food</th>\n",
       "      <th>inflat_a_food</th>\n",
       "    </tr>\n",
       "  </thead>\n",
       "  <tbody>\n",
       "    <tr>\n",
       "      <th>0</th>\n",
       "      <td>2004-01</td>\n",
       "      <td>33.87</td>\n",
       "      <td>NaN</td>\n",
       "      <td>NaN</td>\n",
       "      <td>NaN</td>\n",
       "      <td>NaN</td>\n",
       "      <td>NaN</td>\n",
       "    </tr>\n",
       "    <tr>\n",
       "      <th>1</th>\n",
       "      <td>2004-02</td>\n",
       "      <td>33.75</td>\n",
       "      <td>NaN</td>\n",
       "      <td>-0.003543</td>\n",
       "      <td>NaN</td>\n",
       "      <td>NaN</td>\n",
       "      <td>NaN</td>\n",
       "    </tr>\n",
       "    <tr>\n",
       "      <th>2</th>\n",
       "      <td>2004-03</td>\n",
       "      <td>34.10</td>\n",
       "      <td>NaN</td>\n",
       "      <td>0.010370</td>\n",
       "      <td>NaN</td>\n",
       "      <td>NaN</td>\n",
       "      <td>NaN</td>\n",
       "    </tr>\n",
       "    <tr>\n",
       "      <th>3</th>\n",
       "      <td>2004-04</td>\n",
       "      <td>34.42</td>\n",
       "      <td>NaN</td>\n",
       "      <td>0.009384</td>\n",
       "      <td>NaN</td>\n",
       "      <td>NaN</td>\n",
       "      <td>NaN</td>\n",
       "    </tr>\n",
       "    <tr>\n",
       "      <th>4</th>\n",
       "      <td>2004-05</td>\n",
       "      <td>34.66</td>\n",
       "      <td>NaN</td>\n",
       "      <td>0.006973</td>\n",
       "      <td>NaN</td>\n",
       "      <td>NaN</td>\n",
       "      <td>NaN</td>\n",
       "    </tr>\n",
       "    <tr>\n",
       "      <th>...</th>\n",
       "      <td>...</td>\n",
       "      <td>...</td>\n",
       "      <td>...</td>\n",
       "      <td>...</td>\n",
       "      <td>...</td>\n",
       "      <td>...</td>\n",
       "      <td>...</td>\n",
       "    </tr>\n",
       "    <tr>\n",
       "      <th>220</th>\n",
       "      <td>2022-05</td>\n",
       "      <td>165.23</td>\n",
       "      <td>177.90</td>\n",
       "      <td>0.004438</td>\n",
       "      <td>0.137634</td>\n",
       "      <td>0.008618</td>\n",
       "      <td>0.172555</td>\n",
       "    </tr>\n",
       "    <tr>\n",
       "      <th>221</th>\n",
       "      <td>2022-06</td>\n",
       "      <td>175.71</td>\n",
       "      <td>187.67</td>\n",
       "      <td>0.063427</td>\n",
       "      <td>0.213299</td>\n",
       "      <td>0.054918</td>\n",
       "      <td>0.259192</td>\n",
       "    </tr>\n",
       "    <tr>\n",
       "      <th>222</th>\n",
       "      <td>2022-07</td>\n",
       "      <td>183.35</td>\n",
       "      <td>195.27</td>\n",
       "      <td>0.043481</td>\n",
       "      <td>0.249319</td>\n",
       "      <td>0.040497</td>\n",
       "      <td>0.287636</td>\n",
       "    </tr>\n",
       "    <tr>\n",
       "      <th>223</th>\n",
       "      <td>2022-08</td>\n",
       "      <td>187.84</td>\n",
       "      <td>197.81</td>\n",
       "      <td>0.024489</td>\n",
       "      <td>0.272543</td>\n",
       "      <td>0.013008</td>\n",
       "      <td>0.295331</td>\n",
       "    </tr>\n",
       "    <tr>\n",
       "      <th>224</th>\n",
       "      <td>2022-09</td>\n",
       "      <td>185.68</td>\n",
       "      <td>209.21</td>\n",
       "      <td>-0.011499</td>\n",
       "      <td>0.231790</td>\n",
       "      <td>0.057631</td>\n",
       "      <td>0.317029</td>\n",
       "    </tr>\n",
       "  </tbody>\n",
       "</table>\n",
       "<p>225 rows × 7 columns</p>\n",
       "</div>"
      ],
      "text/plain": [
       "        Date     CPI  CPI: Food and Nonalcoholic Beverages  inflat_m_gral  \\\n",
       "0    2004-01   33.87                                   NaN            NaN   \n",
       "1    2004-02   33.75                                   NaN      -0.003543   \n",
       "2    2004-03   34.10                                   NaN       0.010370   \n",
       "3    2004-04   34.42                                   NaN       0.009384   \n",
       "4    2004-05   34.66                                   NaN       0.006973   \n",
       "..       ...     ...                                   ...            ...   \n",
       "220  2022-05  165.23                                177.90       0.004438   \n",
       "221  2022-06  175.71                                187.67       0.063427   \n",
       "222  2022-07  183.35                                195.27       0.043481   \n",
       "223  2022-08  187.84                                197.81       0.024489   \n",
       "224  2022-09  185.68                                209.21      -0.011499   \n",
       "\n",
       "     inflat_a_gral  inflat_m_food  inflat_a_food  \n",
       "0              NaN            NaN            NaN  \n",
       "1              NaN            NaN            NaN  \n",
       "2              NaN            NaN            NaN  \n",
       "3              NaN            NaN            NaN  \n",
       "4              NaN            NaN            NaN  \n",
       "..             ...            ...            ...  \n",
       "220       0.137634       0.008618       0.172555  \n",
       "221       0.213299       0.054918       0.259192  \n",
       "222       0.249319       0.040497       0.287636  \n",
       "223       0.272543       0.013008       0.295331  \n",
       "224       0.231790       0.057631       0.317029  \n",
       "\n",
       "[225 rows x 7 columns]"
      ]
     },
     "execution_count": 16,
     "metadata": {},
     "output_type": "execute_result"
    }
   ],
   "source": [
    "df"
   ]
  },
  {
   "cell_type": "markdown",
   "id": "d53ff929",
   "metadata": {},
   "source": [
    "## 4. Missing values"
   ]
  },
  {
   "cell_type": "code",
   "execution_count": 17,
   "id": "ef158276-b360-4db8-8c4a-6734265db02b",
   "metadata": {},
   "outputs": [
    {
     "data": {
      "text/plain": [
       "Date                                     0\n",
       "CPI                                      0\n",
       "CPI: Food and Nonalcoholic Beverages    54\n",
       "inflat_m_gral                            1\n",
       "inflat_a_gral                           12\n",
       "inflat_m_food                           55\n",
       "inflat_a_food                           66\n",
       "dtype: int64"
      ]
     },
     "execution_count": 17,
     "metadata": {},
     "output_type": "execute_result"
    }
   ],
   "source": [
    "# Look for missing values\n",
    "df.isnull().sum()"
   ]
  },
  {
   "cell_type": "code",
   "execution_count": 18,
   "id": "73107a79-c791-4abc-a2b9-ea22cea1e8e0",
   "metadata": {},
   "outputs": [],
   "source": [
    "# # Replace all the null values with 0\n",
    "# df.fillna(0, inplace = True)\n",
    "\n",
    "# # Look again for missing values, after making the changes\n",
    "# df.isnull().sum()"
   ]
  },
  {
   "cell_type": "markdown",
   "id": "d29b3c90-074c-4b56-8e59-a6e563407d35",
   "metadata": {},
   "source": [
    "*__Note:__ We will keep the Null value (`NaN`) in that way for ploting.*"
   ]
  },
  {
   "cell_type": "markdown",
   "id": "9cc6edc3",
   "metadata": {},
   "source": [
    "## 5. Analysis and Visualization\n",
    "General overview after cleaning data and handlying missing-values"
   ]
  },
  {
   "cell_type": "code",
   "execution_count": 19,
   "id": "f248a71d-4343-4b6d-8322-7a406143416b",
   "metadata": {},
   "outputs": [
    {
     "name": "stdout",
     "output_type": "stream",
     "text": [
      "<class 'pandas.core.frame.DataFrame'>\n",
      "RangeIndex: 225 entries, 0 to 224\n",
      "Data columns (total 7 columns):\n",
      " #   Column                                Non-Null Count  Dtype  \n",
      "---  ------                                --------------  -----  \n",
      " 0   Date                                  225 non-null    object \n",
      " 1   CPI                                   225 non-null    float64\n",
      " 2   CPI: Food and Nonalcoholic Beverages  171 non-null    float64\n",
      " 3   inflat_m_gral                         224 non-null    float64\n",
      " 4   inflat_a_gral                         213 non-null    float64\n",
      " 5   inflat_m_food                         170 non-null    float64\n",
      " 6   inflat_a_food                         159 non-null    float64\n",
      "dtypes: float64(6), object(1)\n",
      "memory usage: 12.4+ KB\n"
     ]
    }
   ],
   "source": [
    "# General information, 2nd view\n",
    "df.info()"
   ]
  },
  {
   "cell_type": "code",
   "execution_count": 20,
   "id": "bde45e15-25e7-4399-aadf-31811097ebcb",
   "metadata": {},
   "outputs": [
    {
     "data": {
      "text/html": [
       "<div>\n",
       "<style scoped>\n",
       "    .dataframe tbody tr th:only-of-type {\n",
       "        vertical-align: middle;\n",
       "    }\n",
       "\n",
       "    .dataframe tbody tr th {\n",
       "        vertical-align: top;\n",
       "    }\n",
       "\n",
       "    .dataframe thead th {\n",
       "        text-align: right;\n",
       "    }\n",
       "</style>\n",
       "<table border=\"1\" class=\"dataframe\">\n",
       "  <thead>\n",
       "    <tr style=\"text-align: right;\">\n",
       "      <th></th>\n",
       "      <th>CPI</th>\n",
       "      <th>CPI: Food and Nonalcoholic Beverages</th>\n",
       "      <th>inflat_m_gral</th>\n",
       "      <th>inflat_a_gral</th>\n",
       "      <th>inflat_m_food</th>\n",
       "      <th>inflat_a_food</th>\n",
       "    </tr>\n",
       "  </thead>\n",
       "  <tbody>\n",
       "    <tr>\n",
       "      <th>count</th>\n",
       "      <td>225.000000</td>\n",
       "      <td>171.000000</td>\n",
       "      <td>224.000000</td>\n",
       "      <td>213.000000</td>\n",
       "      <td>170.000000</td>\n",
       "      <td>159.000000</td>\n",
       "    </tr>\n",
       "    <tr>\n",
       "      <th>mean</th>\n",
       "      <td>87.495511</td>\n",
       "      <td>103.937368</td>\n",
       "      <td>0.007671</td>\n",
       "      <td>0.092872</td>\n",
       "      <td>0.008143</td>\n",
       "      <td>0.092113</td>\n",
       "    </tr>\n",
       "    <tr>\n",
       "      <th>std</th>\n",
       "      <td>37.183993</td>\n",
       "      <td>31.876394</td>\n",
       "      <td>0.009681</td>\n",
       "      <td>0.048165</td>\n",
       "      <td>0.018168</td>\n",
       "      <td>0.066554</td>\n",
       "    </tr>\n",
       "    <tr>\n",
       "      <th>min</th>\n",
       "      <td>33.750000</td>\n",
       "      <td>54.170000</td>\n",
       "      <td>-0.013217</td>\n",
       "      <td>0.013287</td>\n",
       "      <td>-0.036885</td>\n",
       "      <td>-0.010636</td>\n",
       "    </tr>\n",
       "    <tr>\n",
       "      <th>25%</th>\n",
       "      <td>56.540000</td>\n",
       "      <td>84.250000</td>\n",
       "      <td>0.001830</td>\n",
       "      <td>0.061789</td>\n",
       "      <td>-0.003721</td>\n",
       "      <td>0.034518</td>\n",
       "    </tr>\n",
       "    <tr>\n",
       "      <th>50%</th>\n",
       "      <td>87.660000</td>\n",
       "      <td>100.620000</td>\n",
       "      <td>0.006355</td>\n",
       "      <td>0.085266</td>\n",
       "      <td>0.007644</td>\n",
       "      <td>0.088962</td>\n",
       "    </tr>\n",
       "    <tr>\n",
       "      <th>75%</th>\n",
       "      <td>110.000000</td>\n",
       "      <td>113.465000</td>\n",
       "      <td>0.013163</td>\n",
       "      <td>0.112401</td>\n",
       "      <td>0.020169</td>\n",
       "      <td>0.135968</td>\n",
       "    </tr>\n",
       "    <tr>\n",
       "      <th>max</th>\n",
       "      <td>187.840000</td>\n",
       "      <td>209.210000</td>\n",
       "      <td>0.063427</td>\n",
       "      <td>0.272543</td>\n",
       "      <td>0.057631</td>\n",
       "      <td>0.317029</td>\n",
       "    </tr>\n",
       "  </tbody>\n",
       "</table>\n",
       "</div>"
      ],
      "text/plain": [
       "              CPI  CPI: Food and Nonalcoholic Beverages  inflat_m_gral  \\\n",
       "count  225.000000                            171.000000     224.000000   \n",
       "mean    87.495511                            103.937368       0.007671   \n",
       "std     37.183993                             31.876394       0.009681   \n",
       "min     33.750000                             54.170000      -0.013217   \n",
       "25%     56.540000                             84.250000       0.001830   \n",
       "50%     87.660000                            100.620000       0.006355   \n",
       "75%    110.000000                            113.465000       0.013163   \n",
       "max    187.840000                            209.210000       0.063427   \n",
       "\n",
       "       inflat_a_gral  inflat_m_food  inflat_a_food  \n",
       "count     213.000000     170.000000     159.000000  \n",
       "mean        0.092872       0.008143       0.092113  \n",
       "std         0.048165       0.018168       0.066554  \n",
       "min         0.013287      -0.036885      -0.010636  \n",
       "25%         0.061789      -0.003721       0.034518  \n",
       "50%         0.085266       0.007644       0.088962  \n",
       "75%         0.112401       0.020169       0.135968  \n",
       "max         0.272543       0.057631       0.317029  "
      ]
     },
     "execution_count": 20,
     "metadata": {},
     "output_type": "execute_result"
    }
   ],
   "source": [
    "# Quanti variables, 2nd view\n",
    "df.describe()"
   ]
  },
  {
   "cell_type": "code",
   "execution_count": 21,
   "id": "6260a24e-ef02-4076-86d1-76961148e7c9",
   "metadata": {},
   "outputs": [
    {
     "data": {
      "text/html": [
       "<div>\n",
       "<style scoped>\n",
       "    .dataframe tbody tr th:only-of-type {\n",
       "        vertical-align: middle;\n",
       "    }\n",
       "\n",
       "    .dataframe tbody tr th {\n",
       "        vertical-align: top;\n",
       "    }\n",
       "\n",
       "    .dataframe thead th {\n",
       "        text-align: right;\n",
       "    }\n",
       "</style>\n",
       "<table border=\"1\" class=\"dataframe\">\n",
       "  <thead>\n",
       "    <tr style=\"text-align: right;\">\n",
       "      <th></th>\n",
       "      <th>Date</th>\n",
       "      <th>CPI</th>\n",
       "      <th>CPI: Food and Nonalcoholic Beverages</th>\n",
       "      <th>inflat_m_gral</th>\n",
       "      <th>inflat_a_gral</th>\n",
       "      <th>inflat_m_food</th>\n",
       "      <th>inflat_a_food</th>\n",
       "    </tr>\n",
       "  </thead>\n",
       "  <tbody>\n",
       "    <tr>\n",
       "      <th>221</th>\n",
       "      <td>2022-06</td>\n",
       "      <td>175.71</td>\n",
       "      <td>187.67</td>\n",
       "      <td>0.063427</td>\n",
       "      <td>0.213299</td>\n",
       "      <td>0.054918</td>\n",
       "      <td>0.259192</td>\n",
       "    </tr>\n",
       "    <tr>\n",
       "      <th>222</th>\n",
       "      <td>2022-07</td>\n",
       "      <td>183.35</td>\n",
       "      <td>195.27</td>\n",
       "      <td>0.043481</td>\n",
       "      <td>0.249319</td>\n",
       "      <td>0.040497</td>\n",
       "      <td>0.287636</td>\n",
       "    </tr>\n",
       "    <tr>\n",
       "      <th>223</th>\n",
       "      <td>2022-08</td>\n",
       "      <td>187.84</td>\n",
       "      <td>197.81</td>\n",
       "      <td>0.024489</td>\n",
       "      <td>0.272543</td>\n",
       "      <td>0.013008</td>\n",
       "      <td>0.295331</td>\n",
       "    </tr>\n",
       "    <tr>\n",
       "      <th>224</th>\n",
       "      <td>2022-09</td>\n",
       "      <td>185.68</td>\n",
       "      <td>209.21</td>\n",
       "      <td>-0.011499</td>\n",
       "      <td>0.231790</td>\n",
       "      <td>0.057631</td>\n",
       "      <td>0.317029</td>\n",
       "    </tr>\n",
       "  </tbody>\n",
       "</table>\n",
       "</div>"
      ],
      "text/plain": [
       "        Date     CPI  CPI: Food and Nonalcoholic Beverages  inflat_m_gral  \\\n",
       "221  2022-06  175.71                                187.67       0.063427   \n",
       "222  2022-07  183.35                                195.27       0.043481   \n",
       "223  2022-08  187.84                                197.81       0.024489   \n",
       "224  2022-09  185.68                                209.21      -0.011499   \n",
       "\n",
       "     inflat_a_gral  inflat_m_food  inflat_a_food  \n",
       "221       0.213299       0.054918       0.259192  \n",
       "222       0.249319       0.040497       0.287636  \n",
       "223       0.272543       0.013008       0.295331  \n",
       "224       0.231790       0.057631       0.317029  "
      ]
     },
     "execution_count": 21,
     "metadata": {},
     "output_type": "execute_result"
    }
   ],
   "source": [
    "# view of database after cleaning \n",
    "df.tail(4)"
   ]
  },
  {
   "cell_type": "markdown",
   "id": "58c73562-60a6-4b2b-aeed-80f3297d5948",
   "metadata": {},
   "source": [
    "### CPI general and food index"
   ]
  },
  {
   "cell_type": "code",
   "execution_count": 22,
   "id": "d76a80e9-5e3c-44e7-b5a6-6990c0422d3e",
   "metadata": {},
   "outputs": [
    {
     "data": {
      "text/html": [
       "<div>\n",
       "<style scoped>\n",
       "    .dataframe tbody tr th:only-of-type {\n",
       "        vertical-align: middle;\n",
       "    }\n",
       "\n",
       "    .dataframe tbody tr th {\n",
       "        vertical-align: top;\n",
       "    }\n",
       "\n",
       "    .dataframe thead th {\n",
       "        text-align: right;\n",
       "    }\n",
       "</style>\n",
       "<table border=\"1\" class=\"dataframe\">\n",
       "  <thead>\n",
       "    <tr style=\"text-align: right;\">\n",
       "      <th></th>\n",
       "      <th>Date</th>\n",
       "      <th>CPI</th>\n",
       "      <th>value</th>\n",
       "    </tr>\n",
       "  </thead>\n",
       "  <tbody>\n",
       "    <tr>\n",
       "      <th>0</th>\n",
       "      <td>2004-01</td>\n",
       "      <td>General</td>\n",
       "      <td>33.87</td>\n",
       "    </tr>\n",
       "    <tr>\n",
       "      <th>1</th>\n",
       "      <td>2004-02</td>\n",
       "      <td>General</td>\n",
       "      <td>33.75</td>\n",
       "    </tr>\n",
       "    <tr>\n",
       "      <th>2</th>\n",
       "      <td>2004-03</td>\n",
       "      <td>General</td>\n",
       "      <td>34.10</td>\n",
       "    </tr>\n",
       "    <tr>\n",
       "      <th>3</th>\n",
       "      <td>2004-04</td>\n",
       "      <td>General</td>\n",
       "      <td>34.42</td>\n",
       "    </tr>\n",
       "    <tr>\n",
       "      <th>4</th>\n",
       "      <td>2004-05</td>\n",
       "      <td>General</td>\n",
       "      <td>34.66</td>\n",
       "    </tr>\n",
       "  </tbody>\n",
       "</table>\n",
       "</div>"
      ],
      "text/plain": [
       "      Date      CPI  value\n",
       "0  2004-01  General  33.87\n",
       "1  2004-02  General  33.75\n",
       "2  2004-03  General  34.10\n",
       "3  2004-04  General  34.42\n",
       "4  2004-05  General  34.66"
      ]
     },
     "execution_count": 22,
     "metadata": {},
     "output_type": "execute_result"
    }
   ],
   "source": [
    "source = pd.DataFrame(df[['Date','CPI', 'CPI: Food and Nonalcoholic Beverages']]\\\n",
    "            .rename(columns={\"CPI\":\"General\", \"CPI: Food and Nonalcoholic Beverages\":\"Food\"}) \n",
    "            .set_index('Date').stack()).reset_index()\\\n",
    "            .rename(columns={\"level_1\":\"CPI\", 0:\"value\"})\n",
    "source.head()"
   ]
  },
  {
   "cell_type": "code",
   "execution_count": 23,
   "id": "18f4ffe1-151e-4f1b-95b2-cbf18e080321",
   "metadata": {},
   "outputs": [
    {
     "data": {
      "application/vnd.vegalite.v4+json": {
       "$schema": "https://vega.github.io/schema/vega-lite/v4.8.1.json",
       "config": {
        "view": {
         "continuousHeight": 300,
         "continuousWidth": 400
        }
       },
       "data": {
        "name": "data-20f688755015727dbf1d99385532f997"
       },
       "datasets": {
        "data-20f688755015727dbf1d99385532f997": [
         {
          "CPI": "General",
          "Date": "2004-01",
          "value": 33.87
         },
         {
          "CPI": "General",
          "Date": "2004-02",
          "value": 33.75
         },
         {
          "CPI": "General",
          "Date": "2004-03",
          "value": 34.1
         },
         {
          "CPI": "General",
          "Date": "2004-04",
          "value": 34.42
         },
         {
          "CPI": "General",
          "Date": "2004-05",
          "value": 34.66
         },
         {
          "CPI": "General",
          "Date": "2004-06",
          "value": 35.05
         },
         {
          "CPI": "General",
          "Date": "2004-07",
          "value": 35.53
         },
         {
          "CPI": "General",
          "Date": "2004-08",
          "value": 35.74
         },
         {
          "CPI": "General",
          "Date": "2004-09",
          "value": 35.87
         },
         {
          "CPI": "General",
          "Date": "2004-10",
          "value": 36.3
         },
         {
          "CPI": "General",
          "Date": "2004-11",
          "value": 36.71
         },
         {
          "CPI": "General",
          "Date": "2004-12",
          "value": 36.39
         },
         {
          "CPI": "General",
          "Date": "2005-01",
          "value": 36.75
         },
         {
          "CPI": "General",
          "Date": "2005-02",
          "value": 37.11
         },
         {
          "CPI": "General",
          "Date": "2005-03",
          "value": 37.59
         },
         {
          "CPI": "General",
          "Date": "2005-04",
          "value": 38.24
         },
         {
          "CPI": "General",
          "Date": "2005-05",
          "value": 38.08
         },
         {
          "CPI": "General",
          "Date": "2005-06",
          "value": 38.11
         },
         {
          "CPI": "General",
          "Date": "2005-07",
          "value": 38.73
         },
         {
          "CPI": "General",
          "Date": "2005-08",
          "value": 38.74
         },
         {
          "CPI": "General",
          "Date": "2005-09",
          "value": 38.93
         },
         {
          "CPI": "General",
          "Date": "2005-10",
          "value": 39.3
         },
         {
          "CPI": "General",
          "Date": "2005-11",
          "value": 39.6
         },
         {
          "CPI": "General",
          "Date": "2005-12",
          "value": 39.49
         },
         {
          "CPI": "General",
          "Date": "2006-01",
          "value": 39.97
         },
         {
          "CPI": "General",
          "Date": "2006-02",
          "value": 40.1
         },
         {
          "CPI": "General",
          "Date": "2006-03",
          "value": 40.19
         },
         {
          "CPI": "General",
          "Date": "2006-04",
          "value": 40.6
         },
         {
          "CPI": "General",
          "Date": "2006-05",
          "value": 40.78
         },
         {
          "CPI": "General",
          "Date": "2006-06",
          "value": 41.02
         },
         {
          "CPI": "General",
          "Date": "2006-07",
          "value": 41.68
         },
         {
          "CPI": "General",
          "Date": "2006-08",
          "value": 42.2
         },
         {
          "CPI": "General",
          "Date": "2006-09",
          "value": 42.34
         },
         {
          "CPI": "General",
          "Date": "2006-10",
          "value": 42.49
         },
         {
          "CPI": "General",
          "Date": "2006-11",
          "value": 42.8
         },
         {
          "CPI": "General",
          "Date": "2006-12",
          "value": 43
         },
         {
          "CPI": "General",
          "Date": "2007-01",
          "value": 42.62
         },
         {
          "CPI": "General",
          "Date": "2007-02",
          "value": 43.06
         },
         {
          "CPI": "General",
          "Date": "2007-03",
          "value": 43.27
         },
         {
          "CPI": "General",
          "Date": "2007-04",
          "value": 43.41
         },
         {
          "CPI": "General",
          "Date": "2007-05",
          "value": 43.81
         },
         {
          "CPI": "General",
          "Date": "2007-06",
          "value": 43.9
         },
         {
          "CPI": "General",
          "Date": "2007-07",
          "value": 44.34
         },
         {
          "CPI": "General",
          "Date": "2007-08",
          "value": 44.93
         },
         {
          "CPI": "General",
          "Date": "2007-09",
          "value": 45.88
         },
         {
          "CPI": "General",
          "Date": "2007-10",
          "value": 46.44
         },
         {
          "CPI": "General",
          "Date": "2007-11",
          "value": 46.51
         },
         {
          "CPI": "General",
          "Date": "2007-12",
          "value": 46.78
         },
         {
          "CPI": "General",
          "Date": "2008-01",
          "value": 47.67
         },
         {
          "CPI": "General",
          "Date": "2008-02",
          "value": 47.9
         },
         {
          "CPI": "General",
          "Date": "2008-03",
          "value": 49.38
         },
         {
          "CPI": "General",
          "Date": "2008-04",
          "value": 50.88
         },
         {
          "CPI": "General",
          "Date": "2008-05",
          "value": 52.25
         },
         {
          "CPI": "General",
          "Date": "2008-06",
          "value": 53.35
         },
         {
          "CPI": "General",
          "Date": "2008-07",
          "value": 55.13
         },
         {
          "CPI": "Food",
          "Date": "2008-07",
          "value": 54.17
         },
         {
          "CPI": "General",
          "Date": "2008-08",
          "value": 56.09
         },
         {
          "CPI": "Food",
          "Date": "2008-08",
          "value": 55.62
         },
         {
          "CPI": "General",
          "Date": "2008-09",
          "value": 56.54
         },
         {
          "CPI": "Food",
          "Date": "2008-09",
          "value": 56.32
         },
         {
          "CPI": "General",
          "Date": "2008-10",
          "value": 57.33
         },
         {
          "CPI": "Food",
          "Date": "2008-10",
          "value": 58.02
         },
         {
          "CPI": "General",
          "Date": "2008-11",
          "value": 57.14
         },
         {
          "CPI": "Food",
          "Date": "2008-11",
          "value": 56.74
         },
         {
          "CPI": "General",
          "Date": "2008-12",
          "value": 57.01
         },
         {
          "CPI": "Food",
          "Date": "2008-12",
          "value": 56.08
         },
         {
          "CPI": "General",
          "Date": "2009-01",
          "value": 57.14
         },
         {
          "CPI": "Food",
          "Date": "2009-01",
          "value": 54.92
         },
         {
          "CPI": "General",
          "Date": "2009-02",
          "value": 57.93
         },
         {
          "CPI": "Food",
          "Date": "2009-02",
          "value": 56.42
         },
         {
          "CPI": "General",
          "Date": "2009-03",
          "value": 58.14
         },
         {
          "CPI": "Food",
          "Date": "2009-03",
          "value": 56.91
         },
         {
          "CPI": "General",
          "Date": "2009-04",
          "value": 58.72
         },
         {
          "CPI": "Food",
          "Date": "2009-04",
          "value": 57.77
         },
         {
          "CPI": "General",
          "Date": "2009-05",
          "value": 58.68
         },
         {
          "CPI": "Food",
          "Date": "2009-05",
          "value": 57.48
         },
         {
          "CPI": "General",
          "Date": "2009-06",
          "value": 59.19
         },
         {
          "CPI": "Food",
          "Date": "2009-06",
          "value": 58.14
         },
         {
          "CPI": "General",
          "Date": "2009-07",
          "value": 60.09
         },
         {
          "CPI": "Food",
          "Date": "2009-07",
          "value": 60.03
         },
         {
          "CPI": "General",
          "Date": "2009-08",
          "value": 61.18
         },
         {
          "CPI": "Food",
          "Date": "2009-08",
          "value": 61.89
         },
         {
          "CPI": "General",
          "Date": "2009-09",
          "value": 61.28
         },
         {
          "CPI": "Food",
          "Date": "2009-09",
          "value": 61.99
         },
         {
          "CPI": "General",
          "Date": "2009-10",
          "value": 61.65
         },
         {
          "CPI": "Food",
          "Date": "2009-10",
          "value": 62.34
         },
         {
          "CPI": "General",
          "Date": "2009-11",
          "value": 62.46
         },
         {
          "CPI": "Food",
          "Date": "2009-11",
          "value": 63.7
         },
         {
          "CPI": "General",
          "Date": "2009-12",
          "value": 62.01
         },
         {
          "CPI": "Food",
          "Date": "2009-12",
          "value": 62.17
         },
         {
          "CPI": "General",
          "Date": "2010-01",
          "value": 63.61
         },
         {
          "CPI": "Food",
          "Date": "2010-01",
          "value": 63.4
         },
         {
          "CPI": "General",
          "Date": "2010-02",
          "value": 63.85
         },
         {
          "CPI": "Food",
          "Date": "2010-02",
          "value": 63.6
         },
         {
          "CPI": "General",
          "Date": "2010-03",
          "value": 64.65
         },
         {
          "CPI": "Food",
          "Date": "2010-03",
          "value": 64.83
         },
         {
          "CPI": "General",
          "Date": "2010-04",
          "value": 65.83
         },
         {
          "CPI": "Food",
          "Date": "2010-04",
          "value": 66.52
         },
         {
          "CPI": "General",
          "Date": "2010-05",
          "value": 65.92
         },
         {
          "CPI": "Food",
          "Date": "2010-05",
          "value": 66.73
         },
         {
          "CPI": "General",
          "Date": "2010-06",
          "value": 66.16
         },
         {
          "CPI": "Food",
          "Date": "2010-06",
          "value": 67.11
         },
         {
          "CPI": "General",
          "Date": "2010-07",
          "value": 67.53
         },
         {
          "CPI": "Food",
          "Date": "2010-07",
          "value": 68.37
         },
         {
          "CPI": "General",
          "Date": "2010-08",
          "value": 69
         },
         {
          "CPI": "Food",
          "Date": "2010-08",
          "value": 71.97
         },
         {
          "CPI": "General",
          "Date": "2010-09",
          "value": 70.41
         },
         {
          "CPI": "Food",
          "Date": "2010-09",
          "value": 75.52
         },
         {
          "CPI": "General",
          "Date": "2010-10",
          "value": 71.1
         },
         {
          "CPI": "Food",
          "Date": "2010-10",
          "value": 75.4
         },
         {
          "CPI": "General",
          "Date": "2010-11",
          "value": 71.8
         },
         {
          "CPI": "Food",
          "Date": "2010-11",
          "value": 76.65
         },
         {
          "CPI": "General",
          "Date": "2010-12",
          "value": 71.59
         },
         {
          "CPI": "Food",
          "Date": "2010-12",
          "value": 75.16
         },
         {
          "CPI": "General",
          "Date": "2011-01",
          "value": 72.46
         },
         {
          "CPI": "Food",
          "Date": "2011-01",
          "value": 76.49
         },
         {
          "CPI": "General",
          "Date": "2011-02",
          "value": 72.05
         },
         {
          "CPI": "Food",
          "Date": "2011-02",
          "value": 75.02
         },
         {
          "CPI": "General",
          "Date": "2011-03",
          "value": 73.07
         },
         {
          "CPI": "Food",
          "Date": "2011-03",
          "value": 76.72
         },
         {
          "CPI": "General",
          "Date": "2011-04",
          "value": 74.09
         },
         {
          "CPI": "Food",
          "Date": "2011-04",
          "value": 77.76
         },
         {
          "CPI": "General",
          "Date": "2011-05",
          "value": 74.25
         },
         {
          "CPI": "Food",
          "Date": "2011-05",
          "value": 77.5
         },
         {
          "CPI": "General",
          "Date": "2011-06",
          "value": 74.96
         },
         {
          "CPI": "Food",
          "Date": "2011-06",
          "value": 77.9
         },
         {
          "CPI": "General",
          "Date": "2011-07",
          "value": 75.92
         },
         {
          "CPI": "Food",
          "Date": "2011-07",
          "value": 80.26
         },
         {
          "CPI": "General",
          "Date": "2011-08",
          "value": 76.98
         },
         {
          "CPI": "Food",
          "Date": "2011-08",
          "value": 81.48
         },
         {
          "CPI": "General",
          "Date": "2011-09",
          "value": 77.77
         },
         {
          "CPI": "Food",
          "Date": "2011-09",
          "value": 82.83
         },
         {
          "CPI": "General",
          "Date": "2011-10",
          "value": 78.89
         },
         {
          "CPI": "Food",
          "Date": "2011-10",
          "value": 84.26
         },
         {
          "CPI": "General",
          "Date": "2011-11",
          "value": 79.12
         },
         {
          "CPI": "Food",
          "Date": "2011-11",
          "value": 84.33
         },
         {
          "CPI": "General",
          "Date": "2011-12",
          "value": 78.57
         },
         {
          "CPI": "Food",
          "Date": "2011-12",
          "value": 82.32
         },
         {
          "CPI": "General",
          "Date": "2012-01",
          "value": 79.77
         },
         {
          "CPI": "Food",
          "Date": "2012-01",
          "value": 83.61
         },
         {
          "CPI": "General",
          "Date": "2012-02",
          "value": 80.01
         },
         {
          "CPI": "Food",
          "Date": "2012-02",
          "value": 82.96
         },
         {
          "CPI": "General",
          "Date": "2012-03",
          "value": 80.95
         },
         {
          "CPI": "Food",
          "Date": "2012-03",
          "value": 84.24
         },
         {
          "CPI": "General",
          "Date": "2012-04",
          "value": 82.43
         },
         {
          "CPI": "Food",
          "Date": "2012-04",
          "value": 86.08
         },
         {
          "CPI": "General",
          "Date": "2012-05",
          "value": 83.38
         },
         {
          "CPI": "Food",
          "Date": "2012-05",
          "value": 86.21
         },
         {
          "CPI": "General",
          "Date": "2012-06",
          "value": 83.41
         },
         {
          "CPI": "Food",
          "Date": "2012-06",
          "value": 85.65
         },
         {
          "CPI": "General",
          "Date": "2012-07",
          "value": 83.2
         },
         {
          "CPI": "Food",
          "Date": "2012-07",
          "value": 87.26
         },
         {
          "CPI": "General",
          "Date": "2012-08",
          "value": 83.95
         },
         {
          "CPI": "Food",
          "Date": "2012-08",
          "value": 88.11
         },
         {
          "CPI": "General",
          "Date": "2012-09",
          "value": 84.61
         },
         {
          "CPI": "Food",
          "Date": "2012-09",
          "value": 88.74
         },
         {
          "CPI": "General",
          "Date": "2012-10",
          "value": 84.94
         },
         {
          "CPI": "Food",
          "Date": "2012-10",
          "value": 88.63
         },
         {
          "CPI": "General",
          "Date": "2012-11",
          "value": 84.6
         },
         {
          "CPI": "Food",
          "Date": "2012-11",
          "value": 88.3
         },
         {
          "CPI": "General",
          "Date": "2012-12",
          "value": 84.8
         },
         {
          "CPI": "Food",
          "Date": "2012-12",
          "value": 88.24
         },
         {
          "CPI": "General",
          "Date": "2013-01",
          "value": 86.21
         },
         {
          "CPI": "Food",
          "Date": "2013-01",
          "value": 89.98
         },
         {
          "CPI": "General",
          "Date": "2013-02",
          "value": 85.92
         },
         {
          "CPI": "Food",
          "Date": "2013-02",
          "value": 88.69
         },
         {
          "CPI": "General",
          "Date": "2013-03",
          "value": 86.27
         },
         {
          "CPI": "Food",
          "Date": "2013-03",
          "value": 89.18
         },
         {
          "CPI": "General",
          "Date": "2013-04",
          "value": 87.21
         },
         {
          "CPI": "Food",
          "Date": "2013-04",
          "value": 90.49
         },
         {
          "CPI": "General",
          "Date": "2013-05",
          "value": 87.66
         },
         {
          "CPI": "Food",
          "Date": "2013-05",
          "value": 91.58
         },
         {
          "CPI": "General",
          "Date": "2013-06",
          "value": 88.29
         },
         {
          "CPI": "Food",
          "Date": "2013-06",
          "value": 92.54
         },
         {
          "CPI": "General",
          "Date": "2013-07",
          "value": 90.08
         },
         {
          "CPI": "Food",
          "Date": "2013-07",
          "value": 95.06
         },
         {
          "CPI": "General",
          "Date": "2013-08",
          "value": 91.12
         },
         {
          "CPI": "Food",
          "Date": "2013-08",
          "value": 97.03
         },
         {
          "CPI": "General",
          "Date": "2013-09",
          "value": 90.86
         },
         {
          "CPI": "Food",
          "Date": "2013-09",
          "value": 95.37
         },
         {
          "CPI": "General",
          "Date": "2013-10",
          "value": 92.65
         },
         {
          "CPI": "Food",
          "Date": "2013-10",
          "value": 97.07
         },
         {
          "CPI": "General",
          "Date": "2013-11",
          "value": 93.82
         },
         {
          "CPI": "Food",
          "Date": "2013-11",
          "value": 99.77
         },
         {
          "CPI": "General",
          "Date": "2013-12",
          "value": 92.58
         },
         {
          "CPI": "Food",
          "Date": "2013-12",
          "value": 96.09
         },
         {
          "CPI": "General",
          "Date": "2014-01",
          "value": 93.03
         },
         {
          "CPI": "Food",
          "Date": "2014-01",
          "value": 95.99
         },
         {
          "CPI": "General",
          "Date": "2014-02",
          "value": 92.74
         },
         {
          "CPI": "Food",
          "Date": "2014-02",
          "value": 94.94
         },
         {
          "CPI": "General",
          "Date": "2014-03",
          "value": 93.63
         },
         {
          "CPI": "Food",
          "Date": "2014-03",
          "value": 97.06
         },
         {
          "CPI": "General",
          "Date": "2014-04",
          "value": 95.22
         },
         {
          "CPI": "Food",
          "Date": "2014-04",
          "value": 99.11
         },
         {
          "CPI": "General",
          "Date": "2014-05",
          "value": 94.97
         },
         {
          "CPI": "Food",
          "Date": "2014-05",
          "value": 97.79
         },
         {
          "CPI": "General",
          "Date": "2014-06",
          "value": 95.55
         },
         {
          "CPI": "Food",
          "Date": "2014-06",
          "value": 98.21
         },
         {
          "CPI": "General",
          "Date": "2014-07",
          "value": 97.18
         },
         {
          "CPI": "Food",
          "Date": "2014-07",
          "value": 100.95
         },
         {
          "CPI": "General",
          "Date": "2014-08",
          "value": 97.5
         },
         {
          "CPI": "Food",
          "Date": "2014-08",
          "value": 101.54
         },
         {
          "CPI": "General",
          "Date": "2014-09",
          "value": 97.84
         },
         {
          "CPI": "Food",
          "Date": "2014-09",
          "value": 101.54
         },
         {
          "CPI": "General",
          "Date": "2014-10",
          "value": 98.04
         },
         {
          "CPI": "Food",
          "Date": "2014-10",
          "value": 101.34
         },
         {
          "CPI": "General",
          "Date": "2014-11",
          "value": 97.54
         },
         {
          "CPI": "Food",
          "Date": "2014-11",
          "value": 100.85
         },
         {
          "CPI": "General",
          "Date": "2014-12",
          "value": 96.56
         },
         {
          "CPI": "Food",
          "Date": "2014-12",
          "value": 98.53
         },
         {
          "CPI": "General",
          "Date": "2015-01",
          "value": 96.64
         },
         {
          "CPI": "Food",
          "Date": "2015-01",
          "value": 98.04
         },
         {
          "CPI": "General",
          "Date": "2015-02",
          "value": 95.74
         },
         {
          "CPI": "Food",
          "Date": "2015-02",
          "value": 96.07
         },
         {
          "CPI": "General",
          "Date": "2015-03",
          "value": 95.96
         },
         {
          "CPI": "Food",
          "Date": "2015-03",
          "value": 96.59
         },
         {
          "CPI": "General",
          "Date": "2015-04",
          "value": 97.23
         },
         {
          "CPI": "Food",
          "Date": "2015-04",
          "value": 98.07
         },
         {
          "CPI": "General",
          "Date": "2015-05",
          "value": 97.97
         },
         {
          "CPI": "Food",
          "Date": "2015-05",
          "value": 99.96
         },
         {
          "CPI": "General",
          "Date": "2015-06",
          "value": 98.57
         },
         {
          "CPI": "Food",
          "Date": "2015-06",
          "value": 100.58
         },
         {
          "CPI": "General",
          "Date": "2015-07",
          "value": 99.07
         },
         {
          "CPI": "Food",
          "Date": "2015-07",
          "value": 100.62
         },
         {
          "CPI": "General",
          "Date": "2015-08",
          "value": 99.24
         },
         {
          "CPI": "Food",
          "Date": "2015-08",
          "value": 100.97
         },
         {
          "CPI": "General",
          "Date": "2015-09",
          "value": 99.14
         },
         {
          "CPI": "Food",
          "Date": "2015-09",
          "value": 100.46
         },
         {
          "CPI": "General",
          "Date": "2015-10",
          "value": 99.62
         },
         {
          "CPI": "Food",
          "Date": "2015-10",
          "value": 100.92
         },
         {
          "CPI": "General",
          "Date": "2015-11",
          "value": 100.21
         },
         {
          "CPI": "Food",
          "Date": "2015-11",
          "value": 102.18
         },
         {
          "CPI": "General",
          "Date": "2015-12",
          "value": 99.64
         },
         {
          "CPI": "Food",
          "Date": "2015-12",
          "value": 99.95
         },
         {
          "CPI": "General",
          "Date": "2016-01",
          "value": 99.85
         },
         {
          "CPI": "Food",
          "Date": "2016-01",
          "value": 99.23
         },
         {
          "CPI": "General",
          "Date": "2016-02",
          "value": 99.6
         },
         {
          "CPI": "Food",
          "Date": "2016-02",
          "value": 98.44
         },
         {
          "CPI": "General",
          "Date": "2016-03",
          "value": 99.74
         },
         {
          "CPI": "Food",
          "Date": "2016-03",
          "value": 98.96
         },
         {
          "CPI": "General",
          "Date": "2016-04",
          "value": 101.29
         },
         {
          "CPI": "Food",
          "Date": "2016-04",
          "value": 101.46
         },
         {
          "CPI": "General",
          "Date": "2016-05",
          "value": 101.07
         },
         {
          "CPI": "Food",
          "Date": "2016-05",
          "value": 100.57
         },
         {
          "CPI": "General",
          "Date": "2016-06",
          "value": 101.72
         },
         {
          "CPI": "Food",
          "Date": "2016-06",
          "value": 101.83
         },
         {
          "CPI": "General",
          "Date": "2016-07",
          "value": 103.08
         },
         {
          "CPI": "Food",
          "Date": "2016-07",
          "value": 104.56
         },
         {
          "CPI": "General",
          "Date": "2016-08",
          "value": 102.78
         },
         {
          "CPI": "Food",
          "Date": "2016-08",
          "value": 103.44
         },
         {
          "CPI": "General",
          "Date": "2016-09",
          "value": 103.15
         },
         {
          "CPI": "Food",
          "Date": "2016-09",
          "value": 103.62
         },
         {
          "CPI": "General",
          "Date": "2016-10",
          "value": 104.2
         },
         {
          "CPI": "Food",
          "Date": "2016-10",
          "value": 104.53
         },
         {
          "CPI": "General",
          "Date": "2016-11",
          "value": 104.76
         },
         {
          "CPI": "Food",
          "Date": "2016-11",
          "value": 104.73
         },
         {
          "CPI": "General",
          "Date": "2016-12",
          "value": 104.07
         },
         {
          "CPI": "Food",
          "Date": "2016-12",
          "value": 102.37
         },
         {
          "CPI": "General",
          "Date": "2017-01",
          "value": 104.56
         },
         {
          "CPI": "Food",
          "Date": "2017-01",
          "value": 101.17
         },
         {
          "CPI": "General",
          "Date": "2017-02",
          "value": 104.98
         },
         {
          "CPI": "Food",
          "Date": "2017-02",
          "value": 101.49
         },
         {
          "CPI": "General",
          "Date": "2017-03",
          "value": 106.18
         },
         {
          "CPI": "Food",
          "Date": "2017-03",
          "value": 103.55
         },
         {
          "CPI": "General",
          "Date": "2017-04",
          "value": 106.83
         },
         {
          "CPI": "Food",
          "Date": "2017-04",
          "value": 105.43
         },
         {
          "CPI": "General",
          "Date": "2017-05",
          "value": 106.38
         },
         {
          "CPI": "Food",
          "Date": "2017-05",
          "value": 105.15
         },
         {
          "CPI": "General",
          "Date": "2017-06",
          "value": 106.53
         },
         {
          "CPI": "Food",
          "Date": "2017-06",
          "value": 104.94
         },
         {
          "CPI": "General",
          "Date": "2017-07",
          "value": 107.1
         },
         {
          "CPI": "Food",
          "Date": "2017-07",
          "value": 105.31
         },
         {
          "CPI": "General",
          "Date": "2017-08",
          "value": 107.3
         },
         {
          "CPI": "Food",
          "Date": "2017-08",
          "value": 105.76
         },
         {
          "CPI": "General",
          "Date": "2017-09",
          "value": 108
         },
         {
          "CPI": "Food",
          "Date": "2017-09",
          "value": 107.25
         },
         {
          "CPI": "General",
          "Date": "2017-10",
          "value": 109.2
         },
         {
          "CPI": "Food",
          "Date": "2017-10",
          "value": 107.92
         },
         {
          "CPI": "General",
          "Date": "2017-11",
          "value": 110
         },
         {
          "CPI": "Food",
          "Date": "2017-11",
          "value": 108.34
         },
         {
          "CPI": "General",
          "Date": "2017-12",
          "value": 109.9
         },
         {
          "CPI": "Food",
          "Date": "2017-12",
          "value": 107.66
         },
         {
          "CPI": "General",
          "Date": "2018-01",
          "value": 110
         },
         {
          "CPI": "Food",
          "Date": "2018-01",
          "value": 106.33
         },
         {
          "CPI": "General",
          "Date": "2018-02",
          "value": 109.7
         },
         {
          "CPI": "Food",
          "Date": "2018-02",
          "value": 104.96
         },
         {
          "CPI": "General",
          "Date": "2018-03",
          "value": 110
         },
         {
          "CPI": "Food",
          "Date": "2018-03",
          "value": 104.57
         },
         {
          "CPI": "General",
          "Date": "2018-04",
          "value": 111.1
         },
         {
          "CPI": "Food",
          "Date": "2018-04",
          "value": 106.18
         },
         {
          "CPI": "General",
          "Date": "2018-05",
          "value": 111.7
         },
         {
          "CPI": "Food",
          "Date": "2018-05",
          "value": 107.33
         },
         {
          "CPI": "General",
          "Date": "2018-06",
          "value": 112.6
         },
         {
          "CPI": "Food",
          "Date": "2018-06",
          "value": 108.32
         },
         {
          "CPI": "General",
          "Date": "2018-07",
          "value": 114.3
         },
         {
          "CPI": "Food",
          "Date": "2018-07",
          "value": 109.01
         },
         {
          "CPI": "General",
          "Date": "2018-08",
          "value": 113.93
         },
         {
          "CPI": "Food",
          "Date": "2018-08",
          "value": 109.24
         },
         {
          "CPI": "General",
          "Date": "2018-09",
          "value": 113.9
         },
         {
          "CPI": "Food",
          "Date": "2018-09",
          "value": 108.45
         },
         {
          "CPI": "General",
          "Date": "2018-10",
          "value": 116.32
         },
         {
          "CPI": "Food",
          "Date": "2018-10",
          "value": 111.68
         },
         {
          "CPI": "General",
          "Date": "2018-11",
          "value": 116.18
         },
         {
          "CPI": "Food",
          "Date": "2018-11",
          "value": 111.03
         },
         {
          "CPI": "General",
          "Date": "2018-12",
          "value": 115.82
         },
         {
          "CPI": "Food",
          "Date": "2018-12",
          "value": 108.87
         },
         {
          "CPI": "General",
          "Date": "2019-01",
          "value": 116.12
         },
         {
          "CPI": "Food",
          "Date": "2019-01",
          "value": 109
         },
         {
          "CPI": "General",
          "Date": "2019-02",
          "value": 117.12
         },
         {
          "CPI": "Food",
          "Date": "2019-02",
          "value": 111.61
         },
         {
          "CPI": "General",
          "Date": "2019-03",
          "value": 119.46
         },
         {
          "CPI": "Food",
          "Date": "2019-03",
          "value": 115.25
         },
         {
          "CPI": "General",
          "Date": "2019-04",
          "value": 120.33
         },
         {
          "CPI": "Food",
          "Date": "2019-04",
          "value": 116.41
         },
         {
          "CPI": "General",
          "Date": "2019-05",
          "value": 121.05
         },
         {
          "CPI": "Food",
          "Date": "2019-05",
          "value": 117.72
         },
         {
          "CPI": "General",
          "Date": "2019-06",
          "value": 121.63
         },
         {
          "CPI": "Food",
          "Date": "2019-06",
          "value": 117.75
         },
         {
          "CPI": "General",
          "Date": "2019-07",
          "value": 123.86
         },
         {
          "CPI": "Food",
          "Date": "2019-07",
          "value": 118.95
         },
         {
          "CPI": "General",
          "Date": "2019-08",
          "value": 125.89
         },
         {
          "CPI": "Food",
          "Date": "2019-08",
          "value": 123.02
         },
         {
          "CPI": "General",
          "Date": "2019-09",
          "value": 126.86
         },
         {
          "CPI": "Food",
          "Date": "2019-09",
          "value": 125.63
         },
         {
          "CPI": "General",
          "Date": "2019-10",
          "value": 129.16
         },
         {
          "CPI": "Food",
          "Date": "2019-10",
          "value": 128.46
         },
         {
          "CPI": "General",
          "Date": "2019-11",
          "value": 130.9
         },
         {
          "CPI": "Food",
          "Date": "2019-11",
          "value": 132.57
         },
         {
          "CPI": "General",
          "Date": "2019-12",
          "value": 130.45
         },
         {
          "CPI": "Food",
          "Date": "2019-12",
          "value": 130.37
         },
         {
          "CPI": "General",
          "Date": "2020-01",
          "value": 133.04
         },
         {
          "CPI": "Food",
          "Date": "2020-01",
          "value": 134.81
         },
         {
          "CPI": "General",
          "Date": "2020-02",
          "value": 131.64
         },
         {
          "CPI": "Food",
          "Date": "2020-02",
          "value": 132.1
         },
         {
          "CPI": "General",
          "Date": "2020-03",
          "value": 131.69
         },
         {
          "CPI": "Food",
          "Date": "2020-03",
          "value": 132.18
         },
         {
          "CPI": "General",
          "Date": "2020-04",
          "value": 130.59
         },
         {
          "CPI": "Food",
          "Date": "2020-04",
          "value": 130.01
         },
         {
          "CPI": "General",
          "Date": "2020-05",
          "value": 131.01
         },
         {
          "CPI": "Food",
          "Date": "2020-05",
          "value": 132.13
         },
         {
          "CPI": "General",
          "Date": "2020-06",
          "value": 132.08
         },
         {
          "CPI": "Food",
          "Date": "2020-06",
          "value": 134.9
         },
         {
          "CPI": "General",
          "Date": "2020-07",
          "value": 135.38
         },
         {
          "CPI": "Food",
          "Date": "2020-07",
          "value": 140.11
         },
         {
          "CPI": "General",
          "Date": "2020-08",
          "value": 136.23
         },
         {
          "CPI": "Food",
          "Date": "2020-08",
          "value": 138.87
         },
         {
          "CPI": "General",
          "Date": "2020-09",
          "value": 138.32
         },
         {
          "CPI": "Food",
          "Date": "2020-09",
          "value": 144.14
         },
         {
          "CPI": "General",
          "Date": "2020-10",
          "value": 140.67
         },
         {
          "CPI": "Food",
          "Date": "2020-10",
          "value": 149.76
         },
         {
          "CPI": "General",
          "Date": "2020-11",
          "value": 141.83
         },
         {
          "CPI": "Food",
          "Date": "2020-11",
          "value": 152.63
         },
         {
          "CPI": "General",
          "Date": "2020-12",
          "value": 140.86
         },
         {
          "CPI": "Food",
          "Date": "2020-12",
          "value": 147.71
         },
         {
          "CPI": "General",
          "Date": "2021-01",
          "value": 140.56
         },
         {
          "CPI": "Food",
          "Date": "2021-01",
          "value": 143.79
         },
         {
          "CPI": "General",
          "Date": "2021-02",
          "value": 143.09
         },
         {
          "CPI": "Food",
          "Date": "2021-02",
          "value": 144.96
         },
         {
          "CPI": "General",
          "Date": "2021-03",
          "value": 143.61
         },
         {
          "CPI": "Food",
          "Date": "2021-03",
          "value": 147.49
         },
         {
          "CPI": "General",
          "Date": "2021-04",
          "value": 145.09
         },
         {
          "CPI": "Food",
          "Date": "2021-04",
          "value": 150.7
         },
         {
          "CPI": "General",
          "Date": "2021-05",
          "value": 145.24
         },
         {
          "CPI": "Food",
          "Date": "2021-05",
          "value": 151.72
         },
         {
          "CPI": "General",
          "Date": "2021-06",
          "value": 144.82
         },
         {
          "CPI": "Food",
          "Date": "2021-06",
          "value": 149.04
         },
         {
          "CPI": "General",
          "Date": "2021-07",
          "value": 146.76
         },
         {
          "CPI": "Food",
          "Date": "2021-07",
          "value": 151.65
         },
         {
          "CPI": "General",
          "Date": "2021-08",
          "value": 147.61
         },
         {
          "CPI": "Food",
          "Date": "2021-08",
          "value": 152.71
         },
         {
          "CPI": "General",
          "Date": "2021-09",
          "value": 150.74
         },
         {
          "CPI": "Food",
          "Date": "2021-09",
          "value": 158.85
         },
         {
          "CPI": "General",
          "Date": "2021-10",
          "value": 153.61
         },
         {
          "CPI": "Food",
          "Date": "2021-10",
          "value": 162.22
         },
         {
          "CPI": "General",
          "Date": "2021-11",
          "value": 158.18
         },
         {
          "CPI": "Food",
          "Date": "2021-11",
          "value": 168.61
         },
         {
          "CPI": "General",
          "Date": "2021-12",
          "value": 158.16
         },
         {
          "CPI": "Food",
          "Date": "2021-12",
          "value": 162.96
         },
         {
          "CPI": "General",
          "Date": "2022-01",
          "value": 158.78
         },
         {
          "CPI": "Food",
          "Date": "2022-01",
          "value": 162.23
         },
         {
          "CPI": "General",
          "Date": "2022-02",
          "value": 160.61
         },
         {
          "CPI": "Food",
          "Date": "2022-02",
          "value": 166.31
         },
         {
          "CPI": "General",
          "Date": "2022-03",
          "value": 161.88
         },
         {
          "CPI": "Food",
          "Date": "2022-03",
          "value": 170.06
         },
         {
          "CPI": "General",
          "Date": "2022-04",
          "value": 164.5
         },
         {
          "CPI": "Food",
          "Date": "2022-04",
          "value": 176.38
         },
         {
          "CPI": "General",
          "Date": "2022-05",
          "value": 165.23
         },
         {
          "CPI": "Food",
          "Date": "2022-05",
          "value": 177.9
         },
         {
          "CPI": "General",
          "Date": "2022-06",
          "value": 175.71
         },
         {
          "CPI": "Food",
          "Date": "2022-06",
          "value": 187.67
         },
         {
          "CPI": "General",
          "Date": "2022-07",
          "value": 183.35
         },
         {
          "CPI": "Food",
          "Date": "2022-07",
          "value": 195.27
         },
         {
          "CPI": "General",
          "Date": "2022-08",
          "value": 187.84
         },
         {
          "CPI": "Food",
          "Date": "2022-08",
          "value": 197.81
         },
         {
          "CPI": "General",
          "Date": "2022-09",
          "value": 185.68
         },
         {
          "CPI": "Food",
          "Date": "2022-09",
          "value": 209.21
         }
        ]
       },
       "encoding": {
        "color": {
         "field": "CPI",
         "sort": [
          "General",
          "Food"
         ],
         "type": "nominal"
        },
        "tooltip": [
         {
          "field": "CPI",
          "type": "nominal"
         },
         {
          "field": "Date",
          "type": "nominal"
         },
         {
          "field": "value",
          "type": "quantitative"
         }
        ],
        "x": {
         "field": "Date",
         "title": "Date",
         "type": "temporal"
        },
        "y": {
         "field": "value",
         "title": "Index value",
         "type": "quantitative"
        }
       },
       "height": 300,
       "mark": {
        "size": 3,
        "type": "line"
       },
       "title": "CPI: general and food index, along time",
       "width": 400
      },
      "image/png": "[encoded data removed]",
      "text/plain": [
       "<VegaLite 4 object>\n",
       "\n",
       "If you see this message, it means the renderer has not been properly enabled\n",
       "for the frontend that you are using. For more information, see\n",
       "https://altair-viz.github.io/user_guide/troubleshooting.html\n"
      ]
     },
     "execution_count": 23,
     "metadata": {},
     "output_type": "execute_result"
    }
   ],
   "source": [
    "# Plot with all products\n",
    "plot = alt.Chart(source).mark_line(size = 3).encode(\n",
    "    alt.X('Date:T', title=\"Date\"),\n",
    "    alt.Y('value:Q', title=\"Index value\"),\n",
    "    alt.Color('CPI:N', sort=[\"General\",\"Food\"]),\n",
    "    tooltip=['CPI', 'Date', 'value']\n",
    ").properties(title=\"CPI: general and food index, along time\",\n",
    "             width=400, height=300\n",
    "            )\n",
    "plot"
   ]
  },
  {
   "cell_type": "markdown",
   "id": "a64e65d4-517a-4cce-a7f4-d1f4b5b63c07",
   "metadata": {},
   "source": [
    "### Inflation general and food"
   ]
  },
  {
   "cell_type": "code",
   "execution_count": 24,
   "id": "e55e9853-14a4-4cfc-b00e-0ea833285a3d",
   "metadata": {},
   "outputs": [
    {
     "data": {
      "text/html": [
       "<div>\n",
       "<style scoped>\n",
       "    .dataframe tbody tr th:only-of-type {\n",
       "        vertical-align: middle;\n",
       "    }\n",
       "\n",
       "    .dataframe tbody tr th {\n",
       "        vertical-align: top;\n",
       "    }\n",
       "\n",
       "    .dataframe thead th {\n",
       "        text-align: right;\n",
       "    }\n",
       "</style>\n",
       "<table border=\"1\" class=\"dataframe\">\n",
       "  <thead>\n",
       "    <tr style=\"text-align: right;\">\n",
       "      <th></th>\n",
       "      <th>Date</th>\n",
       "      <th>rate</th>\n",
       "      <th>Frequency</th>\n",
       "      <th>Inflation</th>\n",
       "    </tr>\n",
       "  </thead>\n",
       "  <tbody>\n",
       "    <tr>\n",
       "      <th>761</th>\n",
       "      <td>2022-08</td>\n",
       "      <td>0.295331</td>\n",
       "      <td>Annual</td>\n",
       "      <td>Food</td>\n",
       "    </tr>\n",
       "    <tr>\n",
       "      <th>762</th>\n",
       "      <td>2022-09</td>\n",
       "      <td>-0.011499</td>\n",
       "      <td>Monthly</td>\n",
       "      <td>General</td>\n",
       "    </tr>\n",
       "    <tr>\n",
       "      <th>763</th>\n",
       "      <td>2022-09</td>\n",
       "      <td>0.231790</td>\n",
       "      <td>Annual</td>\n",
       "      <td>General</td>\n",
       "    </tr>\n",
       "    <tr>\n",
       "      <th>764</th>\n",
       "      <td>2022-09</td>\n",
       "      <td>0.057631</td>\n",
       "      <td>Monthly</td>\n",
       "      <td>Food</td>\n",
       "    </tr>\n",
       "    <tr>\n",
       "      <th>765</th>\n",
       "      <td>2022-09</td>\n",
       "      <td>0.317029</td>\n",
       "      <td>Annual</td>\n",
       "      <td>Food</td>\n",
       "    </tr>\n",
       "  </tbody>\n",
       "</table>\n",
       "</div>"
      ],
      "text/plain": [
       "        Date      rate Frequency Inflation\n",
       "761  2022-08  0.295331    Annual      Food\n",
       "762  2022-09 -0.011499   Monthly   General\n",
       "763  2022-09  0.231790    Annual   General\n",
       "764  2022-09  0.057631   Monthly      Food\n",
       "765  2022-09  0.317029    Annual      Food"
      ]
     },
     "execution_count": 24,
     "metadata": {},
     "output_type": "execute_result"
    }
   ],
   "source": [
    "source = pd.DataFrame(df.drop(columns=['CPI', 'CPI: Food and Nonalcoholic Beverages']).set_index('Date').stack()).reset_index().rename(columns={0:\"rate\"})\n",
    "\n",
    "source['Frequency'] = ['Annual' if i.find(\"_m_\")==-1 else \"Monthly\" for i in source['level_1']]\n",
    "source['Inflation'] = ['Food' if i.find(\"_gral\")==-1 else 'General' for i in source['level_1'] ]\n",
    "source.drop(columns=[\"level_1\"], inplace=True)\n",
    "source.tail()"
   ]
  },
  {
   "cell_type": "code",
   "execution_count": 25,
   "id": "92012cda-2542-4ab3-b0f0-fe0d7bb8be59",
   "metadata": {},
   "outputs": [
    {
     "data": {
      "application/vnd.vegalite.v4+json": {
       "$schema": "https://vega.github.io/schema/vega-lite/v4.8.1.json",
       "config": {
        "view": {
         "continuousHeight": 300,
         "continuousWidth": 400
        }
       },
       "data": {
        "name": "data-873b3e9284a56d6c603bceb20f4e351b"
       },
       "datasets": {
        "data-873b3e9284a56d6c603bceb20f4e351b": [
         {
          "Date": "2004-02",
          "Frequency": "Monthly",
          "Inflation": "General",
          "rate": -0.003542958370239102
         },
         {
          "Date": "2004-03",
          "Frequency": "Monthly",
          "Inflation": "General",
          "rate": 0.010370370370370363
         },
         {
          "Date": "2004-04",
          "Frequency": "Monthly",
          "Inflation": "General",
          "rate": 0.009384164222873803
         },
         {
          "Date": "2004-05",
          "Frequency": "Monthly",
          "Inflation": "General",
          "rate": 0.006972690296339179
         },
         {
          "Date": "2004-06",
          "Frequency": "Monthly",
          "Inflation": "General",
          "rate": 0.011252163877668808
         },
         {
          "Date": "2004-07",
          "Frequency": "Monthly",
          "Inflation": "General",
          "rate": 0.013694721825963097
         },
         {
          "Date": "2004-08",
          "Frequency": "Monthly",
          "Inflation": "General",
          "rate": 0.005910498170560219
         },
         {
          "Date": "2004-09",
          "Frequency": "Monthly",
          "Inflation": "General",
          "rate": 0.0036373810856182853
         },
         {
          "Date": "2004-10",
          "Frequency": "Monthly",
          "Inflation": "General",
          "rate": 0.011987733482018426
         },
         {
          "Date": "2004-11",
          "Frequency": "Monthly",
          "Inflation": "General",
          "rate": 0.011294765840220489
         },
         {
          "Date": "2004-12",
          "Frequency": "Monthly",
          "Inflation": "General",
          "rate": -0.00871697085262868
         },
         {
          "Date": "2005-01",
          "Frequency": "Monthly",
          "Inflation": "General",
          "rate": 0.009892827699917506
         },
         {
          "Date": "2005-01",
          "Frequency": "Annual",
          "Inflation": "General",
          "rate": 0.08503100088573978
         },
         {
          "Date": "2005-02",
          "Frequency": "Monthly",
          "Inflation": "General",
          "rate": 0.009795918367346834
         },
         {
          "Date": "2005-02",
          "Frequency": "Annual",
          "Inflation": "General",
          "rate": 0.09955555555555562
         },
         {
          "Date": "2005-03",
          "Frequency": "Monthly",
          "Inflation": "General",
          "rate": 0.012934518997574918
         },
         {
          "Date": "2005-03",
          "Frequency": "Annual",
          "Inflation": "General",
          "rate": 0.10234604105571843
         },
         {
          "Date": "2005-04",
          "Frequency": "Monthly",
          "Inflation": "General",
          "rate": 0.01729183293429104
         },
         {
          "Date": "2005-04",
          "Frequency": "Annual",
          "Inflation": "General",
          "rate": 0.11098198721673436
         },
         {
          "Date": "2005-05",
          "Frequency": "Monthly",
          "Inflation": "General",
          "rate": -0.004184100418410108
         },
         {
          "Date": "2005-05",
          "Frequency": "Annual",
          "Inflation": "General",
          "rate": 0.09867282169648006
         },
         {
          "Date": "2005-06",
          "Frequency": "Monthly",
          "Inflation": "General",
          "rate": 0.0007878151260505284
         },
         {
          "Date": "2005-06",
          "Frequency": "Annual",
          "Inflation": "General",
          "rate": 0.08730385164051357
         },
         {
          "Date": "2005-07",
          "Frequency": "Monthly",
          "Inflation": "General",
          "rate": 0.016268695880346407
         },
         {
          "Date": "2005-07",
          "Frequency": "Annual",
          "Inflation": "General",
          "rate": 0.0900647340275822
         },
         {
          "Date": "2005-08",
          "Frequency": "Monthly",
          "Inflation": "General",
          "rate": 0.000258197779499314
         },
         {
          "Date": "2005-08",
          "Frequency": "Annual",
          "Inflation": "General",
          "rate": 0.08393956351426968
         },
         {
          "Date": "2005-09",
          "Frequency": "Monthly",
          "Inflation": "General",
          "rate": 0.0049044914816727125
         },
         {
          "Date": "2005-09",
          "Frequency": "Annual",
          "Inflation": "General",
          "rate": 0.08530805687203791
         },
         {
          "Date": "2005-10",
          "Frequency": "Monthly",
          "Inflation": "General",
          "rate": 0.009504238376573326
         },
         {
          "Date": "2005-10",
          "Frequency": "Annual",
          "Inflation": "General",
          "rate": 0.0826446280991735
         },
         {
          "Date": "2005-11",
          "Frequency": "Monthly",
          "Inflation": "General",
          "rate": 0.007633587786259666
         },
         {
          "Date": "2005-11",
          "Frequency": "Annual",
          "Inflation": "General",
          "rate": 0.07872514301280309
         },
         {
          "Date": "2005-12",
          "Frequency": "Monthly",
          "Inflation": "General",
          "rate": -0.002777777777777768
         },
         {
          "Date": "2005-12",
          "Frequency": "Annual",
          "Inflation": "General",
          "rate": 0.08518823852706792
         },
         {
          "Date": "2006-01",
          "Frequency": "Monthly",
          "Inflation": "General",
          "rate": 0.012154975943276636
         },
         {
          "Date": "2006-01",
          "Frequency": "Annual",
          "Inflation": "General",
          "rate": 0.08761904761904749
         },
         {
          "Date": "2006-02",
          "Frequency": "Monthly",
          "Inflation": "General",
          "rate": 0.0032524393294972587
         },
         {
          "Date": "2006-02",
          "Frequency": "Annual",
          "Inflation": "General",
          "rate": 0.08057127458905966
         },
         {
          "Date": "2006-03",
          "Frequency": "Monthly",
          "Inflation": "General",
          "rate": 0.0022443890274312928
         },
         {
          "Date": "2006-03",
          "Frequency": "Annual",
          "Inflation": "General",
          "rate": 0.06916733173716394
         },
         {
          "Date": "2006-04",
          "Frequency": "Monthly",
          "Inflation": "General",
          "rate": 0.010201542672306552
         },
         {
          "Date": "2006-04",
          "Frequency": "Annual",
          "Inflation": "General",
          "rate": 0.061715481171548126
         },
         {
          "Date": "2006-05",
          "Frequency": "Monthly",
          "Inflation": "General",
          "rate": 0.004433497536945774
         },
         {
          "Date": "2006-05",
          "Frequency": "Annual",
          "Inflation": "General",
          "rate": 0.07090336134453779
         },
         {
          "Date": "2006-06",
          "Frequency": "Monthly",
          "Inflation": "General",
          "rate": 0.005885237861696924
         },
         {
          "Date": "2006-06",
          "Frequency": "Annual",
          "Inflation": "General",
          "rate": 0.07635791130936775
         },
         {
          "Date": "2006-07",
          "Frequency": "Monthly",
          "Inflation": "General",
          "rate": 0.016089712335445983
         },
         {
          "Date": "2006-07",
          "Frequency": "Annual",
          "Inflation": "General",
          "rate": 0.07616834495223346
         },
         {
          "Date": "2006-08",
          "Frequency": "Monthly",
          "Inflation": "General",
          "rate": 0.0124760076775432
         },
         {
          "Date": "2006-08",
          "Frequency": "Annual",
          "Inflation": "General",
          "rate": 0.08931337119256577
         },
         {
          "Date": "2006-09",
          "Frequency": "Monthly",
          "Inflation": "General",
          "rate": 0.0033175355450236754
         },
         {
          "Date": "2006-09",
          "Frequency": "Annual",
          "Inflation": "General",
          "rate": 0.08759311584895979
         },
         {
          "Date": "2006-10",
          "Frequency": "Monthly",
          "Inflation": "General",
          "rate": 0.003542749173358395
         },
         {
          "Date": "2006-10",
          "Frequency": "Annual",
          "Inflation": "General",
          "rate": 0.08117048346056
         },
         {
          "Date": "2006-11",
          "Frequency": "Monthly",
          "Inflation": "General",
          "rate": 0.007295834313956195
         },
         {
          "Date": "2006-11",
          "Frequency": "Annual",
          "Inflation": "General",
          "rate": 0.08080808080808066
         },
         {
          "Date": "2006-12",
          "Frequency": "Monthly",
          "Inflation": "General",
          "rate": 0.004672897196261738
         },
         {
          "Date": "2006-12",
          "Frequency": "Annual",
          "Inflation": "General",
          "rate": 0.08888326158521132
         },
         {
          "Date": "2007-01",
          "Frequency": "Monthly",
          "Inflation": "General",
          "rate": -0.008837209302325677
         },
         {
          "Date": "2007-01",
          "Frequency": "Annual",
          "Inflation": "General",
          "rate": 0.06629972479359525
         },
         {
          "Date": "2007-02",
          "Frequency": "Monthly",
          "Inflation": "General",
          "rate": 0.010323791647114167
         },
         {
          "Date": "2007-02",
          "Frequency": "Annual",
          "Inflation": "General",
          "rate": 0.07381546134663353
         },
         {
          "Date": "2007-03",
          "Frequency": "Monthly",
          "Inflation": "General",
          "rate": 0.0048769159312587185
         },
         {
          "Date": "2007-03",
          "Frequency": "Annual",
          "Inflation": "General",
          "rate": 0.07663597909927855
         },
         {
          "Date": "2007-04",
          "Frequency": "Monthly",
          "Inflation": "General",
          "rate": 0.003235498035590423
         },
         {
          "Date": "2007-04",
          "Frequency": "Annual",
          "Inflation": "General",
          "rate": 0.0692118226600984
         },
         {
          "Date": "2007-05",
          "Frequency": "Monthly",
          "Inflation": "General",
          "rate": 0.009214466712739178
         },
         {
          "Date": "2007-05",
          "Frequency": "Annual",
          "Inflation": "General",
          "rate": 0.07430112800392341
         },
         {
          "Date": "2007-06",
          "Frequency": "Monthly",
          "Inflation": "General",
          "rate": 0.002054325496462006
         },
         {
          "Date": "2007-06",
          "Frequency": "Annual",
          "Inflation": "General",
          "rate": 0.07020965382740108
         },
         {
          "Date": "2007-07",
          "Frequency": "Monthly",
          "Inflation": "General",
          "rate": 0.010022779043280305
         },
         {
          "Date": "2007-07",
          "Frequency": "Annual",
          "Inflation": "General",
          "rate": 0.06381957773512492
         },
         {
          "Date": "2007-08",
          "Frequency": "Monthly",
          "Inflation": "General",
          "rate": 0.01330626973387461
         },
         {
          "Date": "2007-08",
          "Frequency": "Annual",
          "Inflation": "General",
          "rate": 0.064691943127962
         },
         {
          "Date": "2007-09",
          "Frequency": "Monthly",
          "Inflation": "General",
          "rate": 0.02114400178054754
         },
         {
          "Date": "2007-09",
          "Frequency": "Annual",
          "Inflation": "General",
          "rate": 0.08360888049126114
         },
         {
          "Date": "2007-10",
          "Frequency": "Monthly",
          "Inflation": "General",
          "rate": 0.012205754141237923
         },
         {
          "Date": "2007-10",
          "Frequency": "Annual",
          "Inflation": "General",
          "rate": 0.09296305012944206
         },
         {
          "Date": "2007-11",
          "Frequency": "Monthly",
          "Inflation": "General",
          "rate": 0.0015073212747631626
         },
         {
          "Date": "2007-11",
          "Frequency": "Annual",
          "Inflation": "General",
          "rate": 0.08668224299065419
         },
         {
          "Date": "2007-12",
          "Frequency": "Monthly",
          "Inflation": "General",
          "rate": 0.005805203182111418
         },
         {
          "Date": "2007-12",
          "Frequency": "Annual",
          "Inflation": "General",
          "rate": 0.08790697674418602
         },
         {
          "Date": "2008-01",
          "Frequency": "Monthly",
          "Inflation": "General",
          "rate": 0.019025224454895184
         },
         {
          "Date": "2008-01",
          "Frequency": "Annual",
          "Inflation": "General",
          "rate": 0.11848897231346789
         },
         {
          "Date": "2008-02",
          "Frequency": "Monthly",
          "Inflation": "General",
          "rate": 0.004824837423956341
         },
         {
          "Date": "2008-02",
          "Frequency": "Annual",
          "Inflation": "General",
          "rate": 0.11240130051091501
         },
         {
          "Date": "2008-03",
          "Frequency": "Monthly",
          "Inflation": "General",
          "rate": 0.030897703549060518
         },
         {
          "Date": "2008-03",
          "Frequency": "Annual",
          "Inflation": "General",
          "rate": 0.14120637855327023
         },
         {
          "Date": "2008-04",
          "Frequency": "Monthly",
          "Inflation": "General",
          "rate": 0.03037667071688932
         },
         {
          "Date": "2008-04",
          "Frequency": "Annual",
          "Inflation": "General",
          "rate": 0.17208016586040098
         },
         {
          "Date": "2008-05",
          "Frequency": "Monthly",
          "Inflation": "General",
          "rate": 0.02692610062893075
         },
         {
          "Date": "2008-05",
          "Frequency": "Annual",
          "Inflation": "General",
          "rate": 0.1926500798904358
         },
         {
          "Date": "2008-06",
          "Frequency": "Monthly",
          "Inflation": "General",
          "rate": 0.021052631578947434
         },
         {
          "Date": "2008-06",
          "Frequency": "Annual",
          "Inflation": "General",
          "rate": 0.21526195899772227
         },
         {
          "Date": "2008-07",
          "Frequency": "Monthly",
          "Inflation": "General",
          "rate": 0.03336457357075906
         },
         {
          "Date": "2008-07",
          "Frequency": "Annual",
          "Inflation": "General",
          "rate": 0.24334686513306258
         },
         {
          "Date": "2008-08",
          "Frequency": "Monthly",
          "Inflation": "General",
          "rate": 0.01741338654090341
         },
         {
          "Date": "2008-08",
          "Frequency": "Annual",
          "Inflation": "General",
          "rate": 0.24838637881148462
         },
         {
          "Date": "2008-08",
          "Frequency": "Monthly",
          "Inflation": "Food",
          "rate": 0.026767583533320982
         },
         {
          "Date": "2008-09",
          "Frequency": "Monthly",
          "Inflation": "General",
          "rate": 0.00802282046710645
         },
         {
          "Date": "2008-09",
          "Frequency": "Annual",
          "Inflation": "General",
          "rate": 0.23234524847428073
         },
         {
          "Date": "2008-09",
          "Frequency": "Monthly",
          "Inflation": "Food",
          "rate": 0.012585400934915558
         },
         {
          "Date": "2008-10",
          "Frequency": "Monthly",
          "Inflation": "General",
          "rate": 0.013972408914043166
         },
         {
          "Date": "2008-10",
          "Frequency": "Annual",
          "Inflation": "General",
          "rate": 0.23449612403100772
         },
         {
          "Date": "2008-10",
          "Frequency": "Monthly",
          "Inflation": "Food",
          "rate": 0.03018465909090917
         },
         {
          "Date": "2008-11",
          "Frequency": "Monthly",
          "Inflation": "General",
          "rate": -0.003314146171289001
         },
         {
          "Date": "2008-11",
          "Frequency": "Annual",
          "Inflation": "General",
          "rate": 0.22855299935497753
         },
         {
          "Date": "2008-11",
          "Frequency": "Monthly",
          "Inflation": "Food",
          "rate": -0.02206135815236132
         },
         {
          "Date": "2008-12",
          "Frequency": "Monthly",
          "Inflation": "General",
          "rate": -0.0022751137556877854
         },
         {
          "Date": "2008-12",
          "Frequency": "Annual",
          "Inflation": "General",
          "rate": 0.21868319794784097
         },
         {
          "Date": "2008-12",
          "Frequency": "Monthly",
          "Inflation": "Food",
          "rate": -0.011632005639760412
         },
         {
          "Date": "2009-01",
          "Frequency": "Monthly",
          "Inflation": "General",
          "rate": 0.002280301701455878
         },
         {
          "Date": "2009-01",
          "Frequency": "Annual",
          "Inflation": "General",
          "rate": 0.19865743654289902
         },
         {
          "Date": "2009-01",
          "Frequency": "Monthly",
          "Inflation": "Food",
          "rate": -0.02068473609129806
         },
         {
          "Date": "2009-02",
          "Frequency": "Monthly",
          "Inflation": "General",
          "rate": 0.013825691284564234
         },
         {
          "Date": "2009-02",
          "Frequency": "Annual",
          "Inflation": "General",
          "rate": 0.2093945720250523
         },
         {
          "Date": "2009-02",
          "Frequency": "Monthly",
          "Inflation": "Food",
          "rate": 0.027312454479242465
         },
         {
          "Date": "2009-03",
          "Frequency": "Monthly",
          "Inflation": "General",
          "rate": 0.0036250647332989328
         },
         {
          "Date": "2009-03",
          "Frequency": "Annual",
          "Inflation": "General",
          "rate": 0.17739975698663413
         },
         {
          "Date": "2009-03",
          "Frequency": "Monthly",
          "Inflation": "Food",
          "rate": 0.008684863523573005
         },
         {
          "Date": "2009-04",
          "Frequency": "Monthly",
          "Inflation": "General",
          "rate": 0.009975920192638377
         },
         {
          "Date": "2009-04",
          "Frequency": "Annual",
          "Inflation": "General",
          "rate": 0.15408805031446526
         },
         {
          "Date": "2009-04",
          "Frequency": "Monthly",
          "Inflation": "Food",
          "rate": 0.015111579687225651
         },
         {
          "Date": "2009-05",
          "Frequency": "Monthly",
          "Inflation": "General",
          "rate": -0.0006811989100817817
         },
         {
          "Date": "2009-05",
          "Frequency": "Annual",
          "Inflation": "General",
          "rate": 0.12306220095693776
         },
         {
          "Date": "2009-05",
          "Frequency": "Monthly",
          "Inflation": "Food",
          "rate": -0.005019906525878581
         },
         {
          "Date": "2009-06",
          "Frequency": "Monthly",
          "Inflation": "General",
          "rate": 0.008691206543967267
         },
         {
          "Date": "2009-06",
          "Frequency": "Annual",
          "Inflation": "General",
          "rate": 0.1094657919400186
         },
         {
          "Date": "2009-06",
          "Frequency": "Monthly",
          "Inflation": "Food",
          "rate": 0.011482254697286143
         },
         {
          "Date": "2009-07",
          "Frequency": "Monthly",
          "Inflation": "General",
          "rate": 0.015205271160669165
         },
         {
          "Date": "2009-07",
          "Frequency": "Annual",
          "Inflation": "General",
          "rate": 0.08996916379466713
         },
         {
          "Date": "2009-07",
          "Frequency": "Monthly",
          "Inflation": "Food",
          "rate": 0.03250773993808043
         },
         {
          "Date": "2009-07",
          "Frequency": "Annual",
          "Inflation": "Food",
          "rate": 0.1081779582794904
         },
         {
          "Date": "2009-08",
          "Frequency": "Monthly",
          "Inflation": "General",
          "rate": 0.018139457480445875
         },
         {
          "Date": "2009-08",
          "Frequency": "Annual",
          "Inflation": "General",
          "rate": 0.09074701372793714
         },
         {
          "Date": "2009-08",
          "Frequency": "Monthly",
          "Inflation": "Food",
          "rate": 0.03098450774612682
         },
         {
          "Date": "2009-08",
          "Frequency": "Annual",
          "Inflation": "Food",
          "rate": 0.11272923408845736
         },
         {
          "Date": "2009-09",
          "Frequency": "Monthly",
          "Inflation": "General",
          "rate": 0.001634521085321916
         },
         {
          "Date": "2009-09",
          "Frequency": "Annual",
          "Inflation": "General",
          "rate": 0.083834453484259
         },
         {
          "Date": "2009-09",
          "Frequency": "Monthly",
          "Inflation": "Food",
          "rate": 0.0016157699143641846
         },
         {
          "Date": "2009-09",
          "Frequency": "Annual",
          "Inflation": "Food",
          "rate": 0.10067471590909083
         },
         {
          "Date": "2009-10",
          "Frequency": "Monthly",
          "Inflation": "General",
          "rate": 0.006037859007832935
         },
         {
          "Date": "2009-10",
          "Frequency": "Annual",
          "Inflation": "General",
          "rate": 0.07535321821036112
         },
         {
          "Date": "2009-10",
          "Frequency": "Monthly",
          "Inflation": "Food",
          "rate": 0.005646071947088327
         },
         {
          "Date": "2009-10",
          "Frequency": "Annual",
          "Inflation": "Food",
          "rate": 0.07445708376421933
         },
         {
          "Date": "2009-11",
          "Frequency": "Monthly",
          "Inflation": "General",
          "rate": 0.013138686131386912
         },
         {
          "Date": "2009-11",
          "Frequency": "Annual",
          "Inflation": "General",
          "rate": 0.09310465523276168
         },
         {
          "Date": "2009-11",
          "Frequency": "Monthly",
          "Inflation": "Food",
          "rate": 0.021815848572345198
         },
         {
          "Date": "2009-11",
          "Frequency": "Annual",
          "Inflation": "Food",
          "rate": 0.12266478674656334
         },
         {
          "Date": "2009-12",
          "Frequency": "Monthly",
          "Inflation": "General",
          "rate": -0.007204610951008661
         },
         {
          "Date": "2009-12",
          "Frequency": "Annual",
          "Inflation": "General",
          "rate": 0.08770391159445712
         },
         {
          "Date": "2009-12",
          "Frequency": "Monthly",
          "Inflation": "Food",
          "rate": -0.024018838304552648
         },
         {
          "Date": "2009-12",
          "Frequency": "Annual",
          "Inflation": "Food",
          "rate": 0.10859486447931532
         },
         {
          "Date": "2010-01",
          "Frequency": "Monthly",
          "Inflation": "General",
          "rate": 0.025802289953233304
         },
         {
          "Date": "2010-01",
          "Frequency": "Annual",
          "Inflation": "General",
          "rate": 0.1132306615330767
         },
         {
          "Date": "2010-01",
          "Frequency": "Monthly",
          "Inflation": "Food",
          "rate": 0.019784461959144295
         },
         {
          "Date": "2010-01",
          "Frequency": "Annual",
          "Inflation": "Food",
          "rate": 0.15440640932265115
         },
         {
          "Date": "2010-02",
          "Frequency": "Monthly",
          "Inflation": "General",
          "rate": 0.003772991667976733
         },
         {
          "Date": "2010-02",
          "Frequency": "Annual",
          "Inflation": "General",
          "rate": 0.10219230105299504
         },
         {
          "Date": "2010-02",
          "Frequency": "Monthly",
          "Inflation": "Food",
          "rate": 0.003154574132492094
         },
         {
          "Date": "2010-02",
          "Frequency": "Annual",
          "Inflation": "Food",
          "rate": 0.12725983693725618
         },
         {
          "Date": "2010-03",
          "Frequency": "Monthly",
          "Inflation": "General",
          "rate": 0.012529365700861383
         },
         {
          "Date": "2010-03",
          "Frequency": "Annual",
          "Inflation": "General",
          "rate": 0.11197110423116619
         },
         {
          "Date": "2010-03",
          "Frequency": "Monthly",
          "Inflation": "Food",
          "rate": 0.019339622641509457
         },
         {
          "Date": "2010-03",
          "Frequency": "Annual",
          "Inflation": "Food",
          "rate": 0.13916710595677384
         },
         {
          "Date": "2010-04",
          "Frequency": "Monthly",
          "Inflation": "General",
          "rate": 0.01825212683681343
         },
         {
          "Date": "2010-04",
          "Frequency": "Annual",
          "Inflation": "General",
          "rate": 0.1210831062670299
         },
         {
          "Date": "2010-04",
          "Frequency": "Monthly",
          "Inflation": "Food",
          "rate": 0.026068178312509627
         },
         {
          "Date": "2010-04",
          "Frequency": "Annual",
          "Inflation": "Food",
          "rate": 0.15146269690150582
         },
         {
          "Date": "2010-05",
          "Frequency": "Monthly",
          "Inflation": "General",
          "rate": 0.0013671578307763443
         },
         {
          "Date": "2010-05",
          "Frequency": "Annual",
          "Inflation": "General",
          "rate": 0.12338104976141784
         },
         {
          "Date": "2010-05",
          "Frequency": "Monthly",
          "Inflation": "Food",
          "rate": 0.0031569452796151865
         },
         {
          "Date": "2010-05",
          "Frequency": "Annual",
          "Inflation": "Food",
          "rate": 0.16092553931802378
         },
         {
          "Date": "2010-06",
          "Frequency": "Monthly",
          "Inflation": "General",
          "rate": 0.003640776699028958
         },
         {
          "Date": "2010-06",
          "Frequency": "Annual",
          "Inflation": "General",
          "rate": 0.11775637776651471
         },
         {
          "Date": "2010-06",
          "Frequency": "Monthly",
          "Inflation": "Food",
          "rate": 0.005694590139367461
         },
         {
          "Date": "2010-06",
          "Frequency": "Annual",
          "Inflation": "Food",
          "rate": 0.15428276573787403
         },
         {
          "Date": "2010-07",
          "Frequency": "Monthly",
          "Inflation": "General",
          "rate": 0.020707376058041183
         },
         {
          "Date": "2010-07",
          "Frequency": "Annual",
          "Inflation": "General",
          "rate": 0.12381427858212679
         },
         {
          "Date": "2010-07",
          "Frequency": "Monthly",
          "Inflation": "Food",
          "rate": 0.018775145283862482
         },
         {
          "Date": "2010-07",
          "Frequency": "Annual",
          "Inflation": "Food",
          "rate": 0.13893053473263373
         },
         {
          "Date": "2010-08",
          "Frequency": "Monthly",
          "Inflation": "General",
          "rate": 0.0217681030653043
         },
         {
          "Date": "2010-08",
          "Frequency": "Annual",
          "Inflation": "General",
          "rate": 0.1278195488721805
         },
         {
          "Date": "2010-08",
          "Frequency": "Monthly",
          "Inflation": "Food",
          "rate": 0.052654673102237703
         },
         {
          "Date": "2010-08",
          "Frequency": "Annual",
          "Inflation": "Food",
          "rate": 0.16286960736791078
         },
         {
          "Date": "2010-09",
          "Frequency": "Monthly",
          "Inflation": "General",
          "rate": 0.02043478260869569
         },
         {
          "Date": "2010-09",
          "Frequency": "Annual",
          "Inflation": "General",
          "rate": 0.14898825065274135
         },
         {
          "Date": "2010-09",
          "Frequency": "Monthly",
          "Inflation": "Food",
          "rate": 0.04932610810059734
         },
         {
          "Date": "2010-09",
          "Frequency": "Annual",
          "Inflation": "Food",
          "rate": 0.21826100984029662
         },
         {
          "Date": "2010-10",
          "Frequency": "Monthly",
          "Inflation": "General",
          "rate": 0.009799744354495044
         },
         {
          "Date": "2010-10",
          "Frequency": "Annual",
          "Inflation": "General",
          "rate": 0.15328467153284664
         },
         {
          "Date": "2010-10",
          "Frequency": "Monthly",
          "Inflation": "Food",
          "rate": -0.0015889830508473146
         },
         {
          "Date": "2010-10",
          "Frequency": "Annual",
          "Inflation": "Food",
          "rate": 0.20949631055502094
         },
         {
          "Date": "2010-11",
          "Frequency": "Monthly",
          "Inflation": "General",
          "rate": 0.009845288326300938
         },
         {
          "Date": "2010-11",
          "Frequency": "Annual",
          "Inflation": "General",
          "rate": 0.14953570284982387
         },
         {
          "Date": "2010-11",
          "Frequency": "Monthly",
          "Inflation": "Food",
          "rate": 0.01657824933687002
         },
         {
          "Date": "2010-11",
          "Frequency": "Annual",
          "Inflation": "Food",
          "rate": 0.20329670329670324
         },
         {
          "Date": "2010-12",
          "Frequency": "Monthly",
          "Inflation": "General",
          "rate": -0.0029247910863509086
         },
         {
          "Date": "2010-12",
          "Frequency": "Annual",
          "Inflation": "General",
          "rate": 0.15449121109498476
         },
         {
          "Date": "2010-12",
          "Frequency": "Monthly",
          "Inflation": "Food",
          "rate": -0.01943900848010449
         },
         {
          "Date": "2010-12",
          "Frequency": "Annual",
          "Inflation": "Food",
          "rate": 0.20894322020266998
         },
         {
          "Date": "2011-01",
          "Frequency": "Monthly",
          "Inflation": "General",
          "rate": 0.012152535270288922
         },
         {
          "Date": "2011-01",
          "Frequency": "Annual",
          "Inflation": "General",
          "rate": 0.1391290677566419
         },
         {
          "Date": "2011-01",
          "Frequency": "Monthly",
          "Inflation": "Food",
          "rate": 0.01769558275678551
         },
         {
          "Date": "2011-01",
          "Frequency": "Annual",
          "Inflation": "Food",
          "rate": 0.2064668769716087
         },
         {
          "Date": "2011-02",
          "Frequency": "Monthly",
          "Inflation": "General",
          "rate": -0.005658294231299932
         },
         {
          "Date": "2011-02",
          "Frequency": "Annual",
          "Inflation": "General",
          "rate": 0.12842599843382918
         },
         {
          "Date": "2011-02",
          "Frequency": "Monthly",
          "Inflation": "Food",
          "rate": -0.01921819845731465
         },
         {
          "Date": "2011-02",
          "Frequency": "Annual",
          "Inflation": "Food",
          "rate": 0.17955974842767297
         },
         {
          "Date": "2011-03",
          "Frequency": "Monthly",
          "Inflation": "General",
          "rate": 0.014156835530881207
         },
         {
          "Date": "2011-03",
          "Frequency": "Annual",
          "Inflation": "General",
          "rate": 0.13023975251353415
         },
         {
          "Date": "2011-03",
          "Frequency": "Monthly",
          "Inflation": "Food",
          "rate": 0.022660623833644422
         },
         {
          "Date": "2011-03",
          "Frequency": "Annual",
          "Inflation": "Food",
          "rate": 0.1834027456424494
         },
         {
          "Date": "2011-04",
          "Frequency": "Monthly",
          "Inflation": "General",
          "rate": 0.013959217188997064
         },
         {
          "Date": "2011-04",
          "Frequency": "Annual",
          "Inflation": "General",
          "rate": 0.1254747075801308
         },
         {
          "Date": "2011-04",
          "Frequency": "Monthly",
          "Inflation": "Food",
          "rate": 0.01355578727841511
         },
         {
          "Date": "2011-04",
          "Frequency": "Annual",
          "Inflation": "Food",
          "rate": 0.16897173782321118
         },
         {
          "Date": "2011-05",
          "Frequency": "Monthly",
          "Inflation": "General",
          "rate": 0.002159535699824522
         },
         {
          "Date": "2011-05",
          "Frequency": "Annual",
          "Inflation": "General",
          "rate": 0.1263652912621358
         },
         {
          "Date": "2011-05",
          "Frequency": "Monthly",
          "Inflation": "Food",
          "rate": -0.003343621399176988
         },
         {
          "Date": "2011-05",
          "Frequency": "Annual",
          "Inflation": "Food",
          "rate": 0.16139667316049744
         },
         {
          "Date": "2011-06",
          "Frequency": "Monthly",
          "Inflation": "General",
          "rate": 0.00956228956228955
         },
         {
          "Date": "2011-06",
          "Frequency": "Annual",
          "Inflation": "General",
          "rate": 0.1330108827085852
         },
         {
          "Date": "2011-06",
          "Frequency": "Monthly",
          "Inflation": "Food",
          "rate": 0.005161290322580614
         },
         {
          "Date": "2011-06",
          "Frequency": "Annual",
          "Inflation": "Food",
          "rate": 0.1607808076292654
         },
         {
          "Date": "2011-07",
          "Frequency": "Monthly",
          "Inflation": "General",
          "rate": 0.012806830309498585
         },
         {
          "Date": "2011-07",
          "Frequency": "Annual",
          "Inflation": "General",
          "rate": 0.12424107803938989
         },
         {
          "Date": "2011-07",
          "Frequency": "Monthly",
          "Inflation": "Food",
          "rate": 0.030295250320924172
         },
         {
          "Date": "2011-07",
          "Frequency": "Annual",
          "Inflation": "Food",
          "rate": 0.17390668421822442
         },
         {
          "Date": "2011-08",
          "Frequency": "Monthly",
          "Inflation": "General",
          "rate": 0.013962065331928342
         },
         {
          "Date": "2011-08",
          "Frequency": "Annual",
          "Inflation": "General",
          "rate": 0.11565217391304361
         },
         {
          "Date": "2011-08",
          "Frequency": "Monthly",
          "Inflation": "Food",
          "rate": 0.015200598056317016
         },
         {
          "Date": "2011-08",
          "Frequency": "Annual",
          "Inflation": "Food",
          "rate": 0.13213839099624858
         },
         {
          "Date": "2011-09",
          "Frequency": "Monthly",
          "Inflation": "General",
          "rate": 0.010262405819693399
         },
         {
          "Date": "2011-09",
          "Frequency": "Annual",
          "Inflation": "General",
          "rate": 0.10453060644794765
         },
         {
          "Date": "2011-09",
          "Frequency": "Monthly",
          "Inflation": "Food",
          "rate": 0.016568483063328365
         },
         {
          "Date": "2011-09",
          "Frequency": "Annual",
          "Inflation": "Food",
          "rate": 0.09679555084745761
         },
         {
          "Date": "2011-10",
          "Frequency": "Monthly",
          "Inflation": "General",
          "rate": 0.014401440144014455
         },
         {
          "Date": "2011-10",
          "Frequency": "Annual",
          "Inflation": "General",
          "rate": 0.10956399437412112
         },
         {
          "Date": "2011-10",
          "Frequency": "Monthly",
          "Inflation": "Food",
          "rate": 0.01726427622841964
         },
         {
          "Date": "2011-10",
          "Frequency": "Annual",
          "Inflation": "Food",
          "rate": 0.11750663129973482
         },
         {
          "Date": "2011-11",
          "Frequency": "Monthly",
          "Inflation": "General",
          "rate": 0.00291545189504383
         },
         {
          "Date": "2011-11",
          "Frequency": "Annual",
          "Inflation": "General",
          "rate": 0.10194986072423418
         },
         {
          "Date": "2011-11",
          "Frequency": "Monthly",
          "Inflation": "Food",
          "rate": 0.0008307619273675293
         },
         {
          "Date": "2011-11",
          "Frequency": "Annual",
          "Inflation": "Food",
          "rate": 0.10019569471624257
         },
         {
          "Date": "2011-12",
          "Frequency": "Monthly",
          "Inflation": "General",
          "rate": -0.0069514661274016065
         },
         {
          "Date": "2011-12",
          "Frequency": "Annual",
          "Inflation": "General",
          "rate": 0.0974996507892163
         },
         {
          "Date": "2011-12",
          "Frequency": "Monthly",
          "Inflation": "Food",
          "rate": -0.023834934187122125
         },
         {
          "Date": "2011-12",
          "Frequency": "Annual",
          "Inflation": "Food",
          "rate": 0.09526343799893566
         },
         {
          "Date": "2012-01",
          "Frequency": "Monthly",
          "Inflation": "General",
          "rate": 0.015273004963726633
         },
         {
          "Date": "2012-01",
          "Frequency": "Annual",
          "Inflation": "General",
          "rate": 0.10088324592878828
         },
         {
          "Date": "2012-01",
          "Frequency": "Monthly",
          "Inflation": "Food",
          "rate": 0.015670553935860143
         },
         {
          "Date": "2012-01",
          "Frequency": "Annual",
          "Inflation": "Food",
          "rate": 0.0930840632762453
         },
         {
          "Date": "2012-02",
          "Frequency": "Monthly",
          "Inflation": "General",
          "rate": 0.0030086498683716822
         },
         {
          "Date": "2012-02",
          "Frequency": "Annual",
          "Inflation": "General",
          "rate": 0.11047883414295634
         },
         {
          "Date": "2012-02",
          "Frequency": "Monthly",
          "Inflation": "Food",
          "rate": -0.007774189690228472
         },
         {
          "Date": "2012-02",
          "Frequency": "Annual",
          "Inflation": "Food",
          "rate": 0.10583844308184487
         },
         {
          "Date": "2012-03",
          "Frequency": "Monthly",
          "Inflation": "General",
          "rate": 0.011748531433570797
         },
         {
          "Date": "2012-03",
          "Frequency": "Annual",
          "Inflation": "General",
          "rate": 0.10784179553852491
         },
         {
          "Date": "2012-03",
          "Frequency": "Monthly",
          "Inflation": "Food",
          "rate": 0.015429122468659573
         },
         {
          "Date": "2012-03",
          "Frequency": "Annual",
          "Inflation": "Food",
          "rate": 0.09801876955161615
         },
         {
          "Date": "2012-04",
          "Frequency": "Monthly",
          "Inflation": "General",
          "rate": 0.01828289067325506
         },
         {
          "Date": "2012-04",
          "Frequency": "Annual",
          "Inflation": "General",
          "rate": 0.11256579835335412
         },
         {
          "Date": "2012-04",
          "Frequency": "Monthly",
          "Inflation": "Food",
          "rate": 0.021842355175688555
         },
         {
          "Date": "2012-04",
          "Frequency": "Annual",
          "Inflation": "Food",
          "rate": 0.10699588477366251
         },
         {
          "Date": "2012-05",
          "Frequency": "Monthly",
          "Inflation": "General",
          "rate": 0.011524930243843157
         },
         {
          "Date": "2012-05",
          "Frequency": "Annual",
          "Inflation": "General",
          "rate": 0.12296296296296294
         },
         {
          "Date": "2012-05",
          "Frequency": "Monthly",
          "Inflation": "Food",
          "rate": 0.0015102230483270418
         },
         {
          "Date": "2012-05",
          "Frequency": "Annual",
          "Inflation": "Food",
          "rate": 0.11238709677419356
         },
         {
          "Date": "2012-06",
          "Frequency": "Monthly",
          "Inflation": "General",
          "rate": 0.000359798512832743
         },
         {
          "Date": "2012-06",
          "Frequency": "Annual",
          "Inflation": "General",
          "rate": 0.11272678762006416
         },
         {
          "Date": "2012-06",
          "Frequency": "Monthly",
          "Inflation": "Food",
          "rate": -0.006495766152418425
         },
         {
          "Date": "2012-06",
          "Frequency": "Annual",
          "Inflation": "Food",
          "rate": 0.09948652118100121
         },
         {
          "Date": "2012-07",
          "Frequency": "Monthly",
          "Inflation": "General",
          "rate": -0.0025176837309673905
         },
         {
          "Date": "2012-07",
          "Frequency": "Annual",
          "Inflation": "General",
          "rate": 0.09589041095890405
         },
         {
          "Date": "2012-07",
          "Frequency": "Monthly",
          "Inflation": "Food",
          "rate": 0.018797431406888387
         },
         {
          "Date": "2012-07",
          "Frequency": "Annual",
          "Inflation": "Food",
          "rate": 0.0872165462247696
         },
         {
          "Date": "2012-08",
          "Frequency": "Monthly",
          "Inflation": "General",
          "rate": 0.009014423076923128
         },
         {
          "Date": "2012-08",
          "Frequency": "Annual",
          "Inflation": "General",
          "rate": 0.0905429981813457
         },
         {
          "Date": "2012-08",
          "Frequency": "Monthly",
          "Inflation": "Food",
          "rate": 0.009741003896401423
         },
         {
          "Date": "2012-08",
          "Frequency": "Annual",
          "Inflation": "Food",
          "rate": 0.08136966126656842
         },
         {
          "Date": "2012-09",
          "Frequency": "Monthly",
          "Inflation": "General",
          "rate": 0.00786182251340084
         },
         {
          "Date": "2012-09",
          "Frequency": "Annual",
          "Inflation": "General",
          "rate": 0.0879516523080881
         },
         {
          "Date": "2012-09",
          "Frequency": "Monthly",
          "Inflation": "Food",
          "rate": 0.007150153217568844
         },
         {
          "Date": "2012-09",
          "Frequency": "Annual",
          "Inflation": "Food",
          "rate": 0.07135095979717487
         },
         {
          "Date": "2012-10",
          "Frequency": "Monthly",
          "Inflation": "General",
          "rate": 0.003900248197612477
         },
         {
          "Date": "2012-10",
          "Frequency": "Annual",
          "Inflation": "General",
          "rate": 0.07668906071745463
         },
         {
          "Date": "2012-10",
          "Frequency": "Monthly",
          "Inflation": "Food",
          "rate": -0.0012395762902862595
         },
         {
          "Date": "2012-10",
          "Frequency": "Annual",
          "Inflation": "Food",
          "rate": 0.05186328032281029
         },
         {
          "Date": "2012-11",
          "Frequency": "Monthly",
          "Inflation": "General",
          "rate": -0.0040028255238993005
         },
         {
          "Date": "2012-11",
          "Frequency": "Annual",
          "Inflation": "General",
          "rate": 0.06926188068756312
         },
         {
          "Date": "2012-11",
          "Frequency": "Monthly",
          "Inflation": "Food",
          "rate": -0.0037233442400992356
         },
         {
          "Date": "2012-11",
          "Frequency": "Annual",
          "Inflation": "Food",
          "rate": 0.047076959563619125
         },
         {
          "Date": "2012-12",
          "Frequency": "Monthly",
          "Inflation": "General",
          "rate": 0.0023640661938535423
         },
         {
          "Date": "2012-12",
          "Frequency": "Annual",
          "Inflation": "General",
          "rate": 0.07929235077001406
         },
         {
          "Date": "2012-12",
          "Frequency": "Monthly",
          "Inflation": "Food",
          "rate": -0.0006795016987543034
         },
         {
          "Date": "2012-12",
          "Frequency": "Annual",
          "Inflation": "Food",
          "rate": 0.07191448007774537
         },
         {
          "Date": "2013-01",
          "Frequency": "Monthly",
          "Inflation": "General",
          "rate": 0.01662735849056607
         },
         {
          "Date": "2013-01",
          "Frequency": "Annual",
          "Inflation": "General",
          "rate": 0.08073210480130366
         },
         {
          "Date": "2013-01",
          "Frequency": "Monthly",
          "Inflation": "Food",
          "rate": 0.019718948322756225
         },
         {
          "Date": "2013-01",
          "Frequency": "Annual",
          "Inflation": "Food",
          "rate": 0.07618705896423883
         },
         {
          "Date": "2013-02",
          "Frequency": "Monthly",
          "Inflation": "General",
          "rate": -0.003363878900359496
         },
         {
          "Date": "2013-02",
          "Frequency": "Annual",
          "Inflation": "General",
          "rate": 0.07386576677915246
         },
         {
          "Date": "2013-02",
          "Frequency": "Monthly",
          "Inflation": "Food",
          "rate": -0.014336519226494815
         },
         {
          "Date": "2013-02",
          "Frequency": "Annual",
          "Inflation": "Food",
          "rate": 0.06906943105110908
         },
         {
          "Date": "2013-03",
          "Frequency": "Monthly",
          "Inflation": "General",
          "rate": 0.004073556797020483
         },
         {
          "Date": "2013-03",
          "Frequency": "Annual",
          "Inflation": "General",
          "rate": 0.06571957998764666
         },
         {
          "Date": "2013-03",
          "Frequency": "Monthly",
          "Inflation": "Food",
          "rate": 0.005524861878453136
         },
         {
          "Date": "2013-03",
          "Frequency": "Annual",
          "Inflation": "Food",
          "rate": 0.058641975308642014
         },
         {
          "Date": "2013-04",
          "Frequency": "Monthly",
          "Inflation": "General",
          "rate": 0.010896024110351288
         },
         {
          "Date": "2013-04",
          "Frequency": "Annual",
          "Inflation": "General",
          "rate": 0.05798859638481124
         },
         {
          "Date": "2013-04",
          "Frequency": "Monthly",
          "Inflation": "Food",
          "rate": 0.014689392240412547
         },
         {
          "Date": "2013-04",
          "Frequency": "Annual",
          "Inflation": "Food",
          "rate": 0.051231412639405116
         },
         {
          "Date": "2013-05",
          "Frequency": "Monthly",
          "Inflation": "General",
          "rate": 0.005159958720330371
         },
         {
          "Date": "2013-05",
          "Frequency": "Annual",
          "Inflation": "General",
          "rate": 0.05133125449748133
         },
         {
          "Date": "2013-05",
          "Frequency": "Monthly",
          "Inflation": "Food",
          "rate": 0.01204552989280594
         },
         {
          "Date": "2013-05",
          "Frequency": "Annual",
          "Inflation": "Food",
          "rate": 0.062289757568727566
         },
         {
          "Date": "2013-06",
          "Frequency": "Monthly",
          "Inflation": "General",
          "rate": 0.007186858316221789
         },
         {
          "Date": "2013-06",
          "Frequency": "Annual",
          "Inflation": "General",
          "rate": 0.058506174319626014
         },
         {
          "Date": "2013-06",
          "Frequency": "Monthly",
          "Inflation": "Food",
          "rate": 0.010482638130596245
         },
         {
          "Date": "2013-06",
          "Frequency": "Annual",
          "Inflation": "Food",
          "rate": 0.08044366608289555
         },
         {
          "Date": "2013-07",
          "Frequency": "Monthly",
          "Inflation": "General",
          "rate": 0.02027409672669611
         },
         {
          "Date": "2013-07",
          "Frequency": "Annual",
          "Inflation": "General",
          "rate": 0.08269230769230762
         },
         {
          "Date": "2013-07",
          "Frequency": "Monthly",
          "Inflation": "Food",
          "rate": 0.027231467473525006
         },
         {
          "Date": "2013-07",
          "Frequency": "Annual",
          "Inflation": "Food",
          "rate": 0.08938803575521437
         },
         {
          "Date": "2013-08",
          "Frequency": "Monthly",
          "Inflation": "General",
          "rate": 0.011545293072824148
         },
         {
          "Date": "2013-08",
          "Frequency": "Annual",
          "Inflation": "General",
          "rate": 0.08540798094103641
         },
         {
          "Date": "2013-08",
          "Frequency": "Monthly",
          "Inflation": "Food",
          "rate": 0.02072375341889332
         },
         {
          "Date": "2013-08",
          "Frequency": "Annual",
          "Inflation": "Food",
          "rate": 0.10123709000113501
         },
         {
          "Date": "2013-09",
          "Frequency": "Monthly",
          "Inflation": "General",
          "rate": -0.0028533801580333806
         },
         {
          "Date": "2013-09",
          "Frequency": "Annual",
          "Inflation": "General",
          "rate": 0.07386833707599583
         },
         {
          "Date": "2013-09",
          "Frequency": "Monthly",
          "Inflation": "Food",
          "rate": -0.01710811089353803
         },
         {
          "Date": "2013-09",
          "Frequency": "Annual",
          "Inflation": "Food",
          "rate": 0.0747126436781611
         },
         {
          "Date": "2013-10",
          "Frequency": "Monthly",
          "Inflation": "General",
          "rate": 0.019700638344706256
         },
         {
          "Date": "2013-10",
          "Frequency": "Annual",
          "Inflation": "General",
          "rate": 0.09076995526253828
         },
         {
          "Date": "2013-10",
          "Frequency": "Monthly",
          "Inflation": "Food",
          "rate": 0.017825311942958777
         },
         {
          "Date": "2013-10",
          "Frequency": "Annual",
          "Inflation": "Food",
          "rate": 0.09522734965587265
         },
         {
          "Date": "2013-11",
          "Frequency": "Monthly",
          "Inflation": "General",
          "rate": 0.012628170534268568
         },
         {
          "Date": "2013-11",
          "Frequency": "Annual",
          "Inflation": "General",
          "rate": 0.10898345153664302
         },
         {
          "Date": "2013-11",
          "Frequency": "Monthly",
          "Inflation": "Food",
          "rate": 0.027814978881219865
         },
         {
          "Date": "2013-11",
          "Frequency": "Annual",
          "Inflation": "Food",
          "rate": 0.12989807474518678
         },
         {
          "Date": "2013-12",
          "Frequency": "Monthly",
          "Inflation": "General",
          "rate": -0.013216798124067286
         },
         {
          "Date": "2013-12",
          "Frequency": "Annual",
          "Inflation": "General",
          "rate": 0.09174528301886786
         },
         {
          "Date": "2013-12",
          "Frequency": "Monthly",
          "Inflation": "Food",
          "rate": -0.03688483512077767
         },
         {
          "Date": "2013-12",
          "Frequency": "Annual",
          "Inflation": "Food",
          "rate": 0.08896192203082509
         },
         {
          "Date": "2014-01",
          "Frequency": "Monthly",
          "Inflation": "General",
          "rate": 0.0048606610499029035
         },
         {
          "Date": "2014-01",
          "Frequency": "Annual",
          "Inflation": "General",
          "rate": 0.0791091520705256
         },
         {
          "Date": "2014-01",
          "Frequency": "Monthly",
          "Inflation": "Food",
          "rate": -0.001040691018836637
         },
         {
          "Date": "2014-01",
          "Frequency": "Annual",
          "Inflation": "Food",
          "rate": 0.06679262058235147
         },
         {
          "Date": "2014-02",
          "Frequency": "Monthly",
          "Inflation": "General",
          "rate": -0.0031172739976352837
         },
         {
          "Date": "2014-02",
          "Frequency": "Annual",
          "Inflation": "General",
          "rate": 0.07937616387337054
         },
         {
          "Date": "2014-02",
          "Frequency": "Monthly",
          "Inflation": "Food",
          "rate": -0.010938639441608444
         },
         {
          "Date": "2014-02",
          "Frequency": "Annual",
          "Inflation": "Food",
          "rate": 0.07047017702108471
         },
         {
          "Date": "2014-03",
          "Frequency": "Monthly",
          "Inflation": "General",
          "rate": 0.009596722018546444
         },
         {
          "Date": "2014-03",
          "Frequency": "Annual",
          "Inflation": "General",
          "rate": 0.08531355048104783
         },
         {
          "Date": "2014-03",
          "Frequency": "Monthly",
          "Inflation": "Food",
          "rate": 0.02232989256372453
         },
         {
          "Date": "2014-03",
          "Frequency": "Annual",
          "Inflation": "Food",
          "rate": 0.08836061897286385
         },
         {
          "Date": "2014-04",
          "Frequency": "Monthly",
          "Inflation": "General",
          "rate": 0.016981736622877275
         },
         {
          "Date": "2014-04",
          "Frequency": "Annual",
          "Inflation": "General",
          "rate": 0.09184726522187825
         },
         {
          "Date": "2014-04",
          "Frequency": "Monthly",
          "Inflation": "Food",
          "rate": 0.021120956109622835
         },
         {
          "Date": "2014-04",
          "Frequency": "Annual",
          "Inflation": "Food",
          "rate": 0.09525914465686824
         },
         {
          "Date": "2014-05",
          "Frequency": "Monthly",
          "Inflation": "General",
          "rate": -0.0026254988447804717
         },
         {
          "Date": "2014-05",
          "Frequency": "Annual",
          "Inflation": "General",
          "rate": 0.08339037189139864
         },
         {
          "Date": "2014-05",
          "Frequency": "Monthly",
          "Inflation": "Food",
          "rate": -0.013318534961154205
         },
         {
          "Date": "2014-05",
          "Frequency": "Annual",
          "Inflation": "Food",
          "rate": 0.06780956540729433
         },
         {
          "Date": "2014-06",
          "Frequency": "Monthly",
          "Inflation": "General",
          "rate": 0.0061071917447614865
         },
         {
          "Date": "2014-06",
          "Frequency": "Annual",
          "Inflation": "General",
          "rate": 0.08222901800883431
         },
         {
          "Date": "2014-06",
          "Frequency": "Monthly",
          "Inflation": "Food",
          "rate": 0.0042949176807443035
         },
         {
          "Date": "2014-06",
          "Frequency": "Annual",
          "Inflation": "Food",
          "rate": 0.0612708018154311
         },
         {
          "Date": "2014-07",
          "Frequency": "Monthly",
          "Inflation": "General",
          "rate": 0.017059131344845824
         },
         {
          "Date": "2014-07",
          "Frequency": "Annual",
          "Inflation": "General",
          "rate": 0.07881882770870341
         },
         {
          "Date": "2014-07",
          "Frequency": "Monthly",
          "Inflation": "Food",
          "rate": 0.027899399246512635
         },
         {
          "Date": "2014-07",
          "Frequency": "Annual",
          "Inflation": "Food",
          "rate": 0.06196086682095525
         },
         {
          "Date": "2014-08",
          "Frequency": "Monthly",
          "Inflation": "General",
          "rate": 0.0032928586128833093
         },
         {
          "Date": "2014-08",
          "Frequency": "Annual",
          "Inflation": "General",
          "rate": 0.07001755926251096
         },
         {
          "Date": "2014-08",
          "Frequency": "Monthly",
          "Inflation": "Food",
          "rate": 0.0058444774640911135
         },
         {
          "Date": "2014-08",
          "Frequency": "Annual",
          "Inflation": "Food",
          "rate": 0.04648046995774502
         },
         {
          "Date": "2014-09",
          "Frequency": "Monthly",
          "Inflation": "General",
          "rate": 0.0034871794871795814
         },
         {
          "Date": "2014-09",
          "Frequency": "Annual",
          "Inflation": "General",
          "rate": 0.07682148360114471
         },
         {
          "Date": "2014-09",
          "Frequency": "Monthly",
          "Inflation": "Food",
          "rate": 0
         },
         {
          "Date": "2014-09",
          "Frequency": "Annual",
          "Inflation": "Food",
          "rate": 0.06469539687532766
         },
         {
          "Date": "2014-10",
          "Frequency": "Monthly",
          "Inflation": "General",
          "rate": 0.0020441537203597093
         },
         {
          "Date": "2014-10",
          "Frequency": "Annual",
          "Inflation": "General",
          "rate": 0.0581759309228278
         },
         {
          "Date": "2014-10",
          "Frequency": "Monthly",
          "Inflation": "Food",
          "rate": -0.001969667126255681
         },
         {
          "Date": "2014-10",
          "Frequency": "Annual",
          "Inflation": "Food",
          "rate": 0.04398887400844753
         },
         {
          "Date": "2014-11",
          "Frequency": "Monthly",
          "Inflation": "General",
          "rate": -0.005099959200326354
         },
         {
          "Date": "2014-11",
          "Frequency": "Annual",
          "Inflation": "General",
          "rate": 0.03965039437220219
         },
         {
          "Date": "2014-11",
          "Frequency": "Monthly",
          "Inflation": "Food",
          "rate": -0.004835208209986286
         },
         {
          "Date": "2014-11",
          "Frequency": "Annual",
          "Inflation": "Food",
          "rate": 0.010824897263706612
         },
         {
          "Date": "2014-12",
          "Frequency": "Monthly",
          "Inflation": "General",
          "rate": -0.010047160139429967
         },
         {
          "Date": "2014-12",
          "Frequency": "Annual",
          "Inflation": "General",
          "rate": 0.04298984661914029
         },
         {
          "Date": "2014-12",
          "Frequency": "Monthly",
          "Inflation": "Food",
          "rate": -0.023004462072384713
         },
         {
          "Date": "2014-12",
          "Frequency": "Annual",
          "Inflation": "Food",
          "rate": 0.02539286085961079
         },
         {
          "Date": "2015-01",
          "Frequency": "Monthly",
          "Inflation": "General",
          "rate": 0.0008285004142500885
         },
         {
          "Date": "2015-01",
          "Frequency": "Annual",
          "Inflation": "General",
          "rate": 0.03880468666021719
         },
         {
          "Date": "2015-01",
          "Frequency": "Monthly",
          "Inflation": "Food",
          "rate": -0.004973104638181236
         },
         {
          "Date": "2015-01",
          "Frequency": "Annual",
          "Inflation": "Food",
          "rate": 0.021356391290759502
         },
         {
          "Date": "2015-02",
          "Frequency": "Monthly",
          "Inflation": "General",
          "rate": -0.009312913907284837
         },
         {
          "Date": "2015-02",
          "Frequency": "Annual",
          "Inflation": "General",
          "rate": 0.03234850118611177
         },
         {
          "Date": "2015-02",
          "Frequency": "Monthly",
          "Inflation": "Food",
          "rate": -0.020093839249286094
         },
         {
          "Date": "2015-02",
          "Frequency": "Annual",
          "Inflation": "Food",
          "rate": 0.01190225405519274
         },
         {
          "Date": "2015-03",
          "Frequency": "Monthly",
          "Inflation": "General",
          "rate": 0.0022978901190724432
         },
         {
          "Date": "2015-03",
          "Frequency": "Annual",
          "Inflation": "General",
          "rate": 0.0248851863718893
         },
         {
          "Date": "2015-03",
          "Frequency": "Monthly",
          "Inflation": "Food",
          "rate": 0.005412719891745743
         },
         {
          "Date": "2015-03",
          "Frequency": "Annual",
          "Inflation": "Food",
          "rate": -0.004842365547084282
         },
         {
          "Date": "2015-04",
          "Frequency": "Monthly",
          "Inflation": "General",
          "rate": 0.013234681117132219
         },
         {
          "Date": "2015-04",
          "Frequency": "Annual",
          "Inflation": "General",
          "rate": 0.021109010712035303
         },
         {
          "Date": "2015-04",
          "Frequency": "Monthly",
          "Inflation": "Food",
          "rate": 0.015322497152914227
         },
         {
          "Date": "2015-04",
          "Frequency": "Annual",
          "Inflation": "Food",
          "rate": -0.010493391181515599
         },
         {
          "Date": "2015-05",
          "Frequency": "Monthly",
          "Inflation": "General",
          "rate": 0.007610819705851979
         },
         {
          "Date": "2015-05",
          "Frequency": "Annual",
          "Inflation": "General",
          "rate": 0.03158892281773196
         },
         {
          "Date": "2015-05",
          "Frequency": "Monthly",
          "Inflation": "Food",
          "rate": 0.01927194860813697
         },
         {
          "Date": "2015-05",
          "Frequency": "Annual",
          "Inflation": "Food",
          "rate": 0.02219040801717953
         },
         {
          "Date": "2015-06",
          "Frequency": "Monthly",
          "Inflation": "General",
          "rate": 0.006124323772583429
         },
         {
          "Date": "2015-06",
          "Frequency": "Annual",
          "Inflation": "General",
          "rate": 0.03160648874934591
         },
         {
          "Date": "2015-06",
          "Frequency": "Monthly",
          "Inflation": "Food",
          "rate": 0.006202480992397064
         },
         {
          "Date": "2015-06",
          "Frequency": "Annual",
          "Inflation": "Food",
          "rate": 0.02413196212198354
         },
         {
          "Date": "2015-07",
          "Frequency": "Monthly",
          "Inflation": "General",
          "rate": 0.005072537283149048
         },
         {
          "Date": "2015-07",
          "Frequency": "Annual",
          "Inflation": "General",
          "rate": 0.019448446182341872
         },
         {
          "Date": "2015-07",
          "Frequency": "Monthly",
          "Inflation": "Food",
          "rate": 0.00039769337840533936
         },
         {
          "Date": "2015-07",
          "Frequency": "Annual",
          "Inflation": "Food",
          "rate": -0.00326894502228825
         },
         {
          "Date": "2015-08",
          "Frequency": "Monthly",
          "Inflation": "General",
          "rate": 0.0017159584132431238
         },
         {
          "Date": "2015-08",
          "Frequency": "Annual",
          "Inflation": "General",
          "rate": 0.017846153846153845
         },
         {
          "Date": "2015-08",
          "Frequency": "Monthly",
          "Inflation": "Food",
          "rate": 0.0034784337109918795
         },
         {
          "Date": "2015-08",
          "Frequency": "Annual",
          "Inflation": "Food",
          "rate": -0.005613551309828657
         },
         {
          "Date": "2015-09",
          "Frequency": "Monthly",
          "Inflation": "General",
          "rate": -0.0010076582023377245
         },
         {
          "Date": "2015-09",
          "Frequency": "Annual",
          "Inflation": "General",
          "rate": 0.013286999182338555
         },
         {
          "Date": "2015-09",
          "Frequency": "Monthly",
          "Inflation": "Food",
          "rate": -0.005051005249083973
         },
         {
          "Date": "2015-09",
          "Frequency": "Annual",
          "Inflation": "Food",
          "rate": -0.010636202481780654
         },
         {
          "Date": "2015-10",
          "Frequency": "Monthly",
          "Inflation": "General",
          "rate": 0.004841638087552891
         },
         {
          "Date": "2015-10",
          "Frequency": "Annual",
          "Inflation": "General",
          "rate": 0.016115871073031363
         },
         {
          "Date": "2015-10",
          "Frequency": "Monthly",
          "Inflation": "Food",
          "rate": 0.004578936890304641
         },
         {
          "Date": "2015-10",
          "Frequency": "Annual",
          "Inflation": "Food",
          "rate": -0.00414446417998815
         },
         {
          "Date": "2015-11",
          "Frequency": "Monthly",
          "Inflation": "General",
          "rate": 0.005922505520979504
         },
         {
          "Date": "2015-11",
          "Frequency": "Annual",
          "Inflation": "General",
          "rate": 0.027373385277834617
         },
         {
          "Date": "2015-11",
          "Frequency": "Monthly",
          "Inflation": "Food",
          "rate": 0.012485136741973824
         },
         {
          "Date": "2015-11",
          "Frequency": "Annual",
          "Inflation": "Food",
          "rate": 0.01318790282597937
         },
         {
          "Date": "2015-12",
          "Frequency": "Monthly",
          "Inflation": "General",
          "rate": -0.005688055084322907
         },
         {
          "Date": "2015-12",
          "Frequency": "Annual",
          "Inflation": "General",
          "rate": 0.03189726594863296
         },
         {
          "Date": "2015-12",
          "Frequency": "Monthly",
          "Inflation": "Food",
          "rate": -0.02182423174789594
         },
         {
          "Date": "2015-12",
          "Frequency": "Annual",
          "Inflation": "Food",
          "rate": 0.01441185425758662
         },
         {
          "Date": "2016-01",
          "Frequency": "Monthly",
          "Inflation": "General",
          "rate": 0.0021075873143314716
         },
         {
          "Date": "2016-01",
          "Frequency": "Annual",
          "Inflation": "General",
          "rate": 0.03321605960264895
         },
         {
          "Date": "2016-01",
          "Frequency": "Monthly",
          "Inflation": "Food",
          "rate": -0.0072036018009004055
         },
         {
          "Date": "2016-01",
          "Frequency": "Annual",
          "Inflation": "Food",
          "rate": 0.012137902896776742
         },
         {
          "Date": "2016-02",
          "Frequency": "Monthly",
          "Inflation": "General",
          "rate": -0.0025037556334501776
         },
         {
          "Date": "2016-02",
          "Frequency": "Annual",
          "Inflation": "General",
          "rate": 0.04031752663463539
         },
         {
          "Date": "2016-02",
          "Frequency": "Monthly",
          "Inflation": "Food",
          "rate": -0.007961302025597194
         },
         {
          "Date": "2016-02",
          "Frequency": "Annual",
          "Inflation": "Food",
          "rate": 0.024669511814302103
         },
         {
          "Date": "2016-03",
          "Frequency": "Monthly",
          "Inflation": "General",
          "rate": 0.0014056224899599012
         },
         {
          "Date": "2016-03",
          "Frequency": "Annual",
          "Inflation": "General",
          "rate": 0.03939141308878691
         },
         {
          "Date": "2016-03",
          "Frequency": "Monthly",
          "Inflation": "Food",
          "rate": 0.005282405526208844
         },
         {
          "Date": "2016-03",
          "Frequency": "Annual",
          "Inflation": "Food",
          "rate": 0.024536701521896687
         },
         {
          "Date": "2016-04",
          "Frequency": "Monthly",
          "Inflation": "General",
          "rate": 0.015540405053138251
         },
         {
          "Date": "2016-04",
          "Frequency": "Annual",
          "Inflation": "General",
          "rate": 0.04175665946724272
         },
         {
          "Date": "2016-04",
          "Frequency": "Monthly",
          "Inflation": "Food",
          "rate": 0.025262732417138167
         },
         {
          "Date": "2016-04",
          "Frequency": "Annual",
          "Inflation": "Food",
          "rate": 0.03456714591618226
         },
         {
          "Date": "2016-05",
          "Frequency": "Monthly",
          "Inflation": "General",
          "rate": -0.002171981439431425
         },
         {
          "Date": "2016-05",
          "Frequency": "Annual",
          "Inflation": "General",
          "rate": 0.03164233949168116
         },
         {
          "Date": "2016-05",
          "Frequency": "Monthly",
          "Inflation": "Food",
          "rate": -0.00877192982456143
         },
         {
          "Date": "2016-05",
          "Frequency": "Annual",
          "Inflation": "Food",
          "rate": 0.006102440976390566
         },
         {
          "Date": "2016-06",
          "Frequency": "Monthly",
          "Inflation": "General",
          "rate": 0.006431186306520287
         },
         {
          "Date": "2016-06",
          "Frequency": "Annual",
          "Inflation": "General",
          "rate": 0.031956984883839024
         },
         {
          "Date": "2016-06",
          "Frequency": "Monthly",
          "Inflation": "Food",
          "rate": 0.01252858705379345
         },
         {
          "Date": "2016-06",
          "Frequency": "Annual",
          "Inflation": "Food",
          "rate": 0.01242791807516408
         },
         {
          "Date": "2016-07",
          "Frequency": "Monthly",
          "Inflation": "General",
          "rate": 0.01337003539127024
         },
         {
          "Date": "2016-07",
          "Frequency": "Annual",
          "Inflation": "General",
          "rate": 0.04047643080650043
         },
         {
          "Date": "2016-07",
          "Frequency": "Monthly",
          "Inflation": "Food",
          "rate": 0.026809388196012973
         },
         {
          "Date": "2016-07",
          "Frequency": "Annual",
          "Inflation": "Food",
          "rate": 0.03915722520373688
         },
         {
          "Date": "2016-08",
          "Frequency": "Monthly",
          "Inflation": "General",
          "rate": -0.0029103608847497187
         },
         {
          "Date": "2016-08",
          "Frequency": "Annual",
          "Inflation": "General",
          "rate": 0.035671100362757
         },
         {
          "Date": "2016-08",
          "Frequency": "Monthly",
          "Inflation": "Food",
          "rate": -0.010711553175210442
         },
         {
          "Date": "2016-08",
          "Frequency": "Annual",
          "Inflation": "Food",
          "rate": 0.02446271169654346
         },
         {
          "Date": "2016-09",
          "Frequency": "Monthly",
          "Inflation": "General",
          "rate": 0.003599922163845193
         },
         {
          "Date": "2016-09",
          "Frequency": "Annual",
          "Inflation": "General",
          "rate": 0.0404478515230986
         },
         {
          "Date": "2016-09",
          "Frequency": "Monthly",
          "Inflation": "Food",
          "rate": 0.0017401392111369152
         },
         {
          "Date": "2016-09",
          "Frequency": "Annual",
          "Inflation": "Food",
          "rate": 0.03145530559426657
         },
         {
          "Date": "2016-10",
          "Frequency": "Monthly",
          "Inflation": "General",
          "rate": 0.01017935046049434
         },
         {
          "Date": "2016-10",
          "Frequency": "Annual",
          "Inflation": "General",
          "rate": 0.04597470387472402
         },
         {
          "Date": "2016-10",
          "Frequency": "Monthly",
          "Inflation": "Food",
          "rate": 0.008782088399922783
         },
         {
          "Date": "2016-10",
          "Frequency": "Annual",
          "Inflation": "Food",
          "rate": 0.03577090764962354
         },
         {
          "Date": "2016-11",
          "Frequency": "Monthly",
          "Inflation": "General",
          "rate": 0.005374280230326267
         },
         {
          "Date": "2016-11",
          "Frequency": "Annual",
          "Inflation": "General",
          "rate": 0.04540465023450757
         },
         {
          "Date": "2016-11",
          "Frequency": "Monthly",
          "Inflation": "Food",
          "rate": 0.0019133263178034987
         },
         {
          "Date": "2016-11",
          "Frequency": "Annual",
          "Inflation": "Food",
          "rate": 0.024955960070463856
         },
         {
          "Date": "2016-12",
          "Frequency": "Monthly",
          "Inflation": "General",
          "rate": -0.00658648339060719
         },
         {
          "Date": "2016-12",
          "Frequency": "Annual",
          "Inflation": "General",
          "rate": 0.04446005620232829
         },
         {
          "Date": "2016-12",
          "Frequency": "Monthly",
          "Inflation": "Food",
          "rate": -0.022534135395779642
         },
         {
          "Date": "2016-12",
          "Frequency": "Annual",
          "Inflation": "Food",
          "rate": 0.024212106053026483
         },
         {
          "Date": "2017-01",
          "Frequency": "Monthly",
          "Inflation": "General",
          "rate": 0.004708369366772436
         },
         {
          "Date": "2017-01",
          "Frequency": "Annual",
          "Inflation": "General",
          "rate": 0.04717075613420141
         },
         {
          "Date": "2017-01",
          "Frequency": "Monthly",
          "Inflation": "Food",
          "rate": -0.011722184233662225
         },
         {
          "Date": "2017-01",
          "Frequency": "Annual",
          "Inflation": "Food",
          "rate": 0.019550539151466317
         },
         {
          "Date": "2017-02",
          "Frequency": "Monthly",
          "Inflation": "General",
          "rate": 0.0040168324407039435
         },
         {
          "Date": "2017-02",
          "Frequency": "Annual",
          "Inflation": "General",
          "rate": 0.05401606425702821
         },
         {
          "Date": "2017-02",
          "Frequency": "Monthly",
          "Inflation": "Food",
          "rate": 0.003162992982109314
         },
         {
          "Date": "2017-02",
          "Frequency": "Annual",
          "Inflation": "Food",
          "rate": 0.03098334010564807
         },
         {
          "Date": "2017-03",
          "Frequency": "Monthly",
          "Inflation": "General",
          "rate": 0.011430748714040817
         },
         {
          "Date": "2017-03",
          "Frequency": "Annual",
          "Inflation": "General",
          "rate": 0.0645678764788451
         },
         {
          "Date": "2017-03",
          "Frequency": "Monthly",
          "Inflation": "Food",
          "rate": 0.020297566262686084
         },
         {
          "Date": "2017-03",
          "Frequency": "Annual",
          "Inflation": "Food",
          "rate": 0.046382376717865936
         },
         {
          "Date": "2017-04",
          "Frequency": "Monthly",
          "Inflation": "General",
          "rate": 0.006121680165756205
         },
         {
          "Date": "2017-04",
          "Frequency": "Annual",
          "Inflation": "General",
          "rate": 0.05469444170204363
         },
         {
          "Date": "2017-04",
          "Frequency": "Monthly",
          "Inflation": "Food",
          "rate": 0.018155480444229877
         },
         {
          "Date": "2017-04",
          "Frequency": "Annual",
          "Inflation": "Food",
          "rate": 0.039128720678099915
         },
         {
          "Date": "2017-05",
          "Frequency": "Monthly",
          "Inflation": "General",
          "rate": -0.004212299915754003
         },
         {
          "Date": "2017-05",
          "Frequency": "Annual",
          "Inflation": "General",
          "rate": 0.05253784505788062
         },
         {
          "Date": "2017-05",
          "Frequency": "Monthly",
          "Inflation": "Food",
          "rate": -0.0026557905719434283
         },
         {
          "Date": "2017-05",
          "Frequency": "Annual",
          "Inflation": "Food",
          "rate": 0.045540419608233185
         },
         {
          "Date": "2017-06",
          "Frequency": "Monthly",
          "Inflation": "General",
          "rate": 0.0014100394811056294
         },
         {
          "Date": "2017-06",
          "Frequency": "Annual",
          "Inflation": "General",
          "rate": 0.04728666928824232
         },
         {
          "Date": "2017-06",
          "Frequency": "Monthly",
          "Inflation": "Food",
          "rate": -0.0019971469329530533
         },
         {
          "Date": "2017-06",
          "Frequency": "Annual",
          "Inflation": "Food",
          "rate": 0.030541097908278525
         },
         {
          "Date": "2017-07",
          "Frequency": "Monthly",
          "Inflation": "General",
          "rate": 0.005350605463249725
         },
         {
          "Date": "2017-07",
          "Frequency": "Annual",
          "Inflation": "General",
          "rate": 0.03899883585564612
         },
         {
          "Date": "2017-07",
          "Frequency": "Monthly",
          "Inflation": "Food",
          "rate": 0.0035258242805413786
         },
         {
          "Date": "2017-07",
          "Frequency": "Annual",
          "Inflation": "Food",
          "rate": 0.007172915072685582
         },
         {
          "Date": "2017-08",
          "Frequency": "Monthly",
          "Inflation": "General",
          "rate": 0.0018674136321195078
         },
         {
          "Date": "2017-08",
          "Frequency": "Annual",
          "Inflation": "General",
          "rate": 0.043977427515080825
         },
         {
          "Date": "2017-08",
          "Frequency": "Monthly",
          "Inflation": "Food",
          "rate": 0.004273098471180292
         },
         {
          "Date": "2017-08",
          "Frequency": "Annual",
          "Inflation": "Food",
          "rate": 0.022428460943542117
         },
         {
          "Date": "2017-09",
          "Frequency": "Monthly",
          "Inflation": "General",
          "rate": 0.006523765144454741
         },
         {
          "Date": "2017-09",
          "Frequency": "Annual",
          "Inflation": "General",
          "rate": 0.04701890450799806
         },
         {
          "Date": "2017-09",
          "Frequency": "Monthly",
          "Inflation": "Food",
          "rate": 0.014088502269288927
         },
         {
          "Date": "2017-09",
          "Frequency": "Annual",
          "Inflation": "Food",
          "rate": 0.03503184713375784
         },
         {
          "Date": "2017-10",
          "Frequency": "Monthly",
          "Inflation": "General",
          "rate": 0.011111111111111072
         },
         {
          "Date": "2017-10",
          "Frequency": "Annual",
          "Inflation": "General",
          "rate": 0.04798464491362764
         },
         {
          "Date": "2017-10",
          "Frequency": "Monthly",
          "Inflation": "Food",
          "rate": 0.006247086247086253
         },
         {
          "Date": "2017-10",
          "Frequency": "Annual",
          "Inflation": "Food",
          "rate": 0.03243088108676928
         },
         {
          "Date": "2017-11",
          "Frequency": "Monthly",
          "Inflation": "General",
          "rate": 0.0073260073260073
         },
         {
          "Date": "2017-11",
          "Frequency": "Annual",
          "Inflation": "General",
          "rate": 0.05001909125620463
         },
         {
          "Date": "2017-11",
          "Frequency": "Monthly",
          "Inflation": "Food",
          "rate": 0.003891771682728029
         },
         {
          "Date": "2017-11",
          "Frequency": "Annual",
          "Inflation": "Food",
          "rate": 0.03446958846557813
         },
         {
          "Date": "2017-12",
          "Frequency": "Monthly",
          "Inflation": "General",
          "rate": -0.0009090909090908594
         },
         {
          "Date": "2017-12",
          "Frequency": "Annual",
          "Inflation": "General",
          "rate": 0.056019986547516165
         },
         {
          "Date": "2017-12",
          "Frequency": "Monthly",
          "Inflation": "Food",
          "rate": -0.006276536828502932
         },
         {
          "Date": "2017-12",
          "Frequency": "Annual",
          "Inflation": "Food",
          "rate": 0.05167529549672745
         },
         {
          "Date": "2018-01",
          "Frequency": "Monthly",
          "Inflation": "General",
          "rate": 0.0009099181073701779
         },
         {
          "Date": "2018-01",
          "Frequency": "Annual",
          "Inflation": "General",
          "rate": 0.0520275439938791
         },
         {
          "Date": "2018-01",
          "Frequency": "Monthly",
          "Inflation": "Food",
          "rate": -0.012353706111833507
         },
         {
          "Date": "2018-01",
          "Frequency": "Annual",
          "Inflation": "Food",
          "rate": 0.051003261836512825
         },
         {
          "Date": "2018-02",
          "Frequency": "Monthly",
          "Inflation": "General",
          "rate": -0.0027272727272726893
         },
         {
          "Date": "2018-02",
          "Frequency": "Annual",
          "Inflation": "General",
          "rate": 0.04496094494189373
         },
         {
          "Date": "2018-02",
          "Frequency": "Monthly",
          "Inflation": "Food",
          "rate": -0.01288441643938687
         },
         {
          "Date": "2018-02",
          "Frequency": "Annual",
          "Inflation": "Food",
          "rate": 0.03419056064636905
         },
         {
          "Date": "2018-03",
          "Frequency": "Monthly",
          "Inflation": "General",
          "rate": 0.0027347310847767314
         },
         {
          "Date": "2018-03",
          "Frequency": "Annual",
          "Inflation": "General",
          "rate": 0.03597664343567519
         },
         {
          "Date": "2018-03",
          "Frequency": "Monthly",
          "Inflation": "Food",
          "rate": -0.0037157012195121464
         },
         {
          "Date": "2018-03",
          "Frequency": "Annual",
          "Inflation": "Food",
          "rate": 0.009850313858039472
         },
         {
          "Date": "2018-04",
          "Frequency": "Monthly",
          "Inflation": "General",
          "rate": 0.010000000000000009
         },
         {
          "Date": "2018-04",
          "Frequency": "Annual",
          "Inflation": "General",
          "rate": 0.0399700458672656
         },
         {
          "Date": "2018-04",
          "Frequency": "Monthly",
          "Inflation": "Food",
          "rate": 0.015396385196519313
         },
         {
          "Date": "2018-04",
          "Frequency": "Annual",
          "Inflation": "Food",
          "rate": 0.007113724746277139
         },
         {
          "Date": "2018-05",
          "Frequency": "Monthly",
          "Inflation": "General",
          "rate": 0.005400540054005587
         },
         {
          "Date": "2018-05",
          "Frequency": "Annual",
          "Inflation": "General",
          "rate": 0.05000940026320744
         },
         {
          "Date": "2018-05",
          "Frequency": "Monthly",
          "Inflation": "Food",
          "rate": 0.010830664908645593
         },
         {
          "Date": "2018-05",
          "Frequency": "Annual",
          "Inflation": "Food",
          "rate": 0.020732287208749423
         },
         {
          "Date": "2018-06",
          "Frequency": "Monthly",
          "Inflation": "General",
          "rate": 0.008057296329453845
         },
         {
          "Date": "2018-06",
          "Frequency": "Annual",
          "Inflation": "General",
          "rate": 0.05697925467004583
         },
         {
          "Date": "2018-06",
          "Frequency": "Monthly",
          "Inflation": "Food",
          "rate": 0.009223888940650182
         },
         {
          "Date": "2018-06",
          "Frequency": "Annual",
          "Inflation": "Food",
          "rate": 0.032208881265485045
         },
         {
          "Date": "2018-07",
          "Frequency": "Monthly",
          "Inflation": "General",
          "rate": 0.015097690941385356
         },
         {
          "Date": "2018-07",
          "Frequency": "Annual",
          "Inflation": "General",
          "rate": 0.0672268907563025
         },
         {
          "Date": "2018-07",
          "Frequency": "Monthly",
          "Inflation": "Food",
          "rate": 0.006370014771048815
         },
         {
          "Date": "2018-07",
          "Frequency": "Annual",
          "Inflation": "Food",
          "rate": 0.0351343652074827
         },
         {
          "Date": "2018-08",
          "Frequency": "Monthly",
          "Inflation": "General",
          "rate": -0.0032370953630794785
         },
         {
          "Date": "2018-08",
          "Frequency": "Annual",
          "Inflation": "General",
          "rate": 0.06178937558247921
         },
         {
          "Date": "2018-08",
          "Frequency": "Monthly",
          "Inflation": "Food",
          "rate": 0.0021098981744793743
         },
         {
          "Date": "2018-08",
          "Frequency": "Annual",
          "Inflation": "Food",
          "rate": 0.03290468986384254
         },
         {
          "Date": "2018-09",
          "Frequency": "Monthly",
          "Inflation": "General",
          "rate": -0.00026331958219960594
         },
         {
          "Date": "2018-09",
          "Frequency": "Annual",
          "Inflation": "General",
          "rate": 0.054629629629629584
         },
         {
          "Date": "2018-09",
          "Frequency": "Monthly",
          "Inflation": "Food",
          "rate": -0.007231783229586175
         },
         {
          "Date": "2018-09",
          "Frequency": "Annual",
          "Inflation": "Food",
          "rate": 0.01118881118881121
         },
         {
          "Date": "2018-10",
          "Frequency": "Monthly",
          "Inflation": "General",
          "rate": 0.021246707638279183
         },
         {
          "Date": "2018-10",
          "Frequency": "Annual",
          "Inflation": "General",
          "rate": 0.06520146520146519
         },
         {
          "Date": "2018-10",
          "Frequency": "Monthly",
          "Inflation": "Food",
          "rate": 0.02978331028123571
         },
         {
          "Date": "2018-10",
          "Frequency": "Annual",
          "Inflation": "Food",
          "rate": 0.03484062268346921
         },
         {
          "Date": "2018-11",
          "Frequency": "Monthly",
          "Inflation": "General",
          "rate": -0.0012035763411277767
         },
         {
          "Date": "2018-11",
          "Frequency": "Annual",
          "Inflation": "General",
          "rate": 0.05618181818181833
         },
         {
          "Date": "2018-11",
          "Frequency": "Monthly",
          "Inflation": "Food",
          "rate": -0.005820200573065981
         },
         {
          "Date": "2018-11",
          "Frequency": "Annual",
          "Inflation": "Food",
          "rate": 0.02482924127745978
         },
         {
          "Date": "2018-12",
          "Frequency": "Monthly",
          "Inflation": "General",
          "rate": -0.003098640041315326
         },
         {
          "Date": "2018-12",
          "Frequency": "Annual",
          "Inflation": "General",
          "rate": 0.053867151956323855
         },
         {
          "Date": "2018-12",
          "Frequency": "Monthly",
          "Inflation": "Food",
          "rate": -0.019454201567143947
         },
         {
          "Date": "2018-12",
          "Frequency": "Annual",
          "Inflation": "Food",
          "rate": 0.011239086011517907
         },
         {
          "Date": "2019-01",
          "Frequency": "Monthly",
          "Inflation": "General",
          "rate": 0.0025902262130894638
         },
         {
          "Date": "2019-01",
          "Frequency": "Annual",
          "Inflation": "General",
          "rate": 0.055636363636363706
         },
         {
          "Date": "2019-01",
          "Frequency": "Monthly",
          "Inflation": "Food",
          "rate": 0.0011940846881601797
         },
         {
          "Date": "2019-01",
          "Frequency": "Annual",
          "Inflation": "Food",
          "rate": 0.025110505031505692
         },
         {
          "Date": "2019-02",
          "Frequency": "Monthly",
          "Inflation": "General",
          "rate": 0.008611780916293554
         },
         {
          "Date": "2019-02",
          "Frequency": "Annual",
          "Inflation": "General",
          "rate": 0.0676390154968094
         },
         {
          "Date": "2019-02",
          "Frequency": "Monthly",
          "Inflation": "Food",
          "rate": 0.023944954128440443
         },
         {
          "Date": "2019-02",
          "Frequency": "Annual",
          "Inflation": "Food",
          "rate": 0.06335746951219523
         },
         {
          "Date": "2019-03",
          "Frequency": "Monthly",
          "Inflation": "General",
          "rate": 0.01997950819672112
         },
         {
          "Date": "2019-03",
          "Frequency": "Annual",
          "Inflation": "General",
          "rate": 0.08599999999999985
         },
         {
          "Date": "2019-03",
          "Frequency": "Monthly",
          "Inflation": "Food",
          "rate": 0.03261356509273372
         },
         {
          "Date": "2019-03",
          "Frequency": "Annual",
          "Inflation": "Food",
          "rate": 0.10213254279430051
         },
         {
          "Date": "2019-04",
          "Frequency": "Monthly",
          "Inflation": "General",
          "rate": 0.007282772476142618
         },
         {
          "Date": "2019-04",
          "Frequency": "Annual",
          "Inflation": "General",
          "rate": 0.08307830783078307
         },
         {
          "Date": "2019-04",
          "Frequency": "Monthly",
          "Inflation": "Food",
          "rate": 0.010065075921908972
         },
         {
          "Date": "2019-04",
          "Frequency": "Annual",
          "Inflation": "Food",
          "rate": 0.09634582783951773
         },
         {
          "Date": "2019-05",
          "Frequency": "Monthly",
          "Inflation": "General",
          "rate": 0.005983545250560995
         },
         {
          "Date": "2019-05",
          "Frequency": "Annual",
          "Inflation": "General",
          "rate": 0.08370635631154877
         },
         {
          "Date": "2019-05",
          "Frequency": "Monthly",
          "Inflation": "Food",
          "rate": 0.011253328751825498
         },
         {
          "Date": "2019-05",
          "Frequency": "Annual",
          "Inflation": "Food",
          "rate": 0.09680424857914849
         },
         {
          "Date": "2019-06",
          "Frequency": "Monthly",
          "Inflation": "General",
          "rate": 0.004791408508880712
         },
         {
          "Date": "2019-06",
          "Frequency": "Annual",
          "Inflation": "General",
          "rate": 0.08019538188277098
         },
         {
          "Date": "2019-06",
          "Frequency": "Monthly",
          "Inflation": "Food",
          "rate": 0.00025484199796133034
         },
         {
          "Date": "2019-06",
          "Frequency": "Annual",
          "Inflation": "Food",
          "rate": 0.08705686853766625
         },
         {
          "Date": "2019-07",
          "Frequency": "Monthly",
          "Inflation": "General",
          "rate": 0.01833429252651486
         },
         {
          "Date": "2019-07",
          "Frequency": "Annual",
          "Inflation": "General",
          "rate": 0.08363954505686788
         },
         {
          "Date": "2019-07",
          "Frequency": "Monthly",
          "Inflation": "Food",
          "rate": 0.010191082802547768
         },
         {
          "Date": "2019-07",
          "Frequency": "Annual",
          "Inflation": "Food",
          "rate": 0.09118429501880554
         },
         {
          "Date": "2019-08",
          "Frequency": "Monthly",
          "Inflation": "General",
          "rate": 0.016389471984498583
         },
         {
          "Date": "2019-08",
          "Frequency": "Annual",
          "Inflation": "General",
          "rate": 0.10497674010357239
         },
         {
          "Date": "2019-08",
          "Frequency": "Monthly",
          "Inflation": "Food",
          "rate": 0.03421605716687681
         },
         {
          "Date": "2019-08",
          "Frequency": "Annual",
          "Inflation": "Food",
          "rate": 0.12614426949835233
         },
         {
          "Date": "2019-09",
          "Frequency": "Monthly",
          "Inflation": "General",
          "rate": 0.007705139407419237
         },
         {
          "Date": "2019-09",
          "Frequency": "Annual",
          "Inflation": "General",
          "rate": 0.11378402107111496
         },
         {
          "Date": "2019-09",
          "Frequency": "Monthly",
          "Inflation": "Food",
          "rate": 0.021216062428873306
         },
         {
          "Date": "2019-09",
          "Frequency": "Annual",
          "Inflation": "Food",
          "rate": 0.15841401567542635
         },
         {
          "Date": "2019-10",
          "Frequency": "Monthly",
          "Inflation": "General",
          "rate": 0.018130222292290776
         },
         {
          "Date": "2019-10",
          "Frequency": "Annual",
          "Inflation": "General",
          "rate": 0.11038514442916103
         },
         {
          "Date": "2019-10",
          "Frequency": "Monthly",
          "Inflation": "Food",
          "rate": 0.02252646660829427
         },
         {
          "Date": "2019-10",
          "Frequency": "Annual",
          "Inflation": "Food",
          "rate": 0.1502507163323783
         },
         {
          "Date": "2019-11",
          "Frequency": "Monthly",
          "Inflation": "General",
          "rate": 0.013471663053576943
         },
         {
          "Date": "2019-11",
          "Frequency": "Annual",
          "Inflation": "General",
          "rate": 0.1266999483559994
         },
         {
          "Date": "2019-11",
          "Frequency": "Monthly",
          "Inflation": "Food",
          "rate": 0.03199439514245661
         },
         {
          "Date": "2019-11",
          "Frequency": "Annual",
          "Inflation": "Food",
          "rate": 0.19400162118346387
         },
         {
          "Date": "2019-12",
          "Frequency": "Monthly",
          "Inflation": "General",
          "rate": -0.003437738731856488
         },
         {
          "Date": "2019-12",
          "Frequency": "Annual",
          "Inflation": "General",
          "rate": 0.12631669832498704
         },
         {
          "Date": "2019-12",
          "Frequency": "Monthly",
          "Inflation": "Food",
          "rate": -0.01659500641170697
         },
         {
          "Date": "2019-12",
          "Frequency": "Annual",
          "Inflation": "Food",
          "rate": 0.1974832368880315
         },
         {
          "Date": "2020-01",
          "Frequency": "Monthly",
          "Inflation": "General",
          "rate": 0.0198543503257953
         },
         {
          "Date": "2020-01",
          "Frequency": "Annual",
          "Inflation": "General",
          "rate": 0.14571133310368567
         },
         {
          "Date": "2020-01",
          "Frequency": "Monthly",
          "Inflation": "Food",
          "rate": 0.034056914934417426
         },
         {
          "Date": "2020-01",
          "Frequency": "Annual",
          "Inflation": "Food",
          "rate": 0.23678899082568816
         },
         {
          "Date": "2020-02",
          "Frequency": "Monthly",
          "Inflation": "General",
          "rate": -0.010523150932050584
         },
         {
          "Date": "2020-02",
          "Frequency": "Annual",
          "Inflation": "General",
          "rate": 0.12397540983606548
         },
         {
          "Date": "2020-02",
          "Frequency": "Monthly",
          "Inflation": "Food",
          "rate": -0.020102366293301754
         },
         {
          "Date": "2020-02",
          "Frequency": "Annual",
          "Inflation": "Food",
          "rate": 0.1835857002060748
         },
         {
          "Date": "2020-03",
          "Frequency": "Monthly",
          "Inflation": "General",
          "rate": 0.00037982376177470023
         },
         {
          "Date": "2020-03",
          "Frequency": "Annual",
          "Inflation": "General",
          "rate": 0.10237736480830417
         },
         {
          "Date": "2020-03",
          "Frequency": "Monthly",
          "Inflation": "Food",
          "rate": 0.0006056018168054678
         },
         {
          "Date": "2020-03",
          "Frequency": "Annual",
          "Inflation": "Food",
          "rate": 0.14689804772234272
         },
         {
          "Date": "2020-04",
          "Frequency": "Monthly",
          "Inflation": "General",
          "rate": -0.00835295011010706
         },
         {
          "Date": "2020-04",
          "Frequency": "Annual",
          "Inflation": "General",
          "rate": 0.08526551982049368
         },
         {
          "Date": "2020-04",
          "Frequency": "Monthly",
          "Inflation": "Food",
          "rate": -0.016417007111514725
         },
         {
          "Date": "2020-04",
          "Frequency": "Annual",
          "Inflation": "Food",
          "rate": 0.11682845116398921
         },
         {
          "Date": "2020-05",
          "Frequency": "Monthly",
          "Inflation": "General",
          "rate": 0.0032161727544222085
         },
         {
          "Date": "2020-05",
          "Frequency": "Annual",
          "Inflation": "General",
          "rate": 0.08228004956629498
         },
         {
          "Date": "2020-05",
          "Frequency": "Monthly",
          "Inflation": "Food",
          "rate": 0.01630643796631026
         },
         {
          "Date": "2020-05",
          "Frequency": "Annual",
          "Inflation": "Food",
          "rate": 0.12240910635406044
         },
         {
          "Date": "2020-06",
          "Frequency": "Monthly",
          "Inflation": "General",
          "rate": 0.008167315472101588
         },
         {
          "Date": "2020-06",
          "Frequency": "Annual",
          "Inflation": "General",
          "rate": 0.08591630354353375
         },
         {
          "Date": "2020-06",
          "Frequency": "Monthly",
          "Inflation": "Food",
          "rate": 0.020964201922349268
         },
         {
          "Date": "2020-06",
          "Frequency": "Annual",
          "Inflation": "Food",
          "rate": 0.14564755838641186
         },
         {
          "Date": "2020-07",
          "Frequency": "Monthly",
          "Inflation": "General",
          "rate": 0.024984857662022852
         },
         {
          "Date": "2020-07",
          "Frequency": "Annual",
          "Inflation": "General",
          "rate": 0.0930082351041499
         },
         {
          "Date": "2020-07",
          "Frequency": "Monthly",
          "Inflation": "Food",
          "rate": 0.0386212008895479
         },
         {
          "Date": "2020-07",
          "Frequency": "Annual",
          "Inflation": "Food",
          "rate": 0.17788986969314857
         },
         {
          "Date": "2020-08",
          "Frequency": "Monthly",
          "Inflation": "General",
          "rate": 0.00627862313487948
         },
         {
          "Date": "2020-08",
          "Frequency": "Annual",
          "Inflation": "General",
          "rate": 0.08213519739455077
         },
         {
          "Date": "2020-08",
          "Frequency": "Monthly",
          "Inflation": "Food",
          "rate": -0.008850189137106668
         },
         {
          "Date": "2020-08",
          "Frequency": "Annual",
          "Inflation": "Food",
          "rate": 0.1288408388879858
         },
         {
          "Date": "2020-09",
          "Frequency": "Monthly",
          "Inflation": "General",
          "rate": 0.015341701534170138
         },
         {
          "Date": "2020-09",
          "Frequency": "Annual",
          "Inflation": "General",
          "rate": 0.09033580324767465
         },
         {
          "Date": "2020-09",
          "Frequency": "Monthly",
          "Inflation": "Food",
          "rate": 0.03794916108590751
         },
         {
          "Date": "2020-09",
          "Frequency": "Annual",
          "Inflation": "Food",
          "rate": 0.14733741940619272
         },
         {
          "Date": "2020-10",
          "Frequency": "Monthly",
          "Inflation": "General",
          "rate": 0.016989589358010315
         },
         {
          "Date": "2020-10",
          "Frequency": "Annual",
          "Inflation": "General",
          "rate": 0.08911427686590279
         },
         {
          "Date": "2020-10",
          "Frequency": "Monthly",
          "Inflation": "Food",
          "rate": 0.03898987095879014
         },
         {
          "Date": "2020-10",
          "Frequency": "Annual",
          "Inflation": "Food",
          "rate": 0.16581036898645474
         },
         {
          "Date": "2020-11",
          "Frequency": "Monthly",
          "Inflation": "General",
          "rate": 0.008246250088860707
         },
         {
          "Date": "2020-11",
          "Frequency": "Annual",
          "Inflation": "General",
          "rate": 0.08349885408708935
         },
         {
          "Date": "2020-11",
          "Frequency": "Monthly",
          "Inflation": "Food",
          "rate": 0.01916399572649574
         },
         {
          "Date": "2020-11",
          "Frequency": "Annual",
          "Inflation": "Food",
          "rate": 0.15131628573583766
         },
         {
          "Date": "2020-12",
          "Frequency": "Monthly",
          "Inflation": "General",
          "rate": -0.006839173658605313
         },
         {
          "Date": "2020-12",
          "Frequency": "Annual",
          "Inflation": "General",
          "rate": 0.07980068991950962
         },
         {
          "Date": "2020-12",
          "Frequency": "Monthly",
          "Inflation": "Food",
          "rate": -0.03223481622223667
         },
         {
          "Date": "2020-12",
          "Frequency": "Annual",
          "Inflation": "Food",
          "rate": 0.13300605967630585
         },
         {
          "Date": "2021-01",
          "Frequency": "Monthly",
          "Inflation": "General",
          "rate": -0.002129774243930238
         },
         {
          "Date": "2021-01",
          "Frequency": "Annual",
          "Inflation": "General",
          "rate": 0.056524353577871445
         },
         {
          "Date": "2021-01",
          "Frequency": "Monthly",
          "Inflation": "Food",
          "rate": -0.026538487577009162
         },
         {
          "Date": "2021-01",
          "Frequency": "Annual",
          "Inflation": "Food",
          "rate": 0.06661226911950147
         },
         {
          "Date": "2021-02",
          "Frequency": "Monthly",
          "Inflation": "General",
          "rate": 0.017999430848036457
         },
         {
          "Date": "2021-02",
          "Frequency": "Annual",
          "Inflation": "General",
          "rate": 0.08697964144636905
         },
         {
          "Date": "2021-02",
          "Frequency": "Monthly",
          "Inflation": "Food",
          "rate": 0.00813686626330079
         },
         {
          "Date": "2021-02",
          "Frequency": "Annual",
          "Inflation": "Food",
          "rate": 0.09735049205147628
         },
         {
          "Date": "2021-03",
          "Frequency": "Monthly",
          "Inflation": "General",
          "rate": 0.0036340764553777216
         },
         {
          "Date": "2021-03",
          "Frequency": "Annual",
          "Inflation": "General",
          "rate": 0.09051560482952392
         },
         {
          "Date": "2021-03",
          "Frequency": "Monthly",
          "Inflation": "Food",
          "rate": 0.017453090507726365
         },
         {
          "Date": "2021-03",
          "Frequency": "Annual",
          "Inflation": "Food",
          "rate": 0.11582690270842799
         },
         {
          "Date": "2021-04",
          "Frequency": "Monthly",
          "Inflation": "General",
          "rate": 0.010305689018870412
         },
         {
          "Date": "2021-04",
          "Frequency": "Annual",
          "Inflation": "General",
          "rate": 0.11103453556933918
         },
         {
          "Date": "2021-04",
          "Frequency": "Monthly",
          "Inflation": "Food",
          "rate": 0.021764187402535606
         },
         {
          "Date": "2021-04",
          "Frequency": "Annual",
          "Inflation": "Food",
          "rate": 0.15914160449196224
         },
         {
          "Date": "2021-05",
          "Frequency": "Monthly",
          "Inflation": "General",
          "rate": 0.0010338410641670404
         },
         {
          "Date": "2021-05",
          "Frequency": "Annual",
          "Inflation": "General",
          "rate": 0.10861766277383422
         },
         {
          "Date": "2021-05",
          "Frequency": "Monthly",
          "Inflation": "Food",
          "rate": 0.0067684140676842475
         },
         {
          "Date": "2021-05",
          "Frequency": "Annual",
          "Inflation": "Food",
          "rate": 0.1482630742450617
         },
         {
          "Date": "2021-06",
          "Frequency": "Monthly",
          "Inflation": "General",
          "rate": -0.0028917653538971244
         },
         {
          "Date": "2021-06",
          "Frequency": "Annual",
          "Inflation": "General",
          "rate": 0.09645669291338566
         },
         {
          "Date": "2021-06",
          "Frequency": "Monthly",
          "Inflation": "Food",
          "rate": -0.017664118112312166
         },
         {
          "Date": "2021-06",
          "Frequency": "Annual",
          "Inflation": "Food",
          "rate": 0.10481838398813936
         },
         {
          "Date": "2021-07",
          "Frequency": "Monthly",
          "Inflation": "General",
          "rate": 0.01339593978732223
         },
         {
          "Date": "2021-07",
          "Frequency": "Annual",
          "Inflation": "General",
          "rate": 0.08405968385285867
         },
         {
          "Date": "2021-07",
          "Frequency": "Monthly",
          "Inflation": "Food",
          "rate": 0.01751207729468618
         },
         {
          "Date": "2021-07",
          "Frequency": "Annual",
          "Inflation": "Food",
          "rate": 0.08236385696952397
         },
         {
          "Date": "2021-08",
          "Frequency": "Monthly",
          "Inflation": "General",
          "rate": 0.005791768874352732
         },
         {
          "Date": "2021-08",
          "Frequency": "Annual",
          "Inflation": "General",
          "rate": 0.08353519782720409
         },
         {
          "Date": "2021-08",
          "Frequency": "Monthly",
          "Inflation": "Food",
          "rate": 0.006989779096604032
         },
         {
          "Date": "2021-08",
          "Frequency": "Annual",
          "Inflation": "Food",
          "rate": 0.09966155397134013
         },
         {
          "Date": "2021-09",
          "Frequency": "Monthly",
          "Inflation": "General",
          "rate": 0.02120452543865592
         },
         {
          "Date": "2021-09",
          "Frequency": "Annual",
          "Inflation": "General",
          "rate": 0.0897917871602083
         },
         {
          "Date": "2021-09",
          "Frequency": "Monthly",
          "Inflation": "Food",
          "rate": 0.04020692816449478
         },
         {
          "Date": "2021-09",
          "Frequency": "Annual",
          "Inflation": "Food",
          "rate": 0.10205355903982238
         },
         {
          "Date": "2021-10",
          "Frequency": "Monthly",
          "Inflation": "General",
          "rate": 0.019039405599044823
         },
         {
          "Date": "2021-10",
          "Frequency": "Annual",
          "Inflation": "General",
          "rate": 0.09198834150849522
         },
         {
          "Date": "2021-10",
          "Frequency": "Monthly",
          "Inflation": "Food",
          "rate": 0.02121498268807054
         },
         {
          "Date": "2021-10",
          "Frequency": "Annual",
          "Inflation": "Food",
          "rate": 0.08319978632478642
         },
         {
          "Date": "2021-11",
          "Frequency": "Monthly",
          "Inflation": "General",
          "rate": 0.029750667274266007
         },
         {
          "Date": "2021-11",
          "Frequency": "Annual",
          "Inflation": "General",
          "rate": 0.11527885496721413
         },
         {
          "Date": "2021-11",
          "Frequency": "Monthly",
          "Inflation": "Food",
          "rate": 0.03939095056096664
         },
         {
          "Date": "2021-11",
          "Frequency": "Annual",
          "Inflation": "Food",
          "rate": 0.10469763480311878
         },
         {
          "Date": "2021-12",
          "Frequency": "Monthly",
          "Inflation": "General",
          "rate": -0.00012643823492231032
         },
         {
          "Date": "2021-12",
          "Frequency": "Annual",
          "Inflation": "General",
          "rate": 0.12281698139997155
         },
         {
          "Date": "2021-12",
          "Frequency": "Monthly",
          "Inflation": "Food",
          "rate": -0.03350928177450929
         },
         {
          "Date": "2021-12",
          "Frequency": "Annual",
          "Inflation": "Food",
          "rate": 0.10324284070137435
         },
         {
          "Date": "2022-01",
          "Frequency": "Monthly",
          "Inflation": "General",
          "rate": 0.003920080930703174
         },
         {
          "Date": "2022-01",
          "Frequency": "Annual",
          "Inflation": "General",
          "rate": 0.12962435970404096
         },
         {
          "Date": "2022-01",
          "Frequency": "Monthly",
          "Inflation": "Food",
          "rate": -0.00447962690230741
         },
         {
          "Date": "2022-01",
          "Frequency": "Annual",
          "Inflation": "Food",
          "rate": 0.12824257597885813
         },
         {
          "Date": "2022-02",
          "Frequency": "Monthly",
          "Inflation": "General",
          "rate": 0.011525381030356607
         },
         {
          "Date": "2022-02",
          "Frequency": "Annual",
          "Inflation": "General",
          "rate": 0.12244042211195749
         },
         {
          "Date": "2022-02",
          "Frequency": "Monthly",
          "Inflation": "Food",
          "rate": 0.025149479134562114
         },
         {
          "Date": "2022-02",
          "Frequency": "Annual",
          "Inflation": "Food",
          "rate": 0.14728200883002196
         },
         {
          "Date": "2022-03",
          "Frequency": "Monthly",
          "Inflation": "General",
          "rate": 0.007907353215864443
         },
         {
          "Date": "2022-03",
          "Frequency": "Annual",
          "Inflation": "General",
          "rate": 0.12721955295592213
         },
         {
          "Date": "2022-03",
          "Frequency": "Monthly",
          "Inflation": "Food",
          "rate": 0.022548253261980733
         },
         {
          "Date": "2022-03",
          "Frequency": "Annual",
          "Inflation": "Food",
          "rate": 0.15302732388636509
         },
         {
          "Date": "2022-04",
          "Frequency": "Monthly",
          "Inflation": "General",
          "rate": 0.016184828267852724
         },
         {
          "Date": "2022-04",
          "Frequency": "Annual",
          "Inflation": "General",
          "rate": 0.13377903370321875
         },
         {
          "Date": "2022-04",
          "Frequency": "Monthly",
          "Inflation": "Food",
          "rate": 0.03716335411031402
         },
         {
          "Date": "2022-04",
          "Frequency": "Annual",
          "Inflation": "Food",
          "rate": 0.17040477770404783
         },
         {
          "Date": "2022-05",
          "Frequency": "Monthly",
          "Inflation": "General",
          "rate": 0.004437689969604808
         },
         {
          "Date": "2022-05",
          "Frequency": "Annual",
          "Inflation": "General",
          "rate": 0.13763426053428796
         },
         {
          "Date": "2022-05",
          "Frequency": "Monthly",
          "Inflation": "Food",
          "rate": 0.008617757115319202
         },
         {
          "Date": "2022-05",
          "Frequency": "Annual",
          "Inflation": "Food",
          "rate": 0.1725547060374375
         },
         {
          "Date": "2022-06",
          "Frequency": "Monthly",
          "Inflation": "General",
          "rate": 0.0634267384857472
         },
         {
          "Date": "2022-06",
          "Frequency": "Annual",
          "Inflation": "General",
          "rate": 0.21329926805689836
         },
         {
          "Date": "2022-06",
          "Frequency": "Monthly",
          "Inflation": "Food",
          "rate": 0.05491849353569411
         },
         {
          "Date": "2022-06",
          "Frequency": "Annual",
          "Inflation": "Food",
          "rate": 0.25919216317767035
         },
         {
          "Date": "2022-07",
          "Frequency": "Monthly",
          "Inflation": "General",
          "rate": 0.043480735302487084
         },
         {
          "Date": "2022-07",
          "Frequency": "Annual",
          "Inflation": "General",
          "rate": 0.24931861542654676
         },
         {
          "Date": "2022-07",
          "Frequency": "Monthly",
          "Inflation": "Food",
          "rate": 0.04049661640112978
         },
         {
          "Date": "2022-07",
          "Frequency": "Annual",
          "Inflation": "Food",
          "rate": 0.2876360039564787
         },
         {
          "Date": "2022-08",
          "Frequency": "Monthly",
          "Inflation": "General",
          "rate": 0.024488682847013887
         },
         {
          "Date": "2022-08",
          "Frequency": "Annual",
          "Inflation": "General",
          "rate": 0.2725425106700088
         },
         {
          "Date": "2022-08",
          "Frequency": "Monthly",
          "Inflation": "Food",
          "rate": 0.013007630460388109
         },
         {
          "Date": "2022-08",
          "Frequency": "Annual",
          "Inflation": "Food",
          "rate": 0.2953310195795953
         },
         {
          "Date": "2022-09",
          "Frequency": "Monthly",
          "Inflation": "General",
          "rate": -0.011499148211243648
         },
         {
          "Date": "2022-09",
          "Frequency": "Annual",
          "Inflation": "General",
          "rate": 0.2317898368050948
         },
         {
          "Date": "2022-09",
          "Frequency": "Monthly",
          "Inflation": "Food",
          "rate": 0.05763106010818464
         },
         {
          "Date": "2022-09",
          "Frequency": "Annual",
          "Inflation": "Food",
          "rate": 0.3170286433742526
         }
        ]
       },
       "encoding": {
        "color": {
         "field": "Inflation",
         "sort": [
          "General",
          "Food"
         ],
         "type": "nominal"
        },
        "strokeDash": {
         "field": "Frequency",
         "sort": [
          "Annual",
          "Monthly"
         ],
         "type": "nominal"
        },
        "tooltip": [
         {
          "field": "Inflation",
          "type": "nominal"
         },
         {
          "field": "Frequency",
          "type": "nominal"
         },
         {
          "field": "Date",
          "type": "nominal"
         },
         {
          "field": "rate",
          "type": "quantitative"
         }
        ],
        "x": {
         "field": "Date",
         "title": "Date",
         "type": "temporal"
        },
        "y": {
         "field": "rate",
         "title": "Rate",
         "type": "quantitative"
        }
       },
       "height": 300,
       "mark": {
        "size": 2,
        "type": "line"
       },
       "title": "Inflation: CPI (general and food) % growth rate by frequency, along time",
       "width": 400
      },
      "image/png": "[encoded data removed]",
      "text/plain": [
       "<VegaLite 4 object>\n",
       "\n",
       "If you see this message, it means the renderer has not been properly enabled\n",
       "for the frontend that you are using. For more information, see\n",
       "https://altair-viz.github.io/user_guide/troubleshooting.html\n"
      ]
     },
     "execution_count": 25,
     "metadata": {},
     "output_type": "execute_result"
    }
   ],
   "source": [
    "# Plot with all products\n",
    "plot = alt.Chart(source).mark_line(size = 2).encode(\n",
    "    alt.X('Date:T', title=\"Date\"),\n",
    "    alt.Y('rate:Q', title=\"Rate\"),\n",
    "    alt.Color('Inflation:N', sort=[\"General\",\"Food\"]),\n",
    "    alt.StrokeDash('Frequency:N', sort=[\"Annual\", \"Monthly\"]),\n",
    "    tooltip=['Inflation', 'Frequency', 'Date', 'rate']\n",
    ").properties(title=\"Inflation: CPI (general and food) % growth rate by frequency, along time\",\n",
    "             width=400, height=300\n",
    "            )\n",
    "plot"
   ]
  },
  {
   "cell_type": "markdown",
   "id": "32d60146",
   "metadata": {},
   "source": [
    "## 6. Additional comments\n",
    "This information will complement Food-prices data.\n",
    "\n",
    "I also look into other data as GDP and Macroeconomic data, but it is annual based, so I didn't use it.\n"
   ]
  },
  {
   "cell_type": "markdown",
   "id": "45399890",
   "metadata": {},
   "source": [
    "## 7. Save the clean database"
   ]
  },
  {
   "cell_type": "code",
   "execution_count": 26,
   "id": "50a44a78-15a2-477e-a15b-2aac17ee3648",
   "metadata": {},
   "outputs": [],
   "source": [
    "# save the data\n",
    "df.to_csv('../data/data_economic.csv')  "
   ]
  },
  {
   "cell_type": "markdown",
   "id": "56053559",
   "metadata": {},
   "source": [
    "## 8. References\n",
    "\n",
    "Database\n",
    "- Pakistan Bureau of Statistics. (2022). [CPI Monthly Price Indices](https://www.pbs.gov.pk/cpi).\n",
    "\n",
    "EDA\n",
    "- K. Katari. (Aug 21, 2020).[Exploratory Data Analysis(EDA): Python](https://towardsdatascience.com/exploratory-data-analysis-eda-python-87178e35b14). Towards Data Science.\n",
    "- J.M. Reid. (Oct 14, 2021). [13 ways to access data in Python](https://towardsdatascience.com/13-ways-to-access-data-in-python-bac5683e0063). Towards Data Science.\n",
    "- A.K. Garg, V. Cuspinera-Contreras, Y. Qian. (Oct 2020). [Bike Sharing Machine Learning Model, EDA section](https://github.com/vcuspinera/MDS_Bike_Sharing/blob/master/eda/EDA.ipynb).\\n\","
   ]
  },
  {
   "cell_type": "code",
   "execution_count": null,
   "id": "8e88d922",
   "metadata": {},
   "outputs": [],
   "source": []
  }
 ],
 "metadata": {
  "kernelspec": {
   "display_name": "Python 3",
   "language": "python",
   "name": "python3"
  },
  "language_info": {
   "codemirror_mode": {
    "name": "ipython",
    "version": 3
   },
   "file_extension": ".py",
   "mimetype": "text/x-python",
   "name": "python",
   "nbconvert_exporter": "python",
   "pygments_lexer": "ipython3",
   "version": "3.7.7"
  }
 },
 "nbformat": 4,
 "nbformat_minor": 5
}
