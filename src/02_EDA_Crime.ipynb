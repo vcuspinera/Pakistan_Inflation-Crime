{
 "cells": [
  {
   "cell_type": "markdown",
   "id": "05bdcc75",
   "metadata": {},
   "source": [
    "# 02 • EDA of Crime\n",
    "EDA is an iterative tool that would help us to look into the database and describe it's information.\n",
    "\n",
    "In this EDA I analyse the data from **crime data/rates**.\n",
    "\n",
    "## Content\n",
    "1. Sources selected\n",
    "2. Describe the data\n",
    "3. Cleaning data\n",
    "4. Missing values\n",
    "5. Analysis and Visualization\n",
    "6. Additional comments\n",
    "7. Save clean databases\n",
    "8. References"
   ]
  },
  {
   "cell_type": "markdown",
   "id": "cb508920",
   "metadata": {},
   "source": [
    "## 1. Sources selected\n",
    "\n",
    "For more info look into the jupyter notebook `01_Datacollection.ipynb` of this repo.\n",
    "\n",
    "### Crime\n",
    "TO-DO"
   ]
  },
  {
   "cell_type": "markdown",
   "id": "9c6bc143",
   "metadata": {},
   "source": [
    "## 2. Describe the data"
   ]
  },
  {
   "cell_type": "code",
   "execution_count": 113,
   "id": "8685c085",
   "metadata": {},
   "outputs": [],
   "source": [
    "# Import libraries\n",
    "import pandas as pd\n",
    "import numpy as np\n",
    "from datetime import datetime\n",
    "import re"
   ]
  },
  {
   "cell_type": "code",
   "execution_count": 114,
   "id": "7c35d652",
   "metadata": {},
   "outputs": [
    {
     "data": {
      "text/plain": [
       "RendererRegistry.enable('default')"
      ]
     },
     "execution_count": 114,
     "metadata": {},
     "output_type": "execute_result"
    }
   ],
   "source": [
    "## To install Altair look the following link\n",
    "##    https://altair-viz.github.io/getting_started/installation.html\n",
    "# !pip install altair vega_datasets #<--To install using `pip`\n",
    "# !conda install -c conda-forge altair vega_datasets #<--To install using `conda`\n",
    "\n",
    "import altair as alt\n",
    "alt.renderers.enable('default')"
   ]
  },
  {
   "cell_type": "markdown",
   "id": "8aada743",
   "metadata": {},
   "source": [
    "## 3. Missing values"
   ]
  },
  {
   "cell_type": "markdown",
   "id": "2d6954f9",
   "metadata": {},
   "source": [
    "## 4. Cleaning data\n"
   ]
  },
  {
   "cell_type": "markdown",
   "id": "8f9b1322",
   "metadata": {},
   "source": [
    "## 5. Analysis and Visualization"
   ]
  },
  {
   "cell_type": "markdown",
   "id": "8122978e",
   "metadata": {},
   "source": [
    "## 6. Additional comments\n",
    "\n"
   ]
  },
  {
   "cell_type": "markdown",
   "id": "82d6fb46",
   "metadata": {},
   "source": [
    "## 7. Save the clean database"
   ]
  },
  {
   "cell_type": "markdown",
   "id": "0b01067c",
   "metadata": {},
   "source": [
    "## 8. References\n",
    "\n",
    "Database\n",
    "\n",
    "\n",
    "EDA\n",
    "- K. Katari. (Aug 21, 2020).[Exploratory Data Analysis(EDA): Python](https://towardsdatascience.com/exploratory-data-analysis-eda-python-87178e35b14). Towards Data Science.\n",
    "- J.M. Reid. (Oct 14, 2021). [13 ways to access data in Python](https://towardsdatascience.com/13-ways-to-access-data-in-python-bac5683e0063). Towards Data Science.\n",
    "- A.K. Garg, V. Cuspinera-Contreras, Y. Qian. (Oct 2020). [Bike Sharing Machine Learning Model, EDA section](https://github.com/vcuspinera/MDS_Bike_Sharing/blob/master/eda/EDA.ipynb).\\n\","
   ]
  },
  {
   "cell_type": "code",
   "execution_count": null,
   "id": "c7eb77ea",
   "metadata": {},
   "outputs": [],
   "source": []
  }
 ],
 "metadata": {
  "kernelspec": {
   "display_name": "Python 3",
   "language": "python",
   "name": "python3"
  },
  "language_info": {
   "codemirror_mode": {
    "name": "ipython",
    "version": 3
   },
   "file_extension": ".py",
   "mimetype": "text/x-python",
   "name": "python",
   "nbconvert_exporter": "python",
   "pygments_lexer": "ipython3",
   "version": "3.7.7"
  }
 },
 "nbformat": 4,
 "nbformat_minor": 5
}
