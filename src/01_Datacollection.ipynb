{
 "cells": [
  {
   "cell_type": "markdown",
   "id": "418068e2",
   "metadata": {},
   "source": [
    "# 01 • Data collection\n",
    "EDA is an iterative tool that would help us to look into the database and describe it's information.\n",
    "\n",
    "## Content\n",
    "1. Food prices\n",
    "2. Economic data\n",
    "3. Crimes"
   ]
  },
  {
   "cell_type": "code",
   "execution_count": 1,
   "id": "53a3a5cf",
   "metadata": {},
   "outputs": [],
   "source": [
    "# Import libraries\n",
    "import pandas as pd\n",
    "#import numpy as np"
   ]
  },
  {
   "cell_type": "markdown",
   "id": "e790c7b2",
   "metadata": {},
   "source": [
    "## 1. Food prices\n",
    "**Sources:**\n",
    "National Center in Big Data and Cloud Computing (NCBC). (2020). [Pakistan Food Prices](https://opendata.com.pk/dataset/pakistan-food-prices). Open Data Pakistan.\n",
    "\n",
    "**Description**  \n",
    "This data set contains food prices data for Pakistan. Food prices data is from the World Food Programme and covers foods such as maize, rice, beans, fish, and sugar. Price trends can be studied across the years as the data goes back as far as 2004 for some food categories."
   ]
  },
  {
   "cell_type": "code",
   "execution_count": 2,
   "id": "74cfebde",
   "metadata": {},
   "outputs": [],
   "source": [
    "# Load dataset\n",
    "file = \"https://opendata.com.pk/dataset/ec1f8db6-4f93-4d11-b062-c38ac2a5d603/resource/9b42d48c-b689-44ca-a1df-8cf919c5e1d4/download/wfp_food_prices_pakistan.csv\"\n",
    "df_food = pd.read_csv(file)"
   ]
  },
  {
   "cell_type": "code",
   "execution_count": 7,
   "id": "eb1d0a71",
   "metadata": {},
   "outputs": [
    {
     "data": {
      "text/html": [
       "<div>\n",
       "<style scoped>\n",
       "    .dataframe tbody tr th:only-of-type {\n",
       "        vertical-align: middle;\n",
       "    }\n",
       "\n",
       "    .dataframe tbody tr th {\n",
       "        vertical-align: top;\n",
       "    }\n",
       "\n",
       "    .dataframe thead th {\n",
       "        text-align: right;\n",
       "    }\n",
       "</style>\n",
       "<table border=\"1\" class=\"dataframe\">\n",
       "  <thead>\n",
       "    <tr style=\"text-align: right;\">\n",
       "      <th></th>\n",
       "      <th>date</th>\n",
       "      <th>cmname</th>\n",
       "      <th>unit</th>\n",
       "      <th>category</th>\n",
       "      <th>price</th>\n",
       "      <th>currency</th>\n",
       "      <th>country</th>\n",
       "      <th>admname</th>\n",
       "      <th>adm1id</th>\n",
       "      <th>mktname</th>\n",
       "      <th>mktid</th>\n",
       "      <th>cmid</th>\n",
       "      <th>ptid</th>\n",
       "      <th>umid</th>\n",
       "      <th>catid</th>\n",
       "      <th>sn</th>\n",
       "      <th>default</th>\n",
       "    </tr>\n",
       "  </thead>\n",
       "  <tbody>\n",
       "    <tr>\n",
       "      <th>0</th>\n",
       "      <td>#date</td>\n",
       "      <td>#item+name</td>\n",
       "      <td>#item+unit</td>\n",
       "      <td>#item+type</td>\n",
       "      <td>#value</td>\n",
       "      <td>#currency</td>\n",
       "      <td>#country+name</td>\n",
       "      <td>#adm1+name</td>\n",
       "      <td>#adm1+code</td>\n",
       "      <td>#name+market</td>\n",
       "      <td>NaN</td>\n",
       "      <td>#item+code</td>\n",
       "      <td>NaN</td>\n",
       "      <td>NaN</td>\n",
       "      <td>#item+type+code</td>\n",
       "      <td>#meta+id</td>\n",
       "      <td>NaN</td>\n",
       "    </tr>\n",
       "    <tr>\n",
       "      <th>1</th>\n",
       "      <td>2004-01-15</td>\n",
       "      <td>Wheat flour - Retail</td>\n",
       "      <td>KG</td>\n",
       "      <td>cereals and tubers</td>\n",
       "      <td>13.0</td>\n",
       "      <td>PKR</td>\n",
       "      <td>Pakistan</td>\n",
       "      <td>Balochistan</td>\n",
       "      <td>2272</td>\n",
       "      <td>Quetta</td>\n",
       "      <td>295.0</td>\n",
       "      <td>58</td>\n",
       "      <td>15.0</td>\n",
       "      <td>5.0</td>\n",
       "      <td>1</td>\n",
       "      <td>295_58_15_5</td>\n",
       "      <td>NaN</td>\n",
       "    </tr>\n",
       "    <tr>\n",
       "      <th>2</th>\n",
       "      <td>2004-02-15</td>\n",
       "      <td>Wheat flour - Retail</td>\n",
       "      <td>KG</td>\n",
       "      <td>cereals and tubers</td>\n",
       "      <td>13.0</td>\n",
       "      <td>PKR</td>\n",
       "      <td>Pakistan</td>\n",
       "      <td>Balochistan</td>\n",
       "      <td>2272</td>\n",
       "      <td>Quetta</td>\n",
       "      <td>295.0</td>\n",
       "      <td>58</td>\n",
       "      <td>15.0</td>\n",
       "      <td>5.0</td>\n",
       "      <td>1</td>\n",
       "      <td>295_58_15_5</td>\n",
       "      <td>NaN</td>\n",
       "    </tr>\n",
       "    <tr>\n",
       "      <th>3</th>\n",
       "      <td>2004-03-15</td>\n",
       "      <td>Wheat flour - Retail</td>\n",
       "      <td>KG</td>\n",
       "      <td>cereals and tubers</td>\n",
       "      <td>14.25</td>\n",
       "      <td>PKR</td>\n",
       "      <td>Pakistan</td>\n",
       "      <td>Balochistan</td>\n",
       "      <td>2272</td>\n",
       "      <td>Quetta</td>\n",
       "      <td>295.0</td>\n",
       "      <td>58</td>\n",
       "      <td>15.0</td>\n",
       "      <td>5.0</td>\n",
       "      <td>1</td>\n",
       "      <td>295_58_15_5</td>\n",
       "      <td>NaN</td>\n",
       "    </tr>\n",
       "  </tbody>\n",
       "</table>\n",
       "</div>"
      ],
      "text/plain": [
       "         date                cmname        unit            category   price  \\\n",
       "0       #date            #item+name  #item+unit          #item+type  #value   \n",
       "1  2004-01-15  Wheat flour - Retail          KG  cereals and tubers    13.0   \n",
       "2  2004-02-15  Wheat flour - Retail          KG  cereals and tubers    13.0   \n",
       "3  2004-03-15  Wheat flour - Retail          KG  cereals and tubers   14.25   \n",
       "\n",
       "    currency        country      admname      adm1id       mktname  mktid  \\\n",
       "0  #currency  #country+name   #adm1+name  #adm1+code  #name+market    NaN   \n",
       "1        PKR       Pakistan  Balochistan        2272        Quetta  295.0   \n",
       "2        PKR       Pakistan  Balochistan        2272        Quetta  295.0   \n",
       "3        PKR       Pakistan  Balochistan        2272        Quetta  295.0   \n",
       "\n",
       "         cmid  ptid  umid            catid           sn  default  \n",
       "0  #item+code   NaN   NaN  #item+type+code     #meta+id      NaN  \n",
       "1          58  15.0   5.0                1  295_58_15_5      NaN  \n",
       "2          58  15.0   5.0                1  295_58_15_5      NaN  \n",
       "3          58  15.0   5.0                1  295_58_15_5      NaN  "
      ]
     },
     "execution_count": 7,
     "metadata": {},
     "output_type": "execute_result"
    }
   ],
   "source": [
    "df_food.head(4)"
   ]
  },
  {
   "cell_type": "markdown",
   "id": "32c8783c",
   "metadata": {},
   "source": [
    "## 2. Economic data\n",
    "\n",
    "**Sources:**\n",
    "\n",
    "- The Wolrd Bank. (2022). [Macroeconomic variables and development indicators of Pakistan].(https://data.worldbank.org/country/pakistan).\n",
    "- Trading Economics. (2022). [Pakistan Consumer Price Index (CPI)](https://tradingeconomics.com/pakistan/consumer-price-index-cpi).\n",
    "- Pakistan Bureau of Statistics. (2022). [CPI Monthly Price Indices](https://www.pbs.gov.pk/cpi).\n",
    "\n"
   ]
  },
  {
   "cell_type": "code",
   "execution_count": null,
   "id": "8b29c64d",
   "metadata": {},
   "outputs": [],
   "source": []
  },
  {
   "cell_type": "markdown",
   "id": "6b102028",
   "metadata": {},
   "source": [
    "## 3. Crimes\n",
    "**Sources:**\n",
    "- Faisal Qureshi. (2021). [Pakistan Crimes dataset (2012-2017)](https://www.kaggle.com/datasets/mfaisalqureshi/pakistan-crimes-by-type). Kaggle.\n",
    "- Crime Investigation and Prevention Lab (CIPL). (2022). [Pakistan Food Prices](https://opendata.com.pk/dataset/pakistan-food-prices). Open Data Pakistan.\n",
    "\n",
    "👉 *Note: the CIPL has 5 dabatases, we should look into it and find which would be the best to use for the project*"
   ]
  },
  {
   "cell_type": "code",
   "execution_count": null,
   "id": "371fa290",
   "metadata": {},
   "outputs": [],
   "source": []
  },
  {
   "cell_type": "markdown",
   "id": "940bcbba",
   "metadata": {},
   "source": [
    "## 4. TO-DO\n",
    "The next steps of this task and project, would be:\n",
    "\n",
    "- Select the useful information for our project from the previous mentioned databases\n",
    "    - In order to do this point we should look and make an initial EDA on each database  \n",
    "\n",
    "\n",
    "- Merge the data in one database"
   ]
  },
  {
   "cell_type": "code",
   "execution_count": null,
   "id": "e9c5ed77",
   "metadata": {},
   "outputs": [],
   "source": []
  }
 ],
 "metadata": {
  "kernelspec": {
   "display_name": "Python 3",
   "language": "python",
   "name": "python3"
  },
  "language_info": {
   "codemirror_mode": {
    "name": "ipython",
    "version": 3
   },
   "file_extension": ".py",
   "mimetype": "text/x-python",
   "name": "python",
   "nbconvert_exporter": "python",
   "pygments_lexer": "ipython3",
   "version": "3.7.7"
  }
 },
 "nbformat": 4,
 "nbformat_minor": 5
}
